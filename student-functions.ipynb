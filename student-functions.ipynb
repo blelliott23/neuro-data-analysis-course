{
 "cells": [
  {
   "cell_type": "code",
   "execution_count": 1,
   "metadata": {},
   "outputs": [
    {
     "name": "stdout",
     "output_type": "stream",
     "text": [
      "91.5\n"
     ]
    }
   ],
   "source": [
    "def grade494(cp,hw,fp):\n",
    "    \"Calculate grade for BIO 494\"\n",
    "    return (.6*cp)+(.1*hw)+(.3*fp)\n",
    "    \n",
    "#call function \n",
    "G= grade494(95,90,85)\n",
    "print(G)"
   ]
  },
  {
   "cell_type": "code",
   "execution_count": 2,
   "metadata": {},
   "outputs": [
    {
     "name": "stdout",
     "output_type": "stream",
     "text": [
      "-83.93516581784871\n"
     ]
    }
   ],
   "source": [
    "def mem_volt(ko, ki):\n",
    "    \"returns value of potassium concentration outside and inside\"\n",
    "    from math import log10\n",
    "    return 58*log10(ko/ki)\n",
    "\n",
    "# Membrane potential (mV) when potassium concentration outside neuron is 5 mM and inside is 140 mM\n",
    "v = mem_volt(5,140)\n",
    "print(v)\n"
   ]
  },
  {
   "cell_type": "code",
   "execution_count": 4,
   "metadata": {},
   "outputs": [
    {
     "data": {
      "text/plain": [
       "98.6"
      ]
     },
     "execution_count": 4,
     "metadata": {},
     "output_type": "execute_result"
    }
   ],
   "source": [
    "def celsius_to_fahrenheit(degrees):\n",
    "   return (degrees * 9 / 5) + 32\n",
    "# Added by Dr. G\n",
    "celsius_to_fahrenheit(37)"
   ]
  },
  {
   "cell_type": "code",
   "execution_count": 5,
   "metadata": {},
   "outputs": [
    {
     "name": "stdout",
     "output_type": "stream",
     "text": [
      "no.\n"
     ]
    }
   ],
   "source": [
    "import random\n",
    "x= random.randint(0,9)\n",
    "def game(guess):\n",
    "   if guess == x:\n",
    "       print(\"you got it\")\n",
    "   else:\n",
    "       print(\"no.\")\n",
    "game(4)"
   ]
  },
  {
   "cell_type": "code",
   "execution_count": 6,
   "metadata": {},
   "outputs": [
    {
     "name": "stdout",
     "output_type": "stream",
     "text": [
      "-44.44444444444444 %\n",
      "What a shame, you lost money!\n"
     ]
    }
   ],
   "source": [
    "def ROI(x, y):\n",
    "   # cost: x\n",
    "   # revenue: y\n",
    "   \"calulate return on investment\"\n",
    "   return ((y - x)/(float(x)))*100\n",
    "\n",
    "r = ROI(18000,10000)\n",
    "print(r,\"%\")\n",
    "if r > 0:\n",
    "   print(\"Congrats! You made a profit.\")\n",
    "if r < 0:\n",
    "   print(\"What a shame, you lost money!\")"
   ]
  },
  {
   "cell_type": "code",
   "execution_count": 7,
   "metadata": {},
   "outputs": [
    {
     "data": {
      "text/plain": [
       "'bam!'"
      ]
     },
     "execution_count": 7,
     "metadata": {},
     "output_type": "execute_result"
    }
   ],
   "source": [
    "def make_it_exciting(a):\n",
    "   #Adds an exclamation mark at the end of a string\n",
    "   return a + \"!\"\n",
    "# Added by Dr. G\n",
    "make_it_exciting('bam')"
   ]
  },
  {
   "cell_type": "code",
   "execution_count": 8,
   "metadata": {},
   "outputs": [
    {
     "name": "stdout",
     "output_type": "stream",
     "text": [
      "135.02000000000007\n"
     ]
    }
   ],
   "source": [
    "def volume_of_cake_frosting(r, h, th):\n",
    "   \"\"\"\"Return the volume of frosting needed to frost a cylindrical cake, given radius (r), height (h), and frosting thickness (th)\"\"\"\n",
    "   return (\n",
    "       ((2 * 3.14) * (((r + th) * h) + (r + th)**2))   # computes volume of top and sides of cake with frosting\n",
    "       - ((2 * 3.14) * (r * h + r**2))                 # computes and subtracts the volume of the cake\n",
    "       + (.5 * th**2 * 2 * 3.14 * r))                  # computes volume of frosting between sides and top of cake\n",
    "\n",
    "#Call the function\n",
    "cmcubed = volume_of_cake_frosting(10, 20, .5)\n",
    "print(cmcubed) # expect 135"
   ]
  },
  {
   "cell_type": "code",
   "execution_count": 9,
   "metadata": {},
   "outputs": [
    {
     "name": "stdout",
     "output_type": "stream",
     "text": [
      "977\n"
     ]
    }
   ],
   "source": [
    "def char_num(y):\n",
    "   return ord(y)\n",
    "print(char_num(\"ϑ\"))"
   ]
  },
  {
   "cell_type": "code",
   "execution_count": 10,
   "metadata": {},
   "outputs": [
    {
     "name": "stdout",
     "output_type": "stream",
     "text": [
      "function\n",
      "66\n"
     ]
    }
   ],
   "source": [
    "def apoptosis ():\n",
    "   print ('function')\n",
    "   q = 55 + 11\n",
    "   print (q)\n",
    "apoptosis ()"
   ]
  },
  {
   "cell_type": "code",
   "execution_count": 11,
   "metadata": {},
   "outputs": [
    {
     "name": "stdout",
     "output_type": "stream",
     "text": [
      "The volume of the rectangular prism is: 624\n"
     ]
    }
   ],
   "source": [
    "def vol_rectangular_prism(l,w,h):\n",
    "    \"\"\"\"Return the volume of a rectangular prism in cm**3\"\"\"\n",
    "    return l * w * h\n",
    "\n",
    "from random import randint\n",
    "a = [randint(1,20) for i in range(0,3)]\n",
    "b = vol_rectangular_prism(a[0],a[1],a[2])\n",
    "print(\"The volume of the rectangular prism is:\",b)"
   ]
  },
  {
   "cell_type": "code",
   "execution_count": 12,
   "metadata": {},
   "outputs": [
    {
     "name": "stdout",
     "output_type": "stream",
     "text": [
      "0 is even\n",
      "1 is odd\n",
      "2 is even\n",
      "3 is odd\n",
      "4 is even\n"
     ]
    }
   ],
   "source": [
    "def even_odd(x):\n",
    "   \"Tell if a number is even or odd\"\n",
    "   if x%2 == 1:\n",
    "       return \"is odd\"\n",
    "   else:\n",
    "       return \"is even\"\n",
    "\n",
    "for y in range(5):\n",
    "   print(y, even_odd(y))"
   ]
  },
  {
   "cell_type": "code",
   "execution_count": 13,
   "metadata": {},
   "outputs": [
    {
     "name": "stdout",
     "output_type": "stream",
     "text": [
      "My name is Becca\n"
     ]
    }
   ],
   "source": [
    "def mynameis (what):\n",
    "    txt = \"My \" + \"name \" + \"is \" + what \n",
    "    print (txt)\n",
    "mynameis(\"Becca\")"
   ]
  },
  {
   "cell_type": "code",
   "execution_count": 14,
   "metadata": {},
   "outputs": [
    {
     "name": "stdout",
     "output_type": "stream",
     "text": [
      "Good Morning, Vietnam!\n"
     ]
    }
   ],
   "source": [
    "def GoodMorning (name):\n",
    "   text = \"Good Morning, \" + name + \"!\"\n",
    "   print (text)\n",
    "GoodMorning(\"Vietnam\")"
   ]
  },
  {
   "cell_type": "code",
   "execution_count": 15,
   "metadata": {},
   "outputs": [
    {
     "name": "stdout",
     "output_type": "stream",
     "text": [
      "Will you have enough money to buy that doggy in the window?\n",
      "No way! You can't even pay your bills!\n"
     ]
    }
   ],
   "source": [
    "print (\"Will you have enough money to buy that doggy in the window?\")\n",
    "\n",
    "dog_cost = 1\n",
    "# weekly values\n",
    "paycheck = 0\n",
    "bills = 1\n",
    "\n",
    "def weeks(dog_cost, paycheck, bills):\n",
    "   return (dog_cost/(paycheck-bills))\n",
    "\n",
    "if dog_cost <= 0 or paycheck < 0 or bills < 0:\n",
    "   print (\"Enter positive values!\")\n",
    "elif weeks(dog_cost, paycheck, bills) < 0:\n",
    "   print (\"No way! You can't even pay your bills!\")\n",
    "elif weeks(dog_cost, paycheck, bills) <= 1:\n",
    "   print (\"Yes, right away!\")\n",
    "elif weeks(dog_cost, paycheck, bills) <= 4:\n",
    "   print (\"Yes, this month!\")\n",
    "elif weeks(dog_cost, paycheck, bills) <= 52:\n",
    "   print (\"Yes, this year!\")\n",
    "else:\n",
    "   print (\"Hmm... it may be a while :(\")"
   ]
  },
  {
   "cell_type": "code",
   "execution_count": 17,
   "metadata": {},
   "outputs": [
    {
     "name": "stdout",
     "output_type": "stream",
     "text": [
      "8\n"
     ]
    }
   ],
   "source": [
    "def multi (a,b):\n",
    "   return a*b\n",
    "m= multi (2,4) \n",
    "print(m)"
   ]
  },
  {
   "cell_type": "code",
   "execution_count": 18,
   "metadata": {},
   "outputs": [
    {
     "name": "stdout",
     "output_type": "stream",
     "text": [
      "Did you know that the Lunar New Year is on Friday, February 16, 2018\n"
     ]
    }
   ],
   "source": [
    "def homeWorkOne():\n",
    "   print (\"Did you know that the Lunar New Year is on Friday, February 16, 2018\")\n",
    "#end of function\n",
    "homeWorkOne() #function call"
   ]
  },
  {
   "cell_type": "code",
   "execution_count": 20,
   "metadata": {},
   "outputs": [
    {
     "data": {
      "text/plain": [
       "9"
      ]
     },
     "execution_count": 20,
     "metadata": {},
     "output_type": "execute_result"
    }
   ],
   "source": [
    "def greatest_factor(a): #returns the greatest factor of the absolute value of a non-zero integer excluding itself.\n",
    "    a = abs(a)\n",
    "    text1 = 'Please use an integer'\n",
    "    text2 = 'No factor besides itself'\n",
    "    text3 = 'Enter an integer besides 0'\n",
    "    if a==1:\n",
    "        return text2\n",
    "    elif a==0:\n",
    "        return text3\n",
    "    elif a%1 == 0:\n",
    "        for x in range (1,int(a)):\n",
    "            if a%x == 0:\n",
    "                factor = x\n",
    "        return factor\n",
    "    else: \n",
    "        return text1  \n",
    "# Added by Dr. G\n",
    "greatest_factor(18)"
   ]
  },
  {
   "cell_type": "markdown",
   "metadata": {},
   "source": [
    "### Not a function:"
   ]
  },
  {
   "cell_type": "code",
   "execution_count": 16,
   "metadata": {},
   "outputs": [
    {
     "name": "stdout",
     "output_type": "stream",
     "text": [
      "20 even\n"
     ]
    }
   ],
   "source": [
    "x= 20\n",
    "if x % 2 == 0:\n",
    "   print (x, \"even\")\n",
    "else:\n",
    "   print (x, \"odd\")"
   ]
  }
 ],
 "metadata": {
  "kernelspec": {
   "display_name": "Python 3.6",
   "language": "python",
   "name": "python36"
  },
  "language_info": {
   "codemirror_mode": {
    "name": "ipython",
    "version": 3
   },
   "file_extension": ".py",
   "mimetype": "text/x-python",
   "name": "python",
   "nbconvert_exporter": "python",
   "pygments_lexer": "ipython3",
   "version": "3.6.3"
  }
 },
 "nbformat": 4,
 "nbformat_minor": 2
}
