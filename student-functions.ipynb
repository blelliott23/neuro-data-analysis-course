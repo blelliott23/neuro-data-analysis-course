{
 "cells": [
  {
   "cell_type": "code",
   "execution_count": 1,
   "metadata": {},
   "outputs": [
    {
     "name": "stdout",
     "output_type": "stream",
     "text": [
      "Expecting True: True\n",
      "Expecting False: False\n",
      "The function returns True since the sum of the digits raised to the number of digits is 407.\n"
     ]
    }
   ],
   "source": [
    "# This function will check to see if a number is narcissitic\n",
    "def narc_check(num):\n",
    "    # By default, the check will return false\n",
    "    check = False\n",
    "\n",
    "    # Split the integer into digits by converting it to a list of its digits\n",
    "    num_string = str(num)\n",
    "    num_list = list(num_string)\n",
    "\n",
    "    # Create the sum of the digits and set the power to raise each digit to\n",
    "    power_sum = 0\n",
    "    power = len(num_list)\n",
    "    for i in num_list:\n",
    "        # Convert each digit back to an integer\n",
    "        i_int = int(i)\n",
    "        # This method of raising a number to a power is a few microseconds\n",
    "        # faster than using the python Math library for smaller integers\n",
    "        i_power = i_int**power\n",
    "        # Find the sum\n",
    "        power_sum += i_power\n",
    "    # Check if the number meets the definition of the narcissism property\n",
    "    if (power_sum == num): check = True\n",
    "    return check\n",
    "\n",
    "check_test = narc_check(407) # We are expecting true\n",
    "check_false = narc_check(408) # We are expecting false\n",
    "print(\"Expecting True: %s\\nExpecting False: %s\" % (check_test, check_false))\n",
    "\n",
    "# Proof that we are expecting the check test to be true\n",
    "check_proof = 4**3 + 0**3 + 7**3\n",
    "print(\"The function returns %s since the sum of the digits raised to the number of digits is %d.\" % (check_test, check_proof))"
   ]
  },
  {
   "cell_type": "code",
   "execution_count": 1,
   "metadata": {},
   "outputs": [
    {
     "name": "stdout",
     "output_type": "stream",
     "text": [
      "91.5\n"
     ]
    }
   ],
   "source": [
    "def grade494(cp,hw,fp):\n",
    "    \"Calculate grade for BIO 494\"\n",
    "    return (.6*cp)+(.1*hw)+(.3*fp)\n",
    "    \n",
    "#call function \n",
    "G= grade494(95,90,85)\n",
    "print(G)"
   ]
  },
  {
   "cell_type": "code",
   "execution_count": 27,
   "metadata": {},
   "outputs": [
    {
     "name": "stdout",
     "output_type": "stream",
     "text": [
      "19\n"
     ]
    }
   ],
   "source": [
    "def count_chickens(x,y,z):\n",
    "   \"Returns count of chickens seen over 3 days\"\n",
    "   return x + y + z \n",
    "\n",
    "from random import randint\n",
    "a = randint(0,10) #day1 number of chickens (random val between 0 and 10)\n",
    "b = randint(0,10) #day2 number of chickens\n",
    "c = randint(0,10) #day3 number of chickens\n",
    "f = count_chickens(a,b,c)\n",
    "print(f)"
   ]
  },
  {
   "cell_type": "code",
   "execution_count": 7,
   "metadata": {},
   "outputs": [
    {
     "name": "stdout",
     "output_type": "stream",
     "text": [
      "0.02461584011843079\n"
     ]
    }
   ],
   "source": [
    "#Using Ideal Gas Equation to find the Volume a Gas Occupies\n",
    "#n is the number of moles, R is ths gas constant, t is temp in Kelvin, and p is pressure in pascals\n",
    "# answer will be volume in meters cubed\n",
    "def volume(n, t, p, r=8.314):\n",
    "   \"compute the volume for a particular gas.\"\n",
    "   v1=(n*r*t)/p\n",
    "   return v1\n",
    "#volume with 1 mol of gas at a temp of 300K and 101325 Pascals\n",
    "v=volume(1,300,101325)\n",
    "print(v)"
   ]
  },
  {
   "cell_type": "code",
   "execution_count": 2,
   "metadata": {},
   "outputs": [
    {
     "name": "stdout",
     "output_type": "stream",
     "text": [
      "-83.93516581784871\n"
     ]
    }
   ],
   "source": [
    "def mem_volt(ko, ki):\n",
    "    \"returns value of potassium concentration outside and inside\"\n",
    "    from math import log10\n",
    "    return 58*log10(ko/ki)\n",
    "\n",
    "# Membrane potential (mV) when potassium concentration outside neuron is 5 mM and inside is 140 mM\n",
    "v = mem_volt(5,140)\n",
    "print(v)\n"
   ]
  },
  {
   "cell_type": "code",
   "execution_count": 4,
   "metadata": {},
   "outputs": [
    {
     "data": {
      "text/plain": [
       "98.6"
      ]
     },
     "execution_count": 4,
     "metadata": {},
     "output_type": "execute_result"
    }
   ],
   "source": [
    "def celsius_to_fahrenheit(degrees):\n",
    "   return (degrees * 9 / 5) + 32\n",
    "# Added by Dr. G\n",
    "celsius_to_fahrenheit(37)"
   ]
  },
  {
   "cell_type": "code",
   "execution_count": 5,
   "metadata": {},
   "outputs": [
    {
     "name": "stdout",
     "output_type": "stream",
     "text": [
      "no.\n"
     ]
    }
   ],
   "source": [
    "import random\n",
    "x= random.randint(0,9)\n",
    "def game(guess):\n",
    "   if guess == x:\n",
    "       print(\"you got it\")\n",
    "   else:\n",
    "       print(\"no.\")\n",
    "game(4)"
   ]
  },
  {
   "cell_type": "code",
   "execution_count": 6,
   "metadata": {},
   "outputs": [
    {
     "name": "stdout",
     "output_type": "stream",
     "text": [
      "-44.44444444444444 %\n",
      "What a shame, you lost money!\n"
     ]
    }
   ],
   "source": [
    "def ROI(x, y):\n",
    "   # cost: x\n",
    "   # revenue: y\n",
    "   \"calulate return on investment\"\n",
    "   return ((y - x)/(float(x)))*100\n",
    "\n",
    "r = ROI(18000,10000)\n",
    "print(r,\"%\")\n",
    "if r > 0:\n",
    "   print(\"Congrats! You made a profit.\")\n",
    "if r < 0:\n",
    "   print(\"What a shame, you lost money!\")"
   ]
  },
  {
   "cell_type": "code",
   "execution_count": 7,
   "metadata": {},
   "outputs": [
    {
     "data": {
      "text/plain": [
       "'bam!'"
      ]
     },
     "execution_count": 7,
     "metadata": {},
     "output_type": "execute_result"
    }
   ],
   "source": [
    "def make_it_exciting(a):\n",
    "   #Adds an exclamation mark at the end of a string\n",
    "   return a + \"!\"\n",
    "# Added by Dr. G\n",
    "make_it_exciting('bam')"
   ]
  },
  {
   "cell_type": "code",
   "execution_count": 8,
   "metadata": {},
   "outputs": [
    {
     "name": "stdout",
     "output_type": "stream",
     "text": [
      "135.02000000000007\n"
     ]
    }
   ],
   "source": [
    "def volume_of_cake_frosting(r, h, th):\n",
    "   \"\"\"\"Return the volume of frosting needed to frost a cylindrical cake, given radius (r), height (h), and frosting thickness (th)\"\"\"\n",
    "   return (\n",
    "       ((2 * 3.14) * (((r + th) * h) + (r + th)**2))   # computes volume of top and sides of cake with frosting\n",
    "       - ((2 * 3.14) * (r * h + r**2))                 # computes and subtracts the volume of the cake\n",
    "       + (.5 * th**2 * 2 * 3.14 * r))                  # computes volume of frosting between sides and top of cake\n",
    "\n",
    "#Call the function\n",
    "cmcubed = volume_of_cake_frosting(10, 20, .5)\n",
    "print(cmcubed) # expect 135"
   ]
  },
  {
   "cell_type": "code",
   "execution_count": 9,
   "metadata": {},
   "outputs": [
    {
     "name": "stdout",
     "output_type": "stream",
     "text": [
      "977\n"
     ]
    }
   ],
   "source": [
    "def char_num(y):\n",
    "   return ord(y)\n",
    "print(char_num(\"ϑ\"))"
   ]
  },
  {
   "cell_type": "code",
   "execution_count": 10,
   "metadata": {},
   "outputs": [
    {
     "name": "stdout",
     "output_type": "stream",
     "text": [
      "function\n",
      "66\n"
     ]
    }
   ],
   "source": [
    "def apoptosis ():\n",
    "   print ('function')\n",
    "   q = 55 + 11\n",
    "   print (q)\n",
    "apoptosis ()"
   ]
  },
  {
   "cell_type": "code",
   "execution_count": 11,
   "metadata": {},
   "outputs": [
    {
     "name": "stdout",
     "output_type": "stream",
     "text": [
      "The volume of the rectangular prism is: 624\n"
     ]
    }
   ],
   "source": [
    "def vol_rectangular_prism(l,w,h):\n",
    "    \"\"\"Return the volume of a rectangular prism in cm**3\"\"\"\n",
    "    return l * w * h\n",
    "\n",
    "from random import randint\n",
    "a = [randint(1,20) for i in range(0,3)]\n",
    "b = vol_rectangular_prism(a[0],a[1],a[2])\n",
    "print(\"The volume of the rectangular prism is:\",b)"
   ]
  },
  {
   "cell_type": "code",
   "execution_count": 12,
   "metadata": {},
   "outputs": [
    {
     "name": "stdout",
     "output_type": "stream",
     "text": [
      "0 is even\n",
      "1 is odd\n",
      "2 is even\n",
      "3 is odd\n",
      "4 is even\n"
     ]
    }
   ],
   "source": [
    "def even_odd(x):\n",
    "   \"Tell if a number is even or odd\"\n",
    "   if x%2 == 1:\n",
    "       return \"is odd\"\n",
    "   else:\n",
    "       return \"is even\"\n",
    "\n",
    "for y in range(5):\n",
    "   print(y, even_odd(y))"
   ]
  },
  {
   "cell_type": "code",
   "execution_count": 9,
   "metadata": {},
   "outputs": [
    {
     "name": "stdout",
     "output_type": "stream",
     "text": [
      "My name is Slim Shady\n"
     ]
    }
   ],
   "source": [
    "def mynameis (what):\n",
    "    txt = \"My \" + \"name \" + \"is \" + what \n",
    "    print (txt)\n",
    "mynameis(\"Slim Shady\")"
   ]
  },
  {
   "cell_type": "code",
   "execution_count": 14,
   "metadata": {},
   "outputs": [
    {
     "name": "stdout",
     "output_type": "stream",
     "text": [
      "Good Morning, Vietnam!\n"
     ]
    }
   ],
   "source": [
    "def GoodMorning (name):\n",
    "   text = \"Good Morning, \" + name + \"!\"\n",
    "   print (text)\n",
    "GoodMorning(\"Vietnam\")"
   ]
  },
  {
   "cell_type": "code",
   "execution_count": 15,
   "metadata": {},
   "outputs": [
    {
     "name": "stdout",
     "output_type": "stream",
     "text": [
      "Will you have enough money to buy that doggy in the window?\n",
      "No way! You can't even pay your bills!\n"
     ]
    }
   ],
   "source": [
    "print (\"Will you have enough money to buy that doggy in the window?\")\n",
    "\n",
    "dog_cost = 1\n",
    "# weekly values\n",
    "paycheck = 0\n",
    "bills = 1\n",
    "\n",
    "def weeks(dog_cost, paycheck, bills):\n",
    "   return (dog_cost/(paycheck-bills))\n",
    "\n",
    "if dog_cost <= 0 or paycheck < 0 or bills < 0:\n",
    "   print (\"Enter positive values!\")\n",
    "elif weeks(dog_cost, paycheck, bills) < 0:\n",
    "   print (\"No way! You can't even pay your bills!\")\n",
    "elif weeks(dog_cost, paycheck, bills) <= 1:\n",
    "   print (\"Yes, right away!\")\n",
    "elif weeks(dog_cost, paycheck, bills) <= 4:\n",
    "   print (\"Yes, this month!\")\n",
    "elif weeks(dog_cost, paycheck, bills) <= 52:\n",
    "   print (\"Yes, this year!\")\n",
    "else:\n",
    "   print (\"Hmm... it may be a while :(\")"
   ]
  },
  {
   "cell_type": "code",
   "execution_count": 17,
   "metadata": {},
   "outputs": [
    {
     "name": "stdout",
     "output_type": "stream",
     "text": [
      "8\n"
     ]
    }
   ],
   "source": [
    "def multi (a,b):\n",
    "   return a*b\n",
    "m= multi (2,4) \n",
    "print(m)"
   ]
  },
  {
   "cell_type": "code",
   "execution_count": 18,
   "metadata": {},
   "outputs": [
    {
     "name": "stdout",
     "output_type": "stream",
     "text": [
      "Did you know that the Lunar New Year is on Friday, February 16, 2018\n"
     ]
    }
   ],
   "source": [
    "def homeWorkOne():\n",
    "   print (\"Did you know that the Lunar New Year is on Friday, February 16, 2018\")\n",
    "#end of function\n",
    "homeWorkOne() #function call"
   ]
  },
  {
   "cell_type": "code",
   "execution_count": 20,
   "metadata": {},
   "outputs": [
    {
     "data": {
      "text/plain": [
       "9"
      ]
     },
     "execution_count": 20,
     "metadata": {},
     "output_type": "execute_result"
    }
   ],
   "source": [
    "def greatest_factor(a): #returns the greatest factor of the absolute value of a non-zero integer excluding itself.\n",
    "    a = abs(a)\n",
    "    text1 = 'Please use an integer'\n",
    "    text2 = 'No factor besides itself'\n",
    "    text3 = 'Enter an integer besides 0'\n",
    "    if a==1:\n",
    "        return text2\n",
    "    elif a==0:\n",
    "        return text3\n",
    "    elif a%1 == 0:\n",
    "        for x in range (1,int(a)):\n",
    "            if a%x == 0:\n",
    "                factor = x\n",
    "        return factor\n",
    "    else: \n",
    "        return text1  \n",
    "# Added by Dr. G\n",
    "greatest_factor(18)"
   ]
  },
  {
   "cell_type": "code",
   "execution_count": 21,
   "metadata": {},
   "outputs": [
    {
     "name": "stdout",
     "output_type": "stream",
     "text": [
      "Perfect Square?\n",
      "1 1.0\n",
      "Perfect Square?\n",
      "2 No\n",
      "Perfect Square?\n",
      "3 No\n",
      "Perfect Square?\n",
      "4 2.0\n",
      "Perfect Square?\n",
      "5 No\n",
      "Perfect Square?\n",
      "6 No\n",
      "Perfect Square?\n",
      "7 No\n",
      "Perfect Square?\n",
      "8 No\n",
      "Perfect Square?\n",
      "9 3.0\n",
      "Perfect Square?\n",
      "10 No\n"
     ]
    }
   ],
   "source": [
    "def square_root(x): #for numbers 1,...,10\n",
    "   if (x**(0.5)==1 or x**(0.5)==2 or x**(0.5)==3):\n",
    "       return x**(0.5)\n",
    "   else:\n",
    "       return \"No\"\n",
    "for n in range(1,11):\n",
    "   print(\"Perfect Square?\")\n",
    "   print(n,square_root(n))"
   ]
  },
  {
   "cell_type": "code",
   "execution_count": 16,
   "metadata": {},
   "outputs": [
    {
     "data": {
      "text/plain": [
       "'dlrowolleh'"
      ]
     },
     "execution_count": 16,
     "metadata": {},
     "output_type": "execute_result"
    }
   ],
   "source": [
    "s = \"helloworld\"\n",
    "s[::-1]"
   ]
  },
  {
   "cell_type": "code",
   "execution_count": 22,
   "metadata": {},
   "outputs": [
    {
     "name": "stdout",
     "output_type": "stream",
     "text": [
      "helloworld is not a palindrome\n",
      "tacocat is a palindrome\n"
     ]
    }
   ],
   "source": [
    "#Input word or phrase to be checked. Word or phrase must be entered in all the same case, with no spaces or punctuation.\n",
    "s = \"helloworld\"\n",
    "#Reverses the order of the word or phrase\n",
    "def word_reverser(s):\n",
    "    return s[::-1]\n",
    "#Defines the reversed string as \"rev\"    \n",
    "rev = s[::-1]\n",
    "#Checks to see if the entered word/phrase and its reverse are the same and prints whether or not it is is a palindrome\n",
    "if s == rev:\n",
    "    print (s,\"is a palindrome\")\n",
    "else:\n",
    "    print (s,\"is not a palindrome\")\n",
    "    \n",
    "    \n",
    "    \n",
    "    \n",
    "#Input word or phrase to be checked. Word or phrase must be entered in all the same case, with no spaces or punctuation.\n",
    "p = \"tacocat\"\n",
    "#Reverses the order of the word or phrase\n",
    "def word_reverser(p):\n",
    "    return p[::-1]\n",
    "#Defines the reversed string as \"rev\"    \n",
    "rev = p[::-1]\n",
    "#Checks to see if the entered word/phrase and its reverse are the same and prints whether or not it is a palindrome\n",
    "if p == rev:\n",
    "    print (p,\"is a palindrome\")\n",
    "else:\n",
    "    print (p,\"is not a palindrome\")"
   ]
  },
  {
   "cell_type": "code",
   "execution_count": 23,
   "metadata": {},
   "outputs": [
    {
     "name": "stdout",
     "output_type": "stream",
     "text": [
      "YOU SHALL NOT PASS.\n"
     ]
    }
   ],
   "source": [
    "# The function I wrote contains a message that sums up my experience as an electrical engineering major \n",
    "\n",
    "def passing():\n",
    "\treturn 'You shall not pass.'\n",
    "\n",
    "print(passing().upper())\n",
    "\n",
    "# The end result should display the message in all uppercase letters, thus also expressing the intensity of the statement."
   ]
  },
  {
   "cell_type": "code",
   "execution_count": 26,
   "metadata": {},
   "outputs": [
    {
     "data": {
      "text/plain": [
       "37.0"
      ]
     },
     "execution_count": 26,
     "metadata": {},
     "output_type": "execute_result"
    }
   ],
   "source": [
    "def farenheit_to_celsius (temp):\n",
    "   return ((temp - 32) * (5/9))\n",
    "# Added by Dr. G\n",
    "farenheit_to_celsius(98.6)"
   ]
  },
  {
   "cell_type": "code",
   "execution_count": 5,
   "metadata": {},
   "outputs": [
    {
     "data": {
      "text/plain": [
       "529"
      ]
     },
     "execution_count": 5,
     "metadata": {},
     "output_type": "execute_result"
    }
   ],
   "source": [
    "def square(x):\n",
    "    return x*x\n",
    "# Added by Dr. G\n",
    "square(23)"
   ]
  },
  {
   "cell_type": "markdown",
   "metadata": {},
   "source": [
    "### Python 2 compatible, not Python 3 compatible"
   ]
  },
  {
   "cell_type": "code",
   "execution_count": 19,
   "metadata": {},
   "outputs": [
    {
     "ename": "SyntaxError",
     "evalue": "invalid syntax (<ipython-input-19-d678dc4858b0>, line 3)",
     "output_type": "error",
     "traceback": [
      "\u001b[0;36m  File \u001b[0;32m\"<ipython-input-19-d678dc4858b0>\"\u001b[0;36m, line \u001b[0;32m3\u001b[0m\n\u001b[0;31m    print \"Homework due in %d...\" % (x)\u001b[0m\n\u001b[0m                                ^\u001b[0m\n\u001b[0;31mSyntaxError\u001b[0m\u001b[0;31m:\u001b[0m invalid syntax\n"
     ]
    }
   ],
   "source": [
    "\n",
    "for x in y[5:0:-1]:\n",
    "    print \"Homework due in %d...\" % (x)\n",
    "print \"Turn in your code!\""
   ]
  },
  {
   "cell_type": "code",
   "execution_count": 20,
   "metadata": {},
   "outputs": [
    {
     "name": "stdout",
     "output_type": "stream",
     "text": [
      "Homework due in 4...\n",
      "Homework due in 3...\n",
      "Homework due in 2...\n",
      "Homework due in 1...\n",
      "Turn in your code!\n"
     ]
    }
   ],
   "source": [
    "y = range(5)\n",
    "for x in y[5:0:-1]:\n",
    "    print(\"Homework due in %d...\" % (x))\n",
    "print(\"Turn in your code!\")"
   ]
  },
  {
   "cell_type": "markdown",
   "metadata": {},
   "source": [
    "### Not a function:"
   ]
  },
  {
   "cell_type": "code",
   "execution_count": 22,
   "metadata": {},
   "outputs": [
    {
     "name": "stdout",
     "output_type": "stream",
     "text": [
      "20 even\n"
     ]
    }
   ],
   "source": [
    "def my_function(x):\n",
    "    if x % 2 == 0:\n",
    "       print (x, \"even\")\n",
    "    else:\n",
    "       print (x, \"odd\")\n",
    "x= 20\n",
    "my_function(x)"
   ]
  },
  {
   "cell_type": "markdown",
   "metadata": {},
   "source": [
    "### Syntax errors:"
   ]
  },
  {
   "cell_type": "code",
   "execution_count": 26,
   "metadata": {},
   "outputs": [
    {
     "ename": "SyntaxError",
     "evalue": "invalid syntax (<ipython-input-26-a0219a29bbbe>, line 1)",
     "output_type": "error",
     "traceback": [
      "\u001b[0;36m  File \u001b[0;32m\"<ipython-input-26-a0219a29bbbe>\"\u001b[0;36m, line \u001b[0;32m1\u001b[0m\n\u001b[0;31m    def process_value(x)\u001b[0m\n\u001b[0m                        ^\u001b[0m\n\u001b[0;31mSyntaxError\u001b[0m\u001b[0;31m:\u001b[0m invalid syntax\n"
     ]
    }
   ],
   "source": [
    "def process_value(x)\n",
    "    \"\"\"return a value based on x input\"\"\"\n",
    "    if x > 0\n",
    "        return x*2\n",
    "    elif x <= 0 \n",
    "        return 0\n",
    "    elif x > 10 \n",
    "        return x**x\n",
    "    else:\n",
    "        return: x\n",
    "    \n",
    "print(\"Case A: 4 values\")\n",
    "for y in range(4)\n",
    "    print(process_value(y))\n",
    "    \n",
    "print(\"Case B: 8 values\")\n",
    "for y in range(8)\n",
    "    print (process_value(y))"
   ]
  },
  {
   "cell_type": "code",
   "execution_count": 24,
   "metadata": {},
   "outputs": [
    {
     "data": {
      "text/plain": [
       "81"
      ]
     },
     "execution_count": 24,
     "metadata": {},
     "output_type": "execute_result"
    }
   ],
   "source": [
    "def issa_function(a,b):\n",
    "\t\"\"\"a raised to the b power\"\"\"\n",
    "\n",
    "\treturn a**b\n",
    "# Added by Dr. G\n",
    "issa_function(3,4)"
   ]
  },
  {
   "cell_type": "markdown",
   "metadata": {},
   "source": [
    "### Screenshots"
   ]
  },
  {
   "cell_type": "markdown",
   "metadata": {},
   "source": [
    "<img src=\"https://mail.google.com/mail/u/0?ui=2&ik=dde201c1d8&attid=0.1&th=160df5434cafa77e&view=fimg&realattid=f_jc8ueswy0&disp=thd&attbid=ANGjdJ-l-PFceKbh5heqca2mFslFQKkqYRn7OWBYARFxGwfpxbpRM601Vjay5T4n9H8SQ1L1pBFJTUYBuldAt4f64JAdgzzdWBnsaYUsWVIMevAKmYV-kE5zp8ERhww&ats=2524608000000&sz=w1439-h899\">"
   ]
  },
  {
   "cell_type": "markdown",
   "metadata": {},
   "source": [
    "### Readability"
   ]
  },
  {
   "cell_type": "code",
   "execution_count": 6,
   "metadata": {},
   "outputs": [
    {
     "name": "stdout",
     "output_type": "stream",
     "text": [
      "Hello, Daenerys. How's it going?!\n"
     ]
    }
   ],
   "source": [
    "def greet(name):\n",
    " \"\"\"This function greets\n",
    " the person\"\"\"\n",
    " print(\"Hello, \" + name + \". How's it going?!\")\n",
    "# Added by Dr. G\n",
    "greet('Daenerys')"
   ]
  },
  {
   "cell_type": "markdown",
   "metadata": {},
   "source": [
    "```python\n",
    "def smith(x):\n",
    "    print(x**2)\n",
    "```"
   ]
  }
 ],
 "metadata": {
  "kernelspec": {
   "display_name": "Python 3.6",
   "language": "python",
   "name": "python36"
  },
  "language_info": {
   "codemirror_mode": {
    "name": "ipython",
    "version": 3
   },
   "file_extension": ".py",
   "mimetype": "text/x-python",
   "name": "python",
   "nbconvert_exporter": "python",
   "pygments_lexer": "ipython3",
   "version": "3.6.3"
  }
 },
 "nbformat": 4,
 "nbformat_minor": 2
}
