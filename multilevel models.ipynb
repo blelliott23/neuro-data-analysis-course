{
 "cells": [
  {
   "cell_type": "markdown",
   "metadata": {
    "collapsed": true,
    "slideshow": {
     "slide_type": "slide"
    }
   },
   "source": [
    "# Multilevel (Hierarchical Models)"
   ]
  },
  {
   "cell_type": "markdown",
   "metadata": {
    "slideshow": {
     "slide_type": "slide"
    }
   },
   "source": [
    "## Bayes' Theorem\n",
    "## $p(A|B) = \\frac{p(B|A)*p(A)}{p(B)}$"
   ]
  },
  {
   "cell_type": "markdown",
   "metadata": {
    "slideshow": {
     "slide_type": "slide"
    }
   },
   "source": [
    "## Imagine an experiment with:\n",
    "- Two groups (control and treatment Z)\n",
    "- Multiple brain areas in each group\n",
    "- Multiple subjects for each brain area\n",
    "- Multiple recordings (data) in each subject"
   ]
  },
  {
   "cell_type": "markdown",
   "metadata": {
    "slideshow": {
     "slide_type": "fragment"
    }
   },
   "source": [
    "## Each level brings its own variance!"
   ]
  },
  {
   "cell_type": "markdown",
   "metadata": {
    "slideshow": {
     "slide_type": "slide"
    }
   },
   "source": [
    "## We want to estimate the effect $\\mu$ of the treatment"
   ]
  },
  {
   "cell_type": "markdown",
   "metadata": {
    "slideshow": {
     "slide_type": "fragment"
    }
   },
   "source": [
    "#### Option 1: Compare the mean of all the control recordings to the mean of all of the treatment Z recordings.  "
   ]
  },
  {
   "cell_type": "markdown",
   "metadata": {
    "slideshow": {
     "slide_type": "fragment"
    }
   },
   "source": [
    "#### Option 2: Fit a multilevel model."
   ]
  },
  {
   "cell_type": "markdown",
   "metadata": {
    "slideshow": {
     "slide_type": "fragment"
    }
   },
   "source": [
    "## $p(\\mu|data) = \\frac{p(data|\\mu)*p(\\mu)}{p(data)}$"
   ]
  },
  {
   "cell_type": "markdown",
   "metadata": {
    "slideshow": {
     "slide_type": "fragment"
    }
   },
   "source": [
    "### But p(data) also depends on the the brain area, and the subject"
   ]
  },
  {
   "cell_type": "markdown",
   "metadata": {
    "slideshow": {
     "slide_type": "slide"
    }
   },
   "source": [
    "## Consider a simpler case with only the two groups"
   ]
  },
  {
   "cell_type": "markdown",
   "metadata": {
    "slideshow": {
     "slide_type": "fragment"
    }
   },
   "source": [
    "## The data will depend on the overall effect of the drug, *and* on any differential effect on the brain areas"
   ]
  },
  {
   "cell_type": "markdown",
   "metadata": {
    "slideshow": {
     "slide_type": "fragment"
    }
   },
   "source": [
    "## $p(\\mu_{overall},\\mu_{brain area}|data) = \\frac{p(data|\\mu_{overall},\\mu_{brain area})*p(\\mu_{overall},\\mu_{brain area})}{p(data)}$"
   ]
  },
  {
   "cell_type": "markdown",
   "metadata": {
    "slideshow": {
     "slide_type": "fragment"
    }
   },
   "source": [
    "## $= \\frac{p(data|\\mu_{brain area})*p(\\mu_{brain area}|\\mu_{overall})*p(\\mu_{overall})}{p(data)}$"
   ]
  },
  {
   "cell_type": "markdown",
   "metadata": {
    "slideshow": {
     "slide_type": "slide"
    }
   },
   "source": [
    "## Each observed data point will be the product of a series of probability expressions, one for each level in the hierarchy"
   ]
  },
  {
   "cell_type": "markdown",
   "metadata": {
    "slideshow": {
     "slide_type": "fragment"
    }
   },
   "source": [
    "## From the original example:\n",
    "### $p(\\mu_{overall},\\mu_{brain area},\\mu_{subject}|data) \\propto$"
   ]
  },
  {
   "cell_type": "markdown",
   "metadata": {
    "slideshow": {
     "slide_type": "fragment"
    }
   },
   "source": [
    "### $p(data|\\mu_{subject})*p(\\mu_{subject}|\\mu_{brain area})*p(\\mu_{brain area}|\\mu_{overall})$"
   ]
  },
  {
   "cell_type": "markdown",
   "metadata": {
    "slideshow": {
     "slide_type": "fragment"
    }
   },
   "source": [
    "## A hierarchical modeling package (Stan, BUGS, JAGS, PyMC, etc) will, given this model and the data as input:\n",
    "- ### compute all of the probability distributions\n",
    "- ### compute means for all of these variables"
   ]
  }
 ],
 "metadata": {
  "celltoolbar": "Slideshow",
  "kernelspec": {
   "display_name": "Python 3.6",
   "language": "python",
   "name": "python36"
  },
  "language_info": {
   "codemirror_mode": {
    "name": "ipython",
    "version": 3
   },
   "file_extension": ".py",
   "mimetype": "text/x-python",
   "name": "python",
   "nbconvert_exporter": "python",
   "pygments_lexer": "ipython3",
   "version": "3.6.3"
  }
 },
 "nbformat": 4,
 "nbformat_minor": 2
}
