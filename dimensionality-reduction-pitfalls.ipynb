{
 "cells": [
  {
   "cell_type": "markdown",
   "metadata": {
    "slideshow": {
     "slide_type": "slide"
    }
   },
   "source": [
    "# Dimensionality Reduction: Pitfalls"
   ]
  },
  {
   "cell_type": "code",
   "execution_count": 1,
   "metadata": {
    "slideshow": {
     "slide_type": "skip"
    }
   },
   "outputs": [],
   "source": [
    "%matplotlib inline\n",
    "import matplotlib.pyplot as plt\n",
    "import matplotlib as mpl\n",
    "from mpl_toolkits.mplot3d import Axes3D\n",
    "import ipyvolume.pylab as p3\n",
    "import numpy as np\n",
    "import pandas as pd\n",
    "from sklearn.decomposition import PCA\n",
    "from IPython.display import YouTubeVideo"
   ]
  },
  {
   "cell_type": "code",
   "execution_count": 2,
   "metadata": {
    "slideshow": {
     "slide_type": "skip"
    }
   },
   "outputs": [],
   "source": [
    "pca = PCA()\n",
    "\n",
    "mpl.rcParams.update({'font.size':16})\n",
    "\n",
    "# A function for plotting 3-dimensional data\n",
    "def plot3d(df):\n",
    "    data = df.values\n",
    "    fig = plt.figure(figsize=(6,6))\n",
    "    ax = fig.add_subplot(111, projection='3d')\n",
    "    ax.scatter(*data[:,0:3].T)\n",
    "    minn,maxx = data.min(),data.max()\n",
    "    ax.set_xlim(minn,maxx)\n",
    "    ax.set_ylim(minn,maxx)\n",
    "    ax.set_zlim(minn,maxx)\n",
    "    ax.set_xlabel(df.columns[0],labelpad=10)\n",
    "    ax.set_ylabel(df.columns[1],labelpad=10)\n",
    "    ax.set_zlabel(df.columns[2],labelpad=10)\n",
    "    ax.dist = 12\n",
    "    plt.tight_layout()\n",
    "    \n",
    "def plot3d_live(data):\n",
    "    fig = p3.figure()\n",
    "    q = p3.scatter(*data.T, size=1, marker=\"sphere\")\n",
    "    p3.style.use(\"dark\") # looks better\n",
    "    p3.show()\n",
    "        \n",
    "# A function for summarizing covariancs and correlations\n",
    "def summarize(info,name,quiet=False):\n",
    "    values = info[name]\n",
    "    if not quiet:\n",
    "        print(values.round(2))\n",
    "    plt.pcolor(values,cmap='RdBu_r',vmin=-values.max(),vmax=values.max())\n",
    "    raynge = np.arange(values.shape[0])\n",
    "    if not quiet:\n",
    "        plt.xticks(raynge+0.5,raynge)\n",
    "        plt.yticks(raynge+0.5,raynge)\n",
    "    else:\n",
    "        plt.xticks([])\n",
    "        plt.yticks([])\n",
    "    plt.gca().invert_yaxis() # Make y-axis go from low to high like a matrix\n",
    "    plt.colorbar().set_label(name)\n",
    "    if not quiet:\n",
    "        eigenvalues,_ = np.linalg.eig(info[name])\n",
    "        for i,eig in enumerate(sorted(eigenvalues,reverse=True)):\n",
    "            print('Eigenvalue #%d is %.3g' % (i+1,eig))\n",
    "        \n",
    "def report_mean_var(data):\n",
    "    for i in range(data.shape[1]):\n",
    "        column = data[:,i]\n",
    "        print(\"Dimension %d has mean %.2g and variance %.3g\" % \\\n",
    "              (i+1,column.mean(),column.var()))\n",
    "        \n",
    "def annotate_scatter(ax,df):\n",
    "    for i, text in enumerate(df.index):\n",
    "        ax.text(df['PC 1'].iloc[i],df['PC 2'].iloc[i], text)\n",
    "        \n",
    "def variance_explained(df,pca):\n",
    "    pca.fit(df.values)\n",
    "    for i in range(min(*df.shape)):\n",
    "        print(\"PC %d explains %.3g%% of the variance\" % (i+1,100*pca.explained_variance_ratio_[i]))\n",
    "        \n",
    "def pc_report(pca,df):\n",
    "    pca.fit(df.values)\n",
    "    pca_df = pd.DataFrame(pca.components_.T,\n",
    "                          index=df.columns,\n",
    "                          columns=['PC %d' % (i+1) for i in range(min(*df.shape))])\n",
    "    pca_df = pca_df.applymap(lambda x:'%.3g' % x)\n",
    "    return pca_df\n",
    "\n",
    "def plot_transformed_data(pca,df,figsize=None):\n",
    "    pca.fit(df.values)\n",
    "    pca_df = pd.DataFrame(pca.transform(df.values),\n",
    "                      index=df.index,\n",
    "                      columns=['PC %d' % (i+1) for i in range(min(*df.shape))])\n",
    "    ax = pca_df.plot.scatter('PC 1','PC 2',figsize=figsize)\n",
    "    annotate_scatter(ax,pca_df)\n",
    "\n",
    "my_fake_data = np.random.rand(100,3)\n",
    "my_fake_data[:,2] = (my_fake_data[:,0] + my_fake_data[:,1])/np.sqrt(2)"
   ]
  },
  {
   "cell_type": "code",
   "execution_count": 3,
   "metadata": {
    "slideshow": {
     "slide_type": "slide"
    }
   },
   "outputs": [
    {
     "data": {
      "image/jpeg": "[encoded data removed]",
      "text/html": [
       "\n",
       "        <iframe\n",
       "            width=\"400\"\n",
       "            height=\"300\"\n",
       "            src=\"https://www.youtube.com/embed/MhXMYw1lXY0\"\n",
       "            frameborder=\"0\"\n",
       "            allowfullscreen\n",
       "        ></iframe>\n",
       "        "
      ],
      "text/plain": [
       "<IPython.lib.display.YouTubeVideo at 0x10accacf8>"
      ]
     },
     "execution_count": 3,
     "metadata": {},
     "output_type": "execute_result"
    }
   ],
   "source": [
    "YouTubeVideo('MhXMYw1lXY0')"
   ]
  },
  {
   "cell_type": "markdown",
   "metadata": {
    "slideshow": {
     "slide_type": "slide"
    }
   },
   "source": [
    "## Pitfall #1: Data has no structure to extract"
   ]
  },
  {
   "cell_type": "code",
   "execution_count": 4,
   "metadata": {
    "slideshow": {
     "slide_type": "slide"
    }
   },
   "outputs": [
    {
     "data": {
      "application/vnd.jupyter.widget-view+json": {
       "model_id": "8177a8155b4041d487cd94e2be8a5f34",
       "version_major": 2,
       "version_minor": 0
      },
      "text/html": [
       "<p>Failed to display Jupyter Widget of type <code>VBox</code>.</p>\n",
       "<p>\n",
       "  If you're reading this message in the Jupyter Notebook or JupyterLab Notebook, it may mean\n",
       "  that the widgets JavaScript is still loading. If this message persists, it\n",
       "  likely means that the widgets JavaScript library is either not installed or\n",
       "  not enabled. See the <a href=\"https://ipywidgets.readthedocs.io/en/stable/user_install.html\">Jupyter\n",
       "  Widgets Documentation</a> for setup instructions.\n",
       "</p>\n",
       "<p>\n",
       "  If you're reading this message in another frontend (for example, a static\n",
       "  rendering on GitHub or <a href=\"https://nbviewer.jupyter.org/\">NBViewer</a>),\n",
       "  it may mean that your frontend doesn't currently support widgets.\n",
       "</p>\n"
      ],
      "text/plain": [
       "VBox(children=(Figure(camera_center=[0.0, 0.0, 0.0], height=500, matrix_projection=[0.0, 0.0, 0.0, 0.0, 0.0, 0.0, 0.0, 0.0, 0.0, 0.0, 0.0, 0.0, 0.0, 0.0, 0.0, 0.0], matrix_world=[0.0, 0.0, 0.0, 0.0, 0.0, 0.0, 0.0, 0.0, 0.0, 0.0, 0.0, 0.0, 0.0, 0.0, 0.0, 0.0], scatters=[Scatter(color_selected=array('white', dtype='<U5'), geo='sphere', size=array(1), size_selected=array(2.6), x=array([-1.07363808e+00, -2.64306366e-01, -7.22496576e-01,  9.41708967e-01,\n",
       "       -6.13038444e-01,  2.75353409e-02,  6.09993903e-02, -7.70355306e-01,\n",
       "        1.54062481e-01, -1.93204291e-01, -9.15219713e-01,  3.93840066e-01,\n",
       "        2.92091714e-01, -9.02354516e-01, -4.31476678e-01, -9.25106494e-02,\n",
       "        1.93181390e-01, -1.02012823e+00,  2.40013501e-01, -3.20224967e-01,\n",
       "       -1.65557713e+00,  4.60472961e-01, -1.00819939e+00, -1.42207976e-01,\n",
       "       -1.14492489e+00,  2.77507368e-01, -2.42840602e-01,  1.31757724e+00,\n",
       "       -3.00301952e-01,  1.01562594e+00, -1.41696837e+00,  1.43155950e-01,\n",
       "       -1.57638466e+00,  7.93401316e-01,  7.28110854e-01,  1.51469325e+00,\n",
       "       -1.45085490e+00,  9.65997688e-01, -2.45434893e-01, -1.60650529e-01,\n",
       "       -1.25737583e-01,  5.74173621e-01,  1.06258063e+00, -9.83005807e-01,\n",
       "        7.10229384e-01,  2.59034377e+00,  9.76530445e-02, -1.27304422e-01,\n",
       "        4.49263348e-01, -8.42217905e-01,  2.84761689e+00,  7.07822606e-01,\n",
       "       -3.95266101e-02, -2.08075768e-01,  2.08068266e+00,  3.98466871e-01,\n",
       "        5.43730114e-01, -1.02532242e+00, -9.63459762e-01, -1.76321089e+00,\n",
       "       -9.61267400e-01,  5.89993899e-01, -6.69576530e-01,  1.49401010e-01,\n",
       "       -2.71013688e-02,  1.85951921e-01, -8.43672198e-01,  6.55926783e-01,\n",
       "        3.55129087e-02, -1.77425931e+00,  2.94184932e-01,  3.24908469e-01,\n",
       "       -1.82584083e+00, -6.40688973e-01,  1.76552432e-01, -1.24024155e+00,\n",
       "       -5.15104107e-01, -2.21350570e-02,  6.00420386e-01, -7.30924515e-01,\n",
       "        6.28580401e-01,  8.22462698e-01,  1.34126910e+00,  1.29632620e+00,\n",
       "        4.57223347e-01,  1.58384993e-01, -6.63001072e-01,  1.88488029e+00,\n",
       "       -1.21991468e+00, -1.12188177e-01, -6.10285606e-01, -1.17845060e-01,\n",
       "        9.87826697e-01, -5.22309916e-01,  2.72685247e-02,  1.23449656e+00,\n",
       "        4.88518046e-01,  3.95992875e-01,  1.69912607e+00, -2.32516850e+00,\n",
       "        3.62049554e-01,  1.33940385e-01, -8.26498157e-01,  8.29758716e-02,\n",
       "        3.63217787e-01, -1.37812427e-01,  3.33151241e-01,  1.20645356e+00,\n",
       "        2.37708774e+00,  9.81572613e-02, -4.77574045e-01, -1.25800972e+00,\n",
       "        5.57594147e-01, -6.50805637e-01,  1.12250482e+00, -9.77047726e-01,\n",
       "       -2.14081544e-01, -1.05245475e+00,  7.21030422e-01,  1.48713650e+00,\n",
       "       -4.56649841e-02,  1.09684799e+00,  1.27870746e+00,  1.72618477e-02,\n",
       "        1.75969165e+00,  1.91115463e-01,  1.83896316e+00,  2.34290328e+00,\n",
       "       -3.09453443e-01,  1.96893009e+00,  8.33235622e-02, -5.46031819e-01,\n",
       "       -7.66476607e-01,  2.40677706e-01, -1.79289555e-01, -4.31839377e-01,\n",
       "       -4.99009571e-01,  7.52314805e-01,  7.34685941e-01, -6.38982606e-01,\n",
       "       -1.01417891e+00, -4.75499551e-01, -1.16135654e+00,  1.88519659e-01,\n",
       "       -4.89109514e-01,  9.12376265e-01, -1.63953043e+00, -5.84659777e-02,\n",
       "        9.13520018e-01,  1.32281306e+00, -1.42605985e+00,  9.24672558e-01,\n",
       "       -2.20769167e+00, -5.80544698e-01,  8.48243141e-01, -7.64153529e-01,\n",
       "       -1.65306561e+00,  1.15159592e+00,  2.67445823e-01,  1.32353637e+00,\n",
       "        1.49082638e+00, -1.00718073e+00,  1.27711028e-01, -1.69511444e+00,\n",
       "       -3.80503923e-01, -6.39272739e-02,  1.30541696e+00,  1.45978355e-01,\n",
       "        1.94078560e-01,  5.79357561e-01,  9.14018534e-02,  7.08041750e-01,\n",
       "       -3.86117059e-01, -2.24055017e+00, -9.58747833e-01, -1.47527462e+00,\n",
       "        2.63859868e-01, -4.96335661e-01,  1.45604917e+00, -1.93713741e+00,\n",
       "        2.13437452e-01, -1.27827139e+00, -2.01052126e-01, -9.05673830e-01,\n",
       "        5.41796907e-01, -1.61432459e+00,  8.02393689e-01, -3.06792315e-01,\n",
       "       -9.90565398e-02,  1.51250240e-01, -5.69923746e-01, -7.54627859e-01,\n",
       "       -2.03161166e+00,  1.26067773e+00,  5.70181348e-01,  1.41941753e+00,\n",
       "       -1.98413651e-01, -1.64507321e+00,  3.02903999e-01,  1.68079021e+00,\n",
       "       -2.45240887e+00, -3.60961527e-01, -3.19319078e-01, -1.01616119e+00,\n",
       "       -2.65356180e-01,  6.55072636e-01, -1.21776148e+00,  9.15503970e-01,\n",
       "       -2.27422969e-01,  5.06456413e-01,  3.58893799e-01,  6.71234664e-02,\n",
       "        1.97330374e-01,  9.08605750e-01,  1.09483915e+00,  6.34346386e-01,\n",
       "        3.54644516e-01, -8.97934914e-02,  1.02655907e+00,  9.35898898e-01,\n",
       "        7.60201874e-01,  7.51274061e-01,  6.55540545e-01,  2.27723305e-01,\n",
       "        1.23020170e-01, -2.35569155e+00,  1.01087062e+00,  8.89771701e-01,\n",
       "       -3.98925432e-01, -1.54072524e-01,  1.51757471e+00, -1.15030393e+00,\n",
       "       -1.98671022e-01, -1.51047276e+00,  3.92731766e-01, -7.40200783e-01,\n",
       "       -1.14008373e+00,  3.57437305e-01, -2.45414802e-01,  1.07185622e+00,\n",
       "       -4.54192805e-01,  2.45569790e+00, -7.78867770e-01, -2.25089619e-01,\n",
       "       -1.02199504e+00, -1.16067189e-01, -8.33703354e-02, -2.35916385e-01,\n",
       "        2.27603800e-01, -3.59303393e-01,  1.94608107e+00, -1.47704427e+00,\n",
       "        7.50304981e-01, -1.24560837e-01, -1.54453872e+00, -1.01722524e+00,\n",
       "       -2.16996102e+00,  1.00388422e+00, -1.46594945e+00,  5.45235579e-01,\n",
       "       -1.31782211e+00, -6.66449435e-01,  2.77455221e-01, -4.30152141e-01,\n",
       "        8.06739452e-01,  7.30983304e-01,  1.29844156e+00,  9.16775859e-01,\n",
       "        1.48356060e+00,  9.59834294e-01, -1.76975780e+00, -1.78296872e+00,\n",
       "        2.69520599e+00, -4.00853700e+00,  1.09348668e+00,  2.76862369e-01,\n",
       "       -5.56974513e-01,  1.60960689e+00,  1.52040291e+00,  2.91357313e-02,\n",
       "       -2.41981780e-01,  1.20061631e+00, -8.19961939e-01,  2.06764278e+00,\n",
       "        4.91116123e-01,  6.95436171e-01, -7.45204480e-01, -1.49809670e+00,\n",
       "       -1.18625169e+00,  8.77267176e-01,  1.46608297e+00, -6.15726696e-01,\n",
       "       -1.12166672e+00,  2.00931933e+00, -3.91115519e-01,  2.22432917e+00,\n",
       "        9.86067893e-01, -3.24246500e-01,  1.81376080e+00, -9.67560601e-01,\n",
       "        1.60230243e+00, -2.85265984e-01, -1.19856796e+00,  1.81549121e+00,\n",
       "        1.27084740e+00,  7.44872639e-01, -1.38204356e+00, -6.27315417e-01,\n",
       "       -7.53489944e-01, -1.86153117e+00,  3.89476580e-01,  9.02146277e-01,\n",
       "       -1.27196883e+00, -5.20174767e-01,  2.12618573e-01,  6.92992809e-01,\n",
       "        3.78821700e-01, -1.57138665e-01,  6.09816717e-01,  1.06930110e+00,\n",
       "        2.75357140e-02,  1.56448992e+00,  8.88538430e-01, -4.18117906e-01,\n",
       "        7.91120895e-02,  8.50389762e-01, -7.03044482e-01, -6.26045206e-01,\n",
       "       -2.01360148e+00, -5.85569050e-01, -1.10186459e+00, -1.26855382e-01,\n",
       "        7.78230758e-01,  1.29155538e-01,  3.32312517e-02,  6.99280531e-01,\n",
       "        1.47578714e-02, -3.15563559e-01,  1.66493593e+00, -1.06998023e+00,\n",
       "        1.01954311e+00, -2.56201297e+00,  4.33284651e-01, -3.20546837e-01,\n",
       "        5.37972646e-01, -1.47836649e-01,  1.51832238e+00,  9.86158286e-01,\n",
       "       -1.26210635e+00, -1.04289099e+00, -1.24098633e+00,  3.45095654e-01,\n",
       "        1.42408043e-01, -4.40243734e-01,  6.03612854e-01, -4.38783656e-01,\n",
       "        3.05543360e-01, -2.81364217e-01, -7.61519520e-01, -1.65714405e+00,\n",
       "       -1.51332208e+00,  8.73121242e-02, -6.41391153e-01, -1.61816255e-02,\n",
       "        9.21211680e-01,  1.51363233e+00, -3.34331040e-01, -2.59003469e+00,\n",
       "       -1.20766917e+00,  8.74803980e-01, -1.92247909e-01, -2.06443925e-01,\n",
       "       -5.10251749e-01,  1.22590124e+00, -8.56269569e-01,  6.38814006e-03,\n",
       "        1.34831752e+00, -6.47314058e-01, -9.15421737e-01,  1.57147242e+00,\n",
       "       -1.84947155e+00, -3.40533551e-01, -1.11925053e-01, -6.98724089e-01,\n",
       "       -1.16896561e+00, -1.40542231e-01, -1.69212701e+00, -1.63830564e+00,\n",
       "        2.51832563e+00, -2.98811368e-01,  5.81277715e-02,  2.00435533e-01,\n",
       "       -7.08980801e-01,  1.60339962e+00, -1.81201482e+00, -1.57590518e+00,\n",
       "       -1.74449776e-01,  3.61476486e-01,  1.04055938e+00,  2.87967228e-01,\n",
       "       -1.57791176e-01,  5.18513615e-02,  1.22932875e-01,  6.39959349e-01,\n",
       "        4.96324614e-01,  1.45575042e-01, -5.09314984e-02,  1.90390132e-01,\n",
       "       -1.37264276e+00,  6.98508643e-01,  1.16883603e+00,  3.69349584e-01,\n",
       "       -2.33715221e+00,  5.93460703e-01, -1.75909034e-02,  6.45859752e-01,\n",
       "       -1.24554160e+00,  5.92691316e-01, -4.36883629e-01, -1.23128445e+00,\n",
       "        6.49146107e-01,  8.95624643e-02, -8.39775887e-01,  1.59851548e+00,\n",
       "        1.95319687e+00, -7.96814134e-01, -9.28700623e-02, -8.09807934e-01,\n",
       "        4.30924423e-01,  1.26756055e+00,  1.74274587e-01, -1.50654925e+00,\n",
       "       -1.27793087e+00, -7.84549034e-01, -5.15075853e-01, -2.21504004e+00,\n",
       "        9.52216049e-01,  2.52901175e+00,  1.19899017e-01,  1.39211386e-01,\n",
       "       -6.05952975e-02,  5.94722769e-01,  4.41290356e-01, -1.63174453e+00,\n",
       "       -4.10519174e-01,  6.47127568e-01,  2.55938332e-02, -1.45581261e-02,\n",
       "       -5.90523259e-01, -1.01106979e+00,  1.70448752e+00,  3.30895005e-01,\n",
       "        8.45743837e-01,  1.59823839e+00,  8.63171172e-02, -1.19707432e-01,\n",
       "        1.40999911e+00,  3.52146676e-04,  6.84423594e-02, -1.42939052e+00,\n",
       "       -1.01024296e-02, -1.47358202e+00, -7.72627318e-03, -1.74866977e+00,\n",
       "       -3.38386308e+00, -1.26946953e+00, -2.90981457e-02,  2.28100696e+00,\n",
       "        1.78584616e+00,  9.38559298e-01,  7.00566561e-01,  8.13066665e-01,\n",
       "       -1.94142806e-01, -1.36642276e-02, -1.04161901e+00, -2.92826583e+00,\n",
       "       -2.99299827e-01,  1.48303189e-01,  7.91316399e-02,  3.29791636e-01,\n",
       "        1.84218075e+00,  2.70538386e-01, -8.20350673e-02, -6.04068501e-02,\n",
       "       -6.47781387e-01,  4.59274008e-01, -2.22681087e+00,  7.57583879e-01,\n",
       "       -5.80995699e-01, -1.64518571e+00,  1.05100047e-01, -1.72974406e-01,\n",
       "       -7.09691102e-02, -3.49263706e-01, -1.45032452e+00,  4.78076764e-01,\n",
       "        1.45753840e-01,  1.91187625e+00,  4.45569676e-01,  1.39001595e-01]), y=array([ 2.66021555e-01,  2.22604430e+00, -1.28362712e+00,  9.01689941e-02,\n",
       "       -7.99132690e-02, -1.50044815e+00, -5.01131518e-01,  1.44744696e+00,\n",
       "        6.00839741e-01,  3.44838345e-01, -3.67517650e-01, -7.76019212e-01,\n",
       "       -8.25214744e-01,  1.13909908e+00,  4.29195126e-01, -5.19031422e-01,\n",
       "       -1.03018492e+00, -9.77040093e-01, -1.96736317e+00, -1.49213696e+00,\n",
       "       -5.77941185e-01, -9.70377026e-01, -1.53968221e+00, -7.31777979e-01,\n",
       "       -4.24081415e-01, -1.57551559e+00,  1.06167189e+00,  1.70477332e-01,\n",
       "        1.47031139e-01, -1.50364310e+00, -2.68905691e-01,  4.12214696e-01,\n",
       "       -8.68712342e-01, -8.96840084e-01,  1.39877666e+00,  1.24293312e-01,\n",
       "       -2.18116341e-01,  2.69473066e-01, -2.28689826e-01, -8.02132879e-01,\n",
       "        1.39874264e+00, -4.03562385e-01,  2.30659974e+00,  3.79916249e-01,\n",
       "       -1.80571870e-01,  1.42445698e+00, -2.12338287e+00,  1.10246770e+00,\n",
       "       -3.32915770e-01,  5.92941837e-01,  6.09026752e-01, -6.23677024e-01,\n",
       "        1.45549724e+00,  2.32148457e+00, -1.27269633e+00,  5.52221259e-01,\n",
       "       -3.10553011e-01, -4.19095366e-01,  1.35163496e+00,  1.16772140e+00,\n",
       "       -1.32696194e-01, -1.50598901e+00, -1.08846117e+00, -1.81592408e+00,\n",
       "        1.09438194e-01,  1.67057147e-01, -1.88538433e+00, -1.67739467e+00,\n",
       "        3.95395935e-01, -1.15363008e+00, -9.08245860e-01, -1.77044709e+00,\n",
       "        8.63480346e-01, -4.33379913e-01,  1.76529718e+00, -1.00428712e-01,\n",
       "        4.73535846e-01,  7.14243055e-01,  7.11797106e-02,  4.22578441e-01,\n",
       "        5.71260971e-01,  5.74707566e-01, -1.66636450e+00, -2.57128618e-01,\n",
       "       -7.93466624e-01,  4.46858590e-01, -2.00176980e+00, -1.80525231e+00,\n",
       "       -3.31456936e-01, -4.58007797e-01, -5.56951737e-01, -3.39809357e-01,\n",
       "        7.20913342e-01,  1.35689280e+00, -1.53484678e+00, -3.66782821e-02,\n",
       "       -1.25408581e+00, -7.27586783e-02,  3.90703938e-01,  7.92758297e-02,\n",
       "        5.85172031e-01,  2.63819729e-01,  1.44316724e+00, -5.63321086e-01,\n",
       "        1.23575541e+00, -1.73386790e-01, -2.02591274e-01, -8.24981840e-02,\n",
       "       -9.77166746e-02,  4.54839154e-01,  4.50751990e-01, -6.59798816e-01,\n",
       "       -7.56872247e-03, -1.24488656e-01, -2.36934621e+00,  1.86709080e+00,\n",
       "        2.92755301e-01, -1.34248759e+00,  1.30732055e+00,  2.73230625e-01,\n",
       "        4.18241319e-01,  5.23151770e-01, -1.96867518e+00, -5.49920047e-02,\n",
       "       -1.02725502e+00,  3.09199301e-02, -6.29206326e-01,  6.21446541e-01,\n",
       "       -1.09711345e+00, -1.61909515e-01,  1.38570658e+00, -9.29049817e-02,\n",
       "        9.87830691e-01, -7.58758704e-01,  1.42522897e+00,  1.48768820e+00,\n",
       "       -8.19434067e-03, -6.40902818e-02,  1.25130468e-01, -1.07340316e-02,\n",
       "        9.26121159e-01,  6.79103043e-01,  7.80822897e-01, -7.81045197e-01,\n",
       "       -1.58376910e+00, -2.13254562e-01,  6.80490402e-01,  2.68996255e-01,\n",
       "       -6.36339995e-02,  3.67067071e-01,  5.27996043e-01, -1.14847251e+00,\n",
       "        6.83548139e-01,  7.78625111e-01, -5.66170189e-01, -2.95611996e-01,\n",
       "        1.70767660e+00,  8.09588781e-01,  9.85794610e-01,  1.33869299e+00,\n",
       "       -3.63532279e-01,  1.00175823e+00, -2.05275154e-01,  2.04705979e+00,\n",
       "        2.08208338e+00,  1.16357840e+00, -4.56708404e-01,  2.84912269e-01,\n",
       "       -7.37733065e-02, -4.50658896e-01, -4.95460323e-01, -4.90579590e-01,\n",
       "        9.71921010e-01,  2.06397208e+00, -1.28619300e+00,  8.84145857e-01,\n",
       "       -7.12856951e-01, -1.40622607e+00, -3.15881793e-01, -2.63204121e-01,\n",
       "        4.98033820e-01, -1.88522500e-02,  1.68831057e+00, -3.11095000e-01,\n",
       "        2.87496656e-01, -1.31687187e+00,  3.76320486e-01,  3.37206224e-01,\n",
       "       -1.68116698e+00,  1.06953903e+00,  1.16883465e-02, -1.84488286e+00,\n",
       "       -1.52440672e+00, -2.11294771e+00,  1.32119411e-01,  1.01372014e+00,\n",
       "        4.06102575e-01,  1.24072964e+00,  8.03223059e-01, -4.99212486e-01,\n",
       "        2.22759436e+00, -4.25863107e-01, -8.98145730e-01, -1.90683373e+00,\n",
       "        2.17433237e-01, -8.83523776e-01,  1.25924724e-02, -1.01160625e+00,\n",
       "       -5.93351474e-01, -6.24261778e-01,  3.67308647e-01, -7.33070518e-01,\n",
       "       -1.05646056e-01, -7.47511569e-01, -1.58772204e-02,  1.48127537e-01,\n",
       "       -1.00062345e+00, -1.80779822e+00, -1.06534446e+00,  1.44023268e+00,\n",
       "       -3.31557130e-01,  3.54865829e-01,  1.02887806e+00, -1.39536297e+00,\n",
       "        1.13565686e+00,  8.36494792e-01, -3.58286727e-01,  5.83032790e-01,\n",
       "       -1.66753938e+00, -4.32772733e-01,  7.86022744e-01,  3.11186204e-01,\n",
       "        1.20371504e+00,  5.27790803e-01,  1.11038665e+00, -1.12458888e-01,\n",
       "       -5.87030410e-02,  4.19210596e-01,  1.27837879e-01,  2.93525873e-01,\n",
       "        2.60630035e+00,  8.35487047e-01, -9.89978165e-01, -2.77863733e-01,\n",
       "       -2.32182288e+00, -6.06659421e-01, -4.35664791e-01, -1.29978430e+00,\n",
       "       -1.54737279e+00, -1.25860733e+00,  1.36789309e+00,  4.14536361e-01,\n",
       "        6.47351486e-02,  5.87925264e-01,  4.76255104e-01,  1.31585481e-01,\n",
       "        6.79181444e-02, -1.33806624e+00, -1.34605470e-01,  6.32744775e-01,\n",
       "       -4.09599097e-01,  1.44080456e+00, -1.09323524e+00, -1.35747364e+00,\n",
       "       -5.11627614e-01, -1.24342971e+00, -2.13539935e+00,  1.32357542e+00,\n",
       "       -1.28958446e-01, -5.09482609e-01,  1.71251841e-01, -3.75570300e-01,\n",
       "       -1.11030478e+00, -1.35954575e-03,  1.23180406e+00, -1.73784228e-01,\n",
       "       -1.52097021e-01, -9.43462255e-02,  5.21619834e-01, -5.52973597e-01,\n",
       "        1.05119521e+00, -2.38168875e-01, -1.65030986e-01, -7.16590591e-01,\n",
       "       -1.62864158e+00,  5.95786519e-01,  4.36134615e-01,  2.57913562e+00,\n",
       "        2.41014938e-01, -6.72776747e-01,  1.49654076e+00,  7.44766340e-01,\n",
       "        3.63147864e-01, -5.28678088e-01, -4.09871223e-01,  9.24398638e-01,\n",
       "        8.86913841e-01, -4.18285258e-01,  3.36454589e-01, -1.11619048e+00,\n",
       "        3.75370971e-01, -1.69030016e-01, -1.55627369e+00,  1.34270960e+00,\n",
       "       -7.49757154e-01, -2.40540004e-01, -6.55409809e-01,  1.02241462e+00,\n",
       "       -1.52899869e+00, -1.28879207e+00, -4.02278165e-01,  8.58096274e-01,\n",
       "        3.18360241e-01, -1.24192450e+00,  9.57692413e-01,  1.22627702e+00,\n",
       "        9.67102474e-02, -2.92039970e-02,  1.61731404e+00, -4.48811685e-01,\n",
       "       -1.57674066e-01,  3.69878974e-01, -1.10393349e+00,  5.55184515e-01,\n",
       "        4.95402628e-01, -3.16443335e-01,  2.53810687e-02, -2.96245954e-01,\n",
       "       -8.21356155e-01, -1.06520482e+00, -9.82188527e-01, -1.77069351e+00,\n",
       "       -1.77429268e+00,  5.81193378e-01, -4.84916128e-01,  1.20932634e+00,\n",
       "        1.13714045e-01, -7.40191247e-01, -3.43309083e+00,  9.24636000e-01,\n",
       "        6.11145315e-01,  7.87008550e-01,  9.27827378e-01, -5.94959497e-01,\n",
       "       -2.75621877e-01, -3.81376042e-01,  6.95821058e-01, -1.56965705e-01,\n",
       "       -9.14421464e-01,  6.19517383e-01, -1.71940309e+00, -7.84252231e-01,\n",
       "       -2.12239925e+00,  2.94931696e-01,  8.38828049e-03, -6.23125492e-01,\n",
       "       -1.93997844e+00,  9.46721260e-01,  1.49643122e+00, -1.25043247e-01,\n",
       "        2.68444681e+00, -1.37243105e-01, -2.74085864e+00, -1.93683850e+00,\n",
       "       -2.63477488e-01,  1.34374565e+00,  1.30654612e+00,  3.96322747e-01,\n",
       "       -8.68840777e-01,  7.82869315e-01,  2.29897166e+00, -1.00481333e+00,\n",
       "        9.41438546e-01,  3.25808553e-01,  1.66665191e+00,  5.77068954e-01,\n",
       "        1.38347522e+00,  4.69891148e-01, -1.10880359e+00,  9.75435324e-01,\n",
       "        3.88604620e-01, -3.01610214e-01,  7.68972708e-02, -1.32338352e-01,\n",
       "       -6.99309317e-01,  2.55951876e-01,  6.96460747e-01, -3.62731428e-01,\n",
       "       -1.01650447e+00, -3.35687167e-01, -4.61510645e-01, -8.20785295e-01,\n",
       "        2.38625064e-01, -1.08058688e+00, -1.12521982e+00, -1.79147757e+00,\n",
       "       -3.59293996e-01, -3.14605847e-02,  1.17793524e+00,  4.80939097e-01,\n",
       "       -9.40083923e-01,  1.81430494e+00, -1.10382959e-01,  6.62644630e-01,\n",
       "        1.24075142e+00, -1.95192760e+00,  1.21069868e+00,  1.00624877e+00,\n",
       "       -1.13482600e+00, -2.05399032e+00, -1.22900999e-01, -4.66857632e-01,\n",
       "       -1.67926991e+00,  4.31039115e-01, -6.79145060e-01,  2.96767976e-01,\n",
       "        2.05138766e+00,  2.58044744e-01,  1.02803326e+00, -1.34244646e-01,\n",
       "        1.54144577e+00,  1.34345124e+00,  3.54797267e-03, -1.73982921e+00,\n",
       "       -9.00761401e-01,  3.57327664e-01,  1.27895934e+00, -1.48066230e+00,\n",
       "        3.51859346e-01, -3.48566248e-01, -1.07732965e+00, -1.04546518e+00,\n",
       "       -2.40848806e-03,  3.61848045e-01,  7.23271869e-01,  1.41131746e+00,\n",
       "       -4.59060582e-01,  3.88540391e-01, -1.27970576e-01,  2.19451547e-01,\n",
       "        2.67763620e-01, -9.20666105e-01,  1.08229517e+00, -3.39129485e-01,\n",
       "       -5.87378765e-01, -8.79859322e-01, -4.06939376e-01, -2.39146592e-01,\n",
       "        1.25091642e+00,  8.23502249e-01, -4.55161548e-01,  3.43658072e-01,\n",
       "        8.88384880e-01, -4.79738519e-01,  1.30588803e+00,  4.43855370e-01,\n",
       "       -1.28686411e+00, -1.97137060e+00, -2.58386116e-01,  9.03083779e-01,\n",
       "       -8.37322819e-01, -1.36226778e+00, -1.57089503e+00, -4.67559511e-01,\n",
       "        6.74186236e-01,  5.49230895e-01,  5.55685388e-02, -1.05477750e+00,\n",
       "       -1.72269298e+00,  7.24961830e-01,  4.49643754e-02, -2.56078652e-01,\n",
       "        1.58287337e-01, -3.90393874e-02,  5.08801737e-01, -1.86350024e+00,\n",
       "        1.86323583e+00, -3.85819885e-01,  7.76002934e-01, -1.05025683e-01,\n",
       "       -3.22274887e-01,  1.37877950e-01, -4.22546523e-02,  2.04212916e+00,\n",
       "        1.40063509e-01,  1.18831982e+00, -1.13673345e+00, -1.43654564e+00,\n",
       "        1.27059027e+00, -1.88428707e+00, -1.62892785e+00, -2.66997837e-01,\n",
       "       -4.48153618e-01, -8.38872589e-03, -1.52428219e-02,  9.06640309e-01,\n",
       "       -1.03915739e+00, -9.17899132e-01,  1.15890724e+00,  9.09658136e-03]), z=array([ 3.32185439e-01, -7.78027955e-01, -2.70728762e-01, -1.13089304e-01,\n",
       "        8.10854424e-01,  6.14367105e-01, -1.19030588e+00,  2.05798430e+00,\n",
       "        6.35525589e-01,  2.16621126e+00,  3.16910638e-01,  1.61336958e+00,\n",
       "       -1.05738662e-01,  6.76245082e-01,  2.51829959e-01, -1.20872160e+00,\n",
       "        1.10457907e+00, -1.73375535e-01,  8.83314486e-01, -1.23860946e+00,\n",
       "       -1.11528201e+00,  7.90551333e-01, -6.19198347e-01,  1.10448053e+00,\n",
       "       -9.24559260e-01, -6.84381181e-01,  2.01543549e+00, -1.60604255e+00,\n",
       "        3.21165135e-01,  1.30326169e+00,  3.48172834e-01,  1.05861560e-01,\n",
       "       -3.05261003e-02,  1.20570986e+00,  1.23238754e+00,  6.29389685e-01,\n",
       "        4.92335391e-01,  7.48049851e-01, -5.14457642e-01, -1.28264903e+00,\n",
       "       -1.72371214e+00, -3.12154088e-01, -2.12515371e+00, -6.67436841e-01,\n",
       "       -2.98910028e-01,  1.39358169e+00,  8.88239328e-01,  2.29609825e-01,\n",
       "       -3.32589321e-01, -2.76877194e-01, -1.09743305e+00, -5.70630324e-01,\n",
       "        1.67402818e+00,  1.05610230e-01, -5.14381377e-01,  6.24614965e-01,\n",
       "       -7.02931761e-01,  1.32572071e+00, -1.97427552e+00, -2.10451642e-01,\n",
       "        8.63487755e-01,  5.92622571e-01,  2.47795396e+00,  3.52410522e-01,\n",
       "        1.46337325e+00, -1.85713042e+00,  1.31831841e+00,  9.70954570e-02,\n",
       "       -5.59929224e-01, -1.00790075e+00,  3.18239383e-01, -1.56373423e-01,\n",
       "       -1.29494771e-01,  1.23493075e+00, -6.81876453e-01,  5.28686551e-01,\n",
       "       -7.86997755e-02,  8.24852175e-01, -3.49864634e-02, -1.37770215e+00,\n",
       "       -1.20216471e+00, -6.33091102e-01, -2.92224661e-01,  2.70667981e-01,\n",
       "       -4.78338104e-01, -3.53376108e-01,  1.71241016e-01,  6.69035301e-01,\n",
       "        4.41527010e-02, -2.34273671e-01, -1.45675948e-01, -5.65840945e-01,\n",
       "        1.20134761e+00,  1.06156480e+00, -2.62045412e-01, -9.22019737e-01,\n",
       "       -3.57979609e-01, -6.87872031e-01, -1.33325290e+00, -2.31505697e+00,\n",
       "        6.88094868e-01, -4.75058668e-01,  1.24740676e+00, -4.83711524e-01,\n",
       "       -1.06609421e+00,  4.13260455e-01,  2.82555306e+00, -4.17971563e-01,\n",
       "        6.83069745e-01, -2.11428642e+00, -3.38816686e-01, -5.36151508e-01,\n",
       "       -4.28122854e-01,  7.59968369e-01, -8.37941914e-01, -3.99433633e-02,\n",
       "        8.08891033e-01,  3.07484834e-01,  1.66782429e-02,  2.93122537e-03,\n",
       "        1.68373007e+00,  1.42225820e-01,  4.13023222e-01, -9.87979115e-01,\n",
       "        1.00772902e+00, -4.63227001e-01,  1.71221580e+00,  2.04878646e-01,\n",
       "       -6.64981946e-01, -1.20909501e+00,  1.91277853e-02,  4.48197195e-02,\n",
       "        4.27173741e-01,  2.15162240e-01,  2.25281292e-01,  9.63290911e-01,\n",
       "       -6.51878004e-01,  1.82195910e+00, -9.76081053e-01, -6.20759456e-01,\n",
       "        9.31981368e-02,  1.10806435e+00, -2.60484445e-01,  1.32150036e-01,\n",
       "       -6.74645567e-02,  4.94504372e-01,  6.47239622e-01,  5.82436658e-01,\n",
       "        1.37632831e+00, -2.56015156e+00, -3.35360178e-01,  1.36922791e+00,\n",
       "        8.42674333e-01, -1.08194492e-01,  9.37314963e-01, -1.83544990e+00,\n",
       "        1.50187087e+00,  3.30403761e-01,  7.78409504e-01, -4.73659626e-01,\n",
       "        9.62489028e-01, -2.40074124e-01,  2.06432542e+00,  1.43277810e+00,\n",
       "       -1.46451657e+00,  1.90483691e+00, -1.88348597e+00,  1.68017159e+00,\n",
       "        6.06903322e-01, -1.26547495e+00, -8.88220351e-01, -5.76268429e-01,\n",
       "       -1.08141721e+00,  7.62580999e-03,  7.06211910e-01,  1.18722153e+00,\n",
       "        2.35823691e+00, -1.06592240e+00,  1.82527840e+00,  9.59089803e-01,\n",
       "       -1.17995479e+00,  3.46352203e-01,  1.21821906e+00,  8.75457137e-01,\n",
       "       -2.99445454e-01, -2.29829603e-01,  2.93178716e-01,  1.14838062e+00,\n",
       "        1.53667039e-01, -5.45037184e-01, -9.44221227e-02, -1.70165515e-01,\n",
       "        6.19842283e-01,  1.24160710e+00,  6.40036103e-02, -1.80064329e+00,\n",
       "        8.43478912e-01,  8.47195595e-01, -1.89911002e+00,  1.91937813e+00,\n",
       "        2.22391355e-01, -4.05034688e-01, -2.44129214e-01,  2.92628989e-01,\n",
       "       -4.90563838e-01, -1.63171345e-01,  4.13921389e-01,  4.00899470e-01,\n",
       "       -8.30239374e-01,  3.02933856e-01, -9.93390691e-01, -2.53654081e+00,\n",
       "       -4.67305340e-01,  8.50547070e-01,  7.21356444e-01,  5.97975406e-01,\n",
       "       -1.83684461e+00, -2.26890298e-01,  1.14605885e-01, -2.67629284e+00,\n",
       "       -4.57721673e-01,  2.64746147e-01, -5.92108722e-01,  7.34806809e-03,\n",
       "       -8.57386283e-01,  1.56024504e+00, -2.92667426e-01, -2.33504769e-02,\n",
       "       -8.98156441e-01,  4.76357532e-01, -7.85387722e-01,  3.94765101e-02,\n",
       "        1.02396413e+00, -2.13085656e+00, -1.02464481e+00, -1.38136580e+00,\n",
       "       -1.14106989e+00, -3.11755024e-01,  6.30231797e-01, -3.66680011e-01,\n",
       "       -6.89181404e-01, -3.57599725e-01,  2.06435662e-01,  1.07108737e+00,\n",
       "       -1.03527208e+00, -6.60656477e-01,  6.11570276e-01, -5.35089364e-01,\n",
       "        2.14026904e-01, -7.67204697e-01, -6.81249344e-01, -1.73901960e+00,\n",
       "        4.34378587e-01,  5.29969388e-01, -1.83812051e-01,  1.06835725e+00,\n",
       "       -5.35543253e-01, -2.17645353e+00,  1.09372299e-01, -6.88519563e-01,\n",
       "       -1.48788301e+00, -2.69539255e-01, -1.03864107e+00,  3.42558898e-01,\n",
       "        1.04204652e+00, -1.27495129e+00, -1.73350090e+00, -1.83869206e+00,\n",
       "       -5.51043319e-01, -2.28837617e-01, -1.17534859e-01,  1.82795894e+00,\n",
       "       -2.04013762e-01,  6.85541522e-01,  4.95779536e-01, -5.94546103e-01,\n",
       "       -5.04502023e-01, -6.82680441e-01,  3.99358476e-01,  3.39994910e-01,\n",
       "        1.70857493e+00,  1.21842354e-01,  1.10473254e+00, -3.70115081e-01,\n",
       "        2.89927032e-01,  4.81652501e-01, -1.40135852e+00,  1.57495924e+00,\n",
       "        4.98839264e-01,  6.91870943e-01, -5.24858685e-01,  8.43324947e-02,\n",
       "       -9.18826797e-01,  9.73134989e-01, -1.05311546e+00, -9.23634022e-03,\n",
       "        1.15325074e+00, -3.33024830e-01, -1.08264756e+00, -8.05468799e-01,\n",
       "        2.48266145e-01,  1.89417023e-01,  1.41549617e+00, -8.99554979e-01,\n",
       "       -3.16514423e-01, -1.74901711e-01,  1.61639082e+00,  8.44488729e-01,\n",
       "       -9.55289773e-01, -8.15357710e-02,  5.54755582e-01, -1.47859339e+00,\n",
       "        6.60418852e-02,  9.23179116e-01,  4.21340257e-01,  9.45403580e-01,\n",
       "        3.63639406e-01, -4.36531743e-03,  2.01883131e-01, -4.46957251e-01,\n",
       "        2.47839404e-01,  3.74574301e-01, -1.03552143e+00,  9.91627914e-01,\n",
       "        5.82099726e-01, -3.06201050e-01,  2.33168792e-01,  1.19051138e+00,\n",
       "        2.80991628e-02, -3.38406656e-01,  9.59078340e-01,  1.37903822e+00,\n",
       "       -1.45759028e+00, -9.18339633e-02,  6.83012893e-01,  1.97994270e-01,\n",
       "       -9.24936651e-02, -1.08071519e+00,  4.01055774e-01, -1.26855063e+00,\n",
       "        8.58031948e-02, -2.82552341e-01, -8.81071255e-01,  7.10021993e-01,\n",
       "       -1.44173132e+00, -6.32407569e-01, -4.46124903e-01, -2.47990380e+00,\n",
       "       -5.89514502e-01,  1.67330930e-01,  1.99340219e-01,  5.57068105e-02,\n",
       "        1.54518089e+00,  1.53365915e+00,  6.44231542e-01, -1.00844699e+00,\n",
       "        1.69194024e-01, -9.65084062e-01, -5.93626780e-01,  2.01515264e-01,\n",
       "       -7.85188424e-01, -1.37093980e+00,  1.95892657e+00, -5.98556133e-01,\n",
       "        2.34988472e+00,  1.61701844e+00,  6.77454937e-01,  1.60641092e+00,\n",
       "        3.86264995e-01, -4.24661875e-02,  4.90728166e-01,  9.51178023e-01,\n",
       "        6.67838123e-01,  1.70294802e+00,  8.49915325e-01, -1.16289461e+00,\n",
       "        6.42493219e-01,  8.30193436e-01, -3.91224261e-01,  4.76523889e-01,\n",
       "       -1.62775263e+00,  1.32649701e+00, -1.65495293e+00,  4.44973147e-01,\n",
       "        1.88522540e+00, -3.93447785e-01,  1.71813733e+00,  2.61523419e-01,\n",
       "       -4.64764726e-01,  6.94379198e-01, -4.19880046e-01,  1.83210618e+00,\n",
       "       -3.82836583e-01, -1.73479099e+00, -3.15327674e-01, -4.36811273e-01,\n",
       "        1.55854306e+00,  1.05306185e-02, -7.30486095e-01, -1.27116870e+00,\n",
       "       -1.32047296e+00, -4.95187316e-01,  3.46757463e-01, -9.03499017e-01,\n",
       "        8.23415587e-01, -3.52578417e-01, -4.77192131e-01, -1.87037082e+00,\n",
       "       -2.00219390e+00, -2.27509178e-01,  1.91687189e-01, -1.05575736e+00,\n",
       "       -1.91452886e-01, -3.77033962e-01,  2.64708863e+00,  1.38669078e+00,\n",
       "       -4.12912576e-01,  1.05673303e+00, -8.15817036e-01,  2.47264187e-01,\n",
       "       -5.02778920e-02,  6.36012799e-02,  4.74041069e-02, -2.58938164e+00,\n",
       "        2.83960054e+00,  1.09615213e+00,  2.80160333e-01,  2.63001672e-01,\n",
       "        7.36956382e-01,  1.54571168e-01, -1.48277262e+00, -8.24426598e-02,\n",
       "        6.06886020e-01,  1.48913811e+00, -3.67719580e-01,  7.50394169e-01,\n",
       "       -7.03489848e-02, -7.36574950e-01,  1.11630408e+00, -2.03336884e+00,\n",
       "       -8.24531017e-01,  9.33405214e-01,  1.47890604e+00, -4.27926975e-01,\n",
       "        1.22823194e+00,  1.76488457e+00,  8.47607999e-01,  5.93815031e-01,\n",
       "        4.65616086e-01,  1.45466735e-01,  8.84147901e-02,  1.05506856e-01,\n",
       "        1.87480222e-03, -6.23059963e-01,  9.51501058e-01,  6.56271119e-01,\n",
       "        1.93695639e+00,  5.92208208e-01,  5.80894095e-01,  6.89845717e-02,\n",
       "        1.36525507e+00,  4.84006420e-01, -1.80039670e-01,  1.25252584e+00,\n",
       "        5.34082495e-01, -1.66486108e-01,  1.79112598e-01, -7.61690261e-02,\n",
       "        2.00330321e-01,  6.37900319e-01,  3.00512863e-01, -4.12400210e-01,\n",
       "       -4.35560677e-01, -1.71762648e+00, -8.33801775e-01,  7.24595416e-01,\n",
       "       -3.11110701e+00, -2.27263663e+00, -1.63335275e-01,  1.65626888e-01,\n",
       "       -2.17916048e-03, -8.56466328e-01, -1.75328982e+00, -8.48936113e-01,\n",
       "       -1.20126131e+00,  1.49956345e+00,  1.40907312e+00, -9.21421495e-02,\n",
       "        1.87584277e+00,  4.98019019e-01, -2.54962033e+00, -2.60620742e-01,\n",
       "        6.78348942e-01,  2.11462715e-01,  5.18873053e-01,  2.33663291e-01,\n",
       "        2.65760129e-01,  1.64857195e-01,  7.58302167e-01,  1.51652877e-02]))], style={'background-color': 'black', 'box': {'visible': True}, 'axes': {'ticklabel': {'color': 'white'}, 'visible': True, 'color': 'white', 'label': {'color': 'white'}}}, tf=None, width=400, xlim=[-4.008537004486517, 2.847616890492611], ylim=[-3.433090833749469, 2.6844468062656244], zlim=[-3.111107005213819, 2.8396005392481487]),))"
      ]
     },
     "metadata": {},
     "output_type": "display_data"
    }
   ],
   "source": [
    "df = pd.DataFrame(np.random.randn(500,3)) # Random data\n",
    "plot3d_live(df.values) # Won't look interesting no matter what axes you use!"
   ]
  },
  {
   "cell_type": "code",
   "execution_count": 5,
   "metadata": {
    "slideshow": {
     "slide_type": "fragment"
    }
   },
   "outputs": [
    {
     "name": "stdout",
     "output_type": "stream",
     "text": [
      "PC 1 explains 37% of the variance\n",
      "PC 2 explains 32.8% of the variance\n",
      "PC 3 explains 30.1% of the variance\n"
     ]
    }
   ],
   "source": [
    "pca.fit(df.values)\n",
    "variance_explained(df,pca)"
   ]
  },
  {
   "cell_type": "markdown",
   "metadata": {
    "slideshow": {
     "slide_type": "slide"
    }
   },
   "source": [
    "## Potential solution: Use more interesting data"
   ]
  },
  {
   "cell_type": "markdown",
   "metadata": {
    "slideshow": {
     "slide_type": "slide"
    }
   },
   "source": [
    "## Pitfall #2: Dimensions have *very* unequal variances"
   ]
  },
  {
   "cell_type": "code",
   "execution_count": 6,
   "metadata": {
    "slideshow": {
     "slide_type": "fragment"
    }
   },
   "outputs": [],
   "source": [
    "df = pd.read_csv('data/crimedata.csv',delimiter='\\t',thousands=',')"
   ]
  },
  {
   "cell_type": "code",
   "execution_count": 7,
   "metadata": {
    "slideshow": {
     "slide_type": "skip"
    }
   },
   "outputs": [],
   "source": [
    "df = df.rename(columns=lambda x:x.replace('\\n',' ').replace('  ',' '))\n",
    "df = df.replace(20013,2001)\n",
    "df = df.replace(20124,2012)"
   ]
  },
  {
   "cell_type": "code",
   "execution_count": 8,
   "metadata": {
    "slideshow": {
     "slide_type": "fragment"
    }
   },
   "outputs": [
    {
     "data": {
      "text/html": [
       "<div>\n",
       "<style scoped>\n",
       "    .dataframe tbody tr th:only-of-type {\n",
       "        vertical-align: middle;\n",
       "    }\n",
       "\n",
       "    .dataframe tbody tr th {\n",
       "        vertical-align: top;\n",
       "    }\n",
       "\n",
       "    .dataframe thead th {\n",
       "        text-align: right;\n",
       "    }\n",
       "</style>\n",
       "<table border=\"1\" class=\"dataframe\">\n",
       "  <thead>\n",
       "    <tr style=\"text-align: right;\">\n",
       "      <th></th>\n",
       "      <th>Year</th>\n",
       "      <th>Population1</th>\n",
       "      <th>Violent crime</th>\n",
       "      <th>Violent crime rate</th>\n",
       "      <th>Murder and nonnegligent manslaughter</th>\n",
       "      <th>Murder and nonnegligent manslaughter rate</th>\n",
       "    </tr>\n",
       "  </thead>\n",
       "  <tbody>\n",
       "    <tr>\n",
       "      <th>0</th>\n",
       "      <td>1994</td>\n",
       "      <td>260327021</td>\n",
       "      <td>1857670</td>\n",
       "      <td>713.6</td>\n",
       "      <td>23326</td>\n",
       "      <td>9.0</td>\n",
       "    </tr>\n",
       "    <tr>\n",
       "      <th>1</th>\n",
       "      <td>1995</td>\n",
       "      <td>262803276</td>\n",
       "      <td>1798792</td>\n",
       "      <td>684.5</td>\n",
       "      <td>21606</td>\n",
       "      <td>8.2</td>\n",
       "    </tr>\n",
       "    <tr>\n",
       "      <th>2</th>\n",
       "      <td>1996</td>\n",
       "      <td>265228572</td>\n",
       "      <td>1688540</td>\n",
       "      <td>636.6</td>\n",
       "      <td>19645</td>\n",
       "      <td>7.4</td>\n",
       "    </tr>\n",
       "    <tr>\n",
       "      <th>3</th>\n",
       "      <td>1997</td>\n",
       "      <td>267783607</td>\n",
       "      <td>1636096</td>\n",
       "      <td>611.0</td>\n",
       "      <td>18208</td>\n",
       "      <td>6.8</td>\n",
       "    </tr>\n",
       "    <tr>\n",
       "      <th>4</th>\n",
       "      <td>1998</td>\n",
       "      <td>270248003</td>\n",
       "      <td>1533887</td>\n",
       "      <td>567.6</td>\n",
       "      <td>16974</td>\n",
       "      <td>6.3</td>\n",
       "    </tr>\n",
       "  </tbody>\n",
       "</table>\n",
       "</div>"
      ],
      "text/plain": [
       "   Year  Population1  Violent crime  Violent crime rate   \\\n",
       "0  1994    260327021        1857670                713.6   \n",
       "1  1995    262803276        1798792                684.5   \n",
       "2  1996    265228572        1688540                636.6   \n",
       "3  1997    267783607        1636096                611.0   \n",
       "4  1998    270248003        1533887                567.6   \n",
       "\n",
       "   Murder and nonnegligent manslaughter  \\\n",
       "0                                 23326   \n",
       "1                                 21606   \n",
       "2                                 19645   \n",
       "3                                 18208   \n",
       "4                                 16974   \n",
       "\n",
       "   Murder and nonnegligent manslaughter rate   \n",
       "0                                         9.0  \n",
       "1                                         8.2  \n",
       "2                                         7.4  \n",
       "3                                         6.8  \n",
       "4                                         6.3  "
      ]
     },
     "execution_count": 8,
     "metadata": {},
     "output_type": "execute_result"
    }
   ],
   "source": [
    "df.head()"
   ]
  },
  {
   "cell_type": "code",
   "execution_count": 9,
   "metadata": {
    "slideshow": {
     "slide_type": "slide"
    }
   },
   "outputs": [
    {
     "data": {
      "text/plain": [
       "Year                                          3.500000e+01\n",
       "Population1                                   3.355489e+14\n",
       "Violent crime                                 3.457880e+10\n",
       "Violent crime rate                            9.376104e+03\n",
       "Murder and nonnegligent manslaughter          5.374923e+06\n",
       "Murder and nonnegligent manslaughter rate     1.365132e+00\n",
       "dtype: float64"
      ]
     },
     "execution_count": 9,
     "metadata": {},
     "output_type": "execute_result"
    }
   ],
   "source": [
    "df.var()"
   ]
  },
  {
   "cell_type": "code",
   "execution_count": 10,
   "metadata": {
    "slideshow": {
     "slide_type": "fragment"
    }
   },
   "outputs": [
    {
     "data": {
      "image/png": "[encoded data removed]",
      "text/plain": [
       "<matplotlib.figure.Figure at 0x10ad4eac8>"
      ]
     },
     "metadata": {},
     "output_type": "display_data"
    }
   ],
   "source": [
    "df.plot.scatter('Population1','Violent crime rate ',figsize=(20,2));"
   ]
  },
  {
   "cell_type": "code",
   "execution_count": 11,
   "metadata": {
    "slideshow": {
     "slide_type": "fragment"
    }
   },
   "outputs": [
    {
     "name": "stdout",
     "output_type": "stream",
     "text": [
      "PC 1 explains 100% of the variance\n",
      "PC 2 explains 0.00178% of the variance\n",
      "PC 3 explains 6.28e-08% of the variance\n",
      "PC 4 explains 5.78e-12% of the variance\n",
      "PC 5 explains 5.02e-14% of the variance\n",
      "PC 6 explains 1.96e-16% of the variance\n"
     ]
    }
   ],
   "source": [
    "pca.fit(df.values)\n",
    "variance_explained(df,pca)"
   ]
  },
  {
   "cell_type": "markdown",
   "metadata": {
    "slideshow": {
     "slide_type": "slide"
    }
   },
   "source": [
    "## Potential solution: normalize the data so that each column has the same variance"
   ]
  },
  {
   "cell_type": "code",
   "execution_count": 12,
   "metadata": {
    "slideshow": {
     "slide_type": "fragment"
    }
   },
   "outputs": [
    {
     "data": {
      "text/plain": [
       "Year normalized                                          1.0\n",
       "Population1 normalized                                   1.0\n",
       "Violent crime normalized                                 1.0\n",
       "Violent crime rate  normalized                           1.0\n",
       "Murder and nonnegligent manslaughter normalized          1.0\n",
       "Murder and nonnegligent manslaughter rate  normalized    1.0\n",
       "dtype: float64"
      ]
     },
     "execution_count": 12,
     "metadata": {},
     "output_type": "execute_result"
    }
   ],
   "source": [
    "def normalize(df):\n",
    "    df_norm = df.div(df.std()) # Divide each column by its standard deviation\n",
    "    df_norm = df_norm.sub(df_norm.mean()) # Optionally subtract the mean from each column\n",
    "    df_norm = df_norm.rename(columns = lambda x:x+' normalized') # Add \"normalized' to column names\n",
    "    return df_norm\n",
    "\n",
    "df_norm = normalize(df)\n",
    "df_norm.var()"
   ]
  },
  {
   "cell_type": "code",
   "execution_count": 13,
   "metadata": {
    "slideshow": {
     "slide_type": "fragment"
    }
   },
   "outputs": [
    {
     "data": {
      "image/png": "[encoded data removed]",
      "text/plain": [
       "<matplotlib.figure.Figure at 0x10ae42f98>"
      ]
     },
     "metadata": {},
     "output_type": "display_data"
    }
   ],
   "source": [
    "df_norm.plot.scatter('Population1 normalized','Violent crime rate  normalized');"
   ]
  },
  {
   "cell_type": "code",
   "execution_count": 14,
   "metadata": {
    "slideshow": {
     "slide_type": "slide"
    }
   },
   "outputs": [
    {
     "name": "stdout",
     "output_type": "stream",
     "text": [
      "PC 1 explains 93.2% of the variance\n",
      "PC 2 explains 6.36% of the variance\n",
      "PC 3 explains 0.258% of the variance\n",
      "PC 4 explains 0.178% of the variance\n",
      "PC 5 explains 0.0106% of the variance\n",
      "PC 6 explains 0.00241% of the variance\n"
     ]
    }
   ],
   "source": [
    "pca.fit(df_norm.values)\n",
    "variance_explained(df_norm,pca)"
   ]
  },
  {
   "cell_type": "code",
   "execution_count": 15,
   "metadata": {
    "slideshow": {
     "slide_type": "fragment"
    }
   },
   "outputs": [
    {
     "data": {
      "text/html": [
       "<div>\n",
       "<style scoped>\n",
       "    .dataframe tbody tr th:only-of-type {\n",
       "        vertical-align: middle;\n",
       "    }\n",
       "\n",
       "    .dataframe tbody tr th {\n",
       "        vertical-align: top;\n",
       "    }\n",
       "\n",
       "    .dataframe thead th {\n",
       "        text-align: right;\n",
       "    }\n",
       "</style>\n",
       "<table border=\"1\" class=\"dataframe\">\n",
       "  <thead>\n",
       "    <tr style=\"text-align: right;\">\n",
       "      <th></th>\n",
       "      <th>PC 1</th>\n",
       "      <th>PC 2</th>\n",
       "      <th>PC 3</th>\n",
       "      <th>PC 4</th>\n",
       "      <th>PC 5</th>\n",
       "      <th>PC 6</th>\n",
       "    </tr>\n",
       "  </thead>\n",
       "  <tbody>\n",
       "    <tr>\n",
       "      <th>Year normalized</th>\n",
       "      <td>-0.4</td>\n",
       "      <td>-0.514</td>\n",
       "      <td>0.149</td>\n",
       "      <td>0.677</td>\n",
       "      <td>-0.305</td>\n",
       "      <td>0.047</td>\n",
       "    </tr>\n",
       "    <tr>\n",
       "      <th>Population1 normalized</th>\n",
       "      <td>-0.4</td>\n",
       "      <td>-0.514</td>\n",
       "      <td>0.239</td>\n",
       "      <td>-0.409</td>\n",
       "      <td>0.586</td>\n",
       "      <td>-0.0915</td>\n",
       "    </tr>\n",
       "    <tr>\n",
       "      <th>Violent crime normalized</th>\n",
       "      <td>0.42</td>\n",
       "      <td>-0.135</td>\n",
       "      <td>0.754</td>\n",
       "      <td>-0.12</td>\n",
       "      <td>-0.153</td>\n",
       "      <td>0.446</td>\n",
       "    </tr>\n",
       "    <tr>\n",
       "      <th>Violent crime rate  normalized</th>\n",
       "      <td>0.422</td>\n",
       "      <td>0.0245</td>\n",
       "      <td>0.293</td>\n",
       "      <td>0.42</td>\n",
       "      <td>0.383</td>\n",
       "      <td>-0.642</td>\n",
       "    </tr>\n",
       "    <tr>\n",
       "      <th>Murder and nonnegligent manslaughter normalized</th>\n",
       "      <td>0.393</td>\n",
       "      <td>-0.593</td>\n",
       "      <td>-0.254</td>\n",
       "      <td>-0.333</td>\n",
       "      <td>-0.436</td>\n",
       "      <td>-0.359</td>\n",
       "    </tr>\n",
       "    <tr>\n",
       "      <th>Murder and nonnegligent manslaughter rate  normalized</th>\n",
       "      <td>0.414</td>\n",
       "      <td>-0.319</td>\n",
       "      <td>-0.449</td>\n",
       "      <td>0.269</td>\n",
       "      <td>0.451</td>\n",
       "      <td>0.5</td>\n",
       "    </tr>\n",
       "  </tbody>\n",
       "</table>\n",
       "</div>"
      ],
      "text/plain": [
       "                                                     PC 1    PC 2    PC 3  \\\n",
       "Year normalized                                      -0.4  -0.514   0.149   \n",
       "Population1 normalized                               -0.4  -0.514   0.239   \n",
       "Violent crime normalized                             0.42  -0.135   0.754   \n",
       "Violent crime rate  normalized                      0.422  0.0245   0.293   \n",
       "Murder and nonnegligent manslaughter normalized     0.393  -0.593  -0.254   \n",
       "Murder and nonnegligent manslaughter rate  norm...  0.414  -0.319  -0.449   \n",
       "\n",
       "                                                      PC 4    PC 5     PC 6  \n",
       "Year normalized                                      0.677  -0.305    0.047  \n",
       "Population1 normalized                              -0.409   0.586  -0.0915  \n",
       "Violent crime normalized                             -0.12  -0.153    0.446  \n",
       "Violent crime rate  normalized                        0.42   0.383   -0.642  \n",
       "Murder and nonnegligent manslaughter normalized     -0.333  -0.436   -0.359  \n",
       "Murder and nonnegligent manslaughter rate  norm...   0.269   0.451      0.5  "
      ]
     },
     "execution_count": 15,
     "metadata": {},
     "output_type": "execute_result"
    }
   ],
   "source": [
    "pc_report(pca,df_norm)"
   ]
  },
  {
   "cell_type": "code",
   "execution_count": 16,
   "metadata": {
    "slideshow": {
     "slide_type": "slide"
    }
   },
   "outputs": [
    {
     "data": {
      "image/png": "[encoded data removed]",
      "text/plain": [
       "<matplotlib.figure.Figure at 0x10af7ab70>"
      ]
     },
     "metadata": {},
     "output_type": "display_data"
    }
   ],
   "source": [
    "plot_transformed_data(pca,df_norm)"
   ]
  },
  {
   "cell_type": "markdown",
   "metadata": {
    "slideshow": {
     "slide_type": "slide"
    }
   },
   "source": [
    "## Pitfall #3: Treating independent variables as measurements of interest"
   ]
  },
  {
   "cell_type": "code",
   "execution_count": 17,
   "metadata": {
    "slideshow": {
     "slide_type": "fragment"
    }
   },
   "outputs": [
    {
     "data": {
      "text/html": [
       "<div>\n",
       "<style scoped>\n",
       "    .dataframe tbody tr th:only-of-type {\n",
       "        vertical-align: middle;\n",
       "    }\n",
       "\n",
       "    .dataframe tbody tr th {\n",
       "        vertical-align: top;\n",
       "    }\n",
       "\n",
       "    .dataframe thead th {\n",
       "        text-align: right;\n",
       "    }\n",
       "</style>\n",
       "<table border=\"1\" class=\"dataframe\">\n",
       "  <thead>\n",
       "    <tr style=\"text-align: right;\">\n",
       "      <th></th>\n",
       "      <th>Year</th>\n",
       "      <th>Population1</th>\n",
       "      <th>Violent crime</th>\n",
       "      <th>Violent crime rate</th>\n",
       "      <th>Murder and nonnegligent manslaughter</th>\n",
       "      <th>Murder and nonnegligent manslaughter rate</th>\n",
       "    </tr>\n",
       "  </thead>\n",
       "  <tbody>\n",
       "    <tr>\n",
       "      <th>0</th>\n",
       "      <td>1994</td>\n",
       "      <td>260327021</td>\n",
       "      <td>1857670</td>\n",
       "      <td>713.6</td>\n",
       "      <td>23326</td>\n",
       "      <td>9.0</td>\n",
       "    </tr>\n",
       "    <tr>\n",
       "      <th>1</th>\n",
       "      <td>1995</td>\n",
       "      <td>262803276</td>\n",
       "      <td>1798792</td>\n",
       "      <td>684.5</td>\n",
       "      <td>21606</td>\n",
       "      <td>8.2</td>\n",
       "    </tr>\n",
       "    <tr>\n",
       "      <th>2</th>\n",
       "      <td>1996</td>\n",
       "      <td>265228572</td>\n",
       "      <td>1688540</td>\n",
       "      <td>636.6</td>\n",
       "      <td>19645</td>\n",
       "      <td>7.4</td>\n",
       "    </tr>\n",
       "    <tr>\n",
       "      <th>3</th>\n",
       "      <td>1997</td>\n",
       "      <td>267783607</td>\n",
       "      <td>1636096</td>\n",
       "      <td>611.0</td>\n",
       "      <td>18208</td>\n",
       "      <td>6.8</td>\n",
       "    </tr>\n",
       "    <tr>\n",
       "      <th>4</th>\n",
       "      <td>1998</td>\n",
       "      <td>270248003</td>\n",
       "      <td>1533887</td>\n",
       "      <td>567.6</td>\n",
       "      <td>16974</td>\n",
       "      <td>6.3</td>\n",
       "    </tr>\n",
       "  </tbody>\n",
       "</table>\n",
       "</div>"
      ],
      "text/plain": [
       "   Year  Population1  Violent crime  Violent crime rate   \\\n",
       "0  1994    260327021        1857670                713.6   \n",
       "1  1995    262803276        1798792                684.5   \n",
       "2  1996    265228572        1688540                636.6   \n",
       "3  1997    267783607        1636096                611.0   \n",
       "4  1998    270248003        1533887                567.6   \n",
       "\n",
       "   Murder and nonnegligent manslaughter  \\\n",
       "0                                 23326   \n",
       "1                                 21606   \n",
       "2                                 19645   \n",
       "3                                 18208   \n",
       "4                                 16974   \n",
       "\n",
       "   Murder and nonnegligent manslaughter rate   \n",
       "0                                         9.0  \n",
       "1                                         8.2  \n",
       "2                                         7.4  \n",
       "3                                         6.8  \n",
       "4                                         6.3  "
      ]
     },
     "execution_count": 17,
     "metadata": {},
     "output_type": "execute_result"
    }
   ],
   "source": [
    "df.head()"
   ]
  },
  {
   "cell_type": "markdown",
   "metadata": {
    "slideshow": {
     "slide_type": "slide"
    }
   },
   "source": [
    "## Potential solution: Move independent variables to the index"
   ]
  },
  {
   "cell_type": "code",
   "execution_count": 18,
   "metadata": {
    "slideshow": {
     "slide_type": "fragment"
    }
   },
   "outputs": [
    {
     "data": {
      "text/html": [
       "<div>\n",
       "<style scoped>\n",
       "    .dataframe tbody tr th:only-of-type {\n",
       "        vertical-align: middle;\n",
       "    }\n",
       "\n",
       "    .dataframe tbody tr th {\n",
       "        vertical-align: top;\n",
       "    }\n",
       "\n",
       "    .dataframe thead th {\n",
       "        text-align: right;\n",
       "    }\n",
       "</style>\n",
       "<table border=\"1\" class=\"dataframe\">\n",
       "  <thead>\n",
       "    <tr style=\"text-align: right;\">\n",
       "      <th></th>\n",
       "      <th>Population1</th>\n",
       "      <th>Violent crime</th>\n",
       "      <th>Violent crime rate</th>\n",
       "      <th>Murder and nonnegligent manslaughter</th>\n",
       "      <th>Murder and nonnegligent manslaughter rate</th>\n",
       "    </tr>\n",
       "    <tr>\n",
       "      <th>Year</th>\n",
       "      <th></th>\n",
       "      <th></th>\n",
       "      <th></th>\n",
       "      <th></th>\n",
       "      <th></th>\n",
       "    </tr>\n",
       "  </thead>\n",
       "  <tbody>\n",
       "    <tr>\n",
       "      <th>1994</th>\n",
       "      <td>260327021</td>\n",
       "      <td>1857670</td>\n",
       "      <td>713.6</td>\n",
       "      <td>23326</td>\n",
       "      <td>9.0</td>\n",
       "    </tr>\n",
       "    <tr>\n",
       "      <th>1995</th>\n",
       "      <td>262803276</td>\n",
       "      <td>1798792</td>\n",
       "      <td>684.5</td>\n",
       "      <td>21606</td>\n",
       "      <td>8.2</td>\n",
       "    </tr>\n",
       "    <tr>\n",
       "      <th>1996</th>\n",
       "      <td>265228572</td>\n",
       "      <td>1688540</td>\n",
       "      <td>636.6</td>\n",
       "      <td>19645</td>\n",
       "      <td>7.4</td>\n",
       "    </tr>\n",
       "    <tr>\n",
       "      <th>1997</th>\n",
       "      <td>267783607</td>\n",
       "      <td>1636096</td>\n",
       "      <td>611.0</td>\n",
       "      <td>18208</td>\n",
       "      <td>6.8</td>\n",
       "    </tr>\n",
       "    <tr>\n",
       "      <th>1998</th>\n",
       "      <td>270248003</td>\n",
       "      <td>1533887</td>\n",
       "      <td>567.6</td>\n",
       "      <td>16974</td>\n",
       "      <td>6.3</td>\n",
       "    </tr>\n",
       "  </tbody>\n",
       "</table>\n",
       "</div>"
      ],
      "text/plain": [
       "      Population1  Violent crime  Violent crime rate   \\\n",
       "Year                                                    \n",
       "1994    260327021        1857670                713.6   \n",
       "1995    262803276        1798792                684.5   \n",
       "1996    265228572        1688540                636.6   \n",
       "1997    267783607        1636096                611.0   \n",
       "1998    270248003        1533887                567.6   \n",
       "\n",
       "      Murder and nonnegligent manslaughter  \\\n",
       "Year                                         \n",
       "1994                                 23326   \n",
       "1995                                 21606   \n",
       "1996                                 19645   \n",
       "1997                                 18208   \n",
       "1998                                 16974   \n",
       "\n",
       "      Murder and nonnegligent manslaughter rate   \n",
       "Year                                              \n",
       "1994                                         9.0  \n",
       "1995                                         8.2  \n",
       "1996                                         7.4  \n",
       "1997                                         6.8  \n",
       "1998                                         6.3  "
      ]
     },
     "execution_count": 18,
     "metadata": {},
     "output_type": "execute_result"
    }
   ],
   "source": [
    "df = df.set_index('Year')\n",
    "df.head()"
   ]
  },
  {
   "cell_type": "code",
   "execution_count": 19,
   "metadata": {
    "slideshow": {
     "slide_type": "fragment"
    }
   },
   "outputs": [
    {
     "data": {
      "image/png": "[encoded data removed]",
      "text/plain": [
       "<matplotlib.figure.Figure at 0x10d8d2b70>"
      ]
     },
     "metadata": {},
     "output_type": "display_data"
    }
   ],
   "source": [
    "df_norm = normalize(df)\n",
    "plot_transformed_data(pca,df_norm)"
   ]
  },
  {
   "cell_type": "code",
   "execution_count": 20,
   "metadata": {
    "slideshow": {
     "slide_type": "slide"
    }
   },
   "outputs": [
    {
     "data": {
      "image/png": "[encoded data removed]",
      "text/plain": [
       "<matplotlib.figure.Figure at 0x10afa5eb8>"
      ]
     },
     "metadata": {},
     "output_type": "display_data"
    }
   ],
   "source": [
    "df_norm.plot.line()\n",
    "plt.legend(fontsize=9)\n",
    "plt.ylabel('Normalized values');"
   ]
  },
  {
   "cell_type": "markdown",
   "metadata": {
    "slideshow": {
     "slide_type": "slide"
    }
   },
   "source": [
    "## Pitfall #4: Observations are highly correlated"
   ]
  },
  {
   "cell_type": "code",
   "execution_count": 21,
   "metadata": {
    "slideshow": {
     "slide_type": "fragment"
    }
   },
   "outputs": [
    {
     "data": {
      "text/html": [
       "<div>\n",
       "<style scoped>\n",
       "    .dataframe tbody tr th:only-of-type {\n",
       "        vertical-align: middle;\n",
       "    }\n",
       "\n",
       "    .dataframe tbody tr th {\n",
       "        vertical-align: top;\n",
       "    }\n",
       "\n",
       "    .dataframe thead th {\n",
       "        text-align: right;\n",
       "    }\n",
       "</style>\n",
       "<table border=\"1\" class=\"dataframe\">\n",
       "  <thead>\n",
       "    <tr style=\"text-align: right;\">\n",
       "      <th></th>\n",
       "      <th>Population1</th>\n",
       "      <th>Violent crime</th>\n",
       "      <th>Violent crime rate</th>\n",
       "      <th>Murder and nonnegligent manslaughter</th>\n",
       "      <th>Murder and nonnegligent manslaughter rate</th>\n",
       "    </tr>\n",
       "  </thead>\n",
       "  <tbody>\n",
       "    <tr>\n",
       "      <th>Population1</th>\n",
       "      <td>1.00</td>\n",
       "      <td>-0.91</td>\n",
       "      <td>-0.95</td>\n",
       "      <td>-0.76</td>\n",
       "      <td>-0.87</td>\n",
       "    </tr>\n",
       "    <tr>\n",
       "      <th>Violent crime</th>\n",
       "      <td>-0.91</td>\n",
       "      <td>1.00</td>\n",
       "      <td>0.99</td>\n",
       "      <td>0.95</td>\n",
       "      <td>0.98</td>\n",
       "    </tr>\n",
       "    <tr>\n",
       "      <th>Violent crime rate</th>\n",
       "      <td>-0.95</td>\n",
       "      <td>0.99</td>\n",
       "      <td>1.00</td>\n",
       "      <td>0.92</td>\n",
       "      <td>0.97</td>\n",
       "    </tr>\n",
       "    <tr>\n",
       "      <th>Murder and nonnegligent manslaughter</th>\n",
       "      <td>-0.76</td>\n",
       "      <td>0.95</td>\n",
       "      <td>0.92</td>\n",
       "      <td>1.00</td>\n",
       "      <td>0.98</td>\n",
       "    </tr>\n",
       "    <tr>\n",
       "      <th>Murder and nonnegligent manslaughter rate</th>\n",
       "      <td>-0.87</td>\n",
       "      <td>0.98</td>\n",
       "      <td>0.97</td>\n",
       "      <td>0.98</td>\n",
       "      <td>1.00</td>\n",
       "    </tr>\n",
       "  </tbody>\n",
       "</table>\n",
       "</div>"
      ],
      "text/plain": [
       "                                            Population1  Violent crime  \\\n",
       "Population1                                        1.00          -0.91   \n",
       "Violent crime                                     -0.91           1.00   \n",
       "Violent crime rate                                -0.95           0.99   \n",
       "Murder and nonnegligent manslaughter              -0.76           0.95   \n",
       "Murder and nonnegligent manslaughter rate         -0.87           0.98   \n",
       "\n",
       "                                            Violent crime rate   \\\n",
       "Population1                                               -0.95   \n",
       "Violent crime                                              0.99   \n",
       "Violent crime rate                                         1.00   \n",
       "Murder and nonnegligent manslaughter                       0.92   \n",
       "Murder and nonnegligent manslaughter rate                  0.97   \n",
       "\n",
       "                                            Murder and nonnegligent manslaughter  \\\n",
       "Population1                                                                -0.76   \n",
       "Violent crime                                                               0.95   \n",
       "Violent crime rate                                                          0.92   \n",
       "Murder and nonnegligent manslaughter                                        1.00   \n",
       "Murder and nonnegligent manslaughter rate                                   0.98   \n",
       "\n",
       "                                            Murder and nonnegligent manslaughter rate   \n",
       "Population1                                                                      -0.87  \n",
       "Violent crime                                                                     0.98  \n",
       "Violent crime rate                                                                0.97  \n",
       "Murder and nonnegligent manslaughter                                              0.98  \n",
       "Murder and nonnegligent manslaughter rate                                         1.00  "
      ]
     },
     "execution_count": 21,
     "metadata": {},
     "output_type": "execute_result"
    }
   ],
   "source": [
    "df.corr().round(2)"
   ]
  },
  {
   "cell_type": "markdown",
   "metadata": {
    "slideshow": {
     "slide_type": "slide"
    }
   },
   "source": [
    "## Potential solution: Use changes in values instead of the original values"
   ]
  },
  {
   "cell_type": "code",
   "execution_count": 22,
   "metadata": {
    "slideshow": {
     "slide_type": "fragment"
    }
   },
   "outputs": [
    {
     "data": {
      "text/html": [
       "<div>\n",
       "<style scoped>\n",
       "    .dataframe tbody tr th:only-of-type {\n",
       "        vertical-align: middle;\n",
       "    }\n",
       "\n",
       "    .dataframe tbody tr th {\n",
       "        vertical-align: top;\n",
       "    }\n",
       "\n",
       "    .dataframe thead th {\n",
       "        text-align: right;\n",
       "    }\n",
       "</style>\n",
       "<table border=\"1\" class=\"dataframe\">\n",
       "  <thead>\n",
       "    <tr style=\"text-align: right;\">\n",
       "      <th></th>\n",
       "      <th>Population1</th>\n",
       "      <th>Violent crime</th>\n",
       "      <th>Violent crime rate</th>\n",
       "      <th>Murder and nonnegligent manslaughter</th>\n",
       "      <th>Murder and nonnegligent manslaughter rate</th>\n",
       "    </tr>\n",
       "    <tr>\n",
       "      <th>Year</th>\n",
       "      <th></th>\n",
       "      <th></th>\n",
       "      <th></th>\n",
       "      <th></th>\n",
       "      <th></th>\n",
       "    </tr>\n",
       "  </thead>\n",
       "  <tbody>\n",
       "    <tr>\n",
       "      <th>1995</th>\n",
       "      <td>2476255.0</td>\n",
       "      <td>-58878.0</td>\n",
       "      <td>-29.1</td>\n",
       "      <td>-1720.0</td>\n",
       "      <td>-0.8</td>\n",
       "    </tr>\n",
       "    <tr>\n",
       "      <th>1996</th>\n",
       "      <td>2425296.0</td>\n",
       "      <td>-110252.0</td>\n",
       "      <td>-47.9</td>\n",
       "      <td>-1961.0</td>\n",
       "      <td>-0.8</td>\n",
       "    </tr>\n",
       "    <tr>\n",
       "      <th>1997</th>\n",
       "      <td>2555035.0</td>\n",
       "      <td>-52444.0</td>\n",
       "      <td>-25.6</td>\n",
       "      <td>-1437.0</td>\n",
       "      <td>-0.6</td>\n",
       "    </tr>\n",
       "    <tr>\n",
       "      <th>1998</th>\n",
       "      <td>2464396.0</td>\n",
       "      <td>-102209.0</td>\n",
       "      <td>-43.4</td>\n",
       "      <td>-1234.0</td>\n",
       "      <td>-0.5</td>\n",
       "    </tr>\n",
       "    <tr>\n",
       "      <th>1999</th>\n",
       "      <td>2442810.0</td>\n",
       "      <td>-107843.0</td>\n",
       "      <td>-44.6</td>\n",
       "      <td>-1452.0</td>\n",
       "      <td>-0.6</td>\n",
       "    </tr>\n",
       "  </tbody>\n",
       "</table>\n",
       "</div>"
      ],
      "text/plain": [
       "      Population1  Violent crime  Violent crime rate   \\\n",
       "Year                                                    \n",
       "1995    2476255.0       -58878.0                -29.1   \n",
       "1996    2425296.0      -110252.0                -47.9   \n",
       "1997    2555035.0       -52444.0                -25.6   \n",
       "1998    2464396.0      -102209.0                -43.4   \n",
       "1999    2442810.0      -107843.0                -44.6   \n",
       "\n",
       "      Murder and nonnegligent manslaughter  \\\n",
       "Year                                         \n",
       "1995                               -1720.0   \n",
       "1996                               -1961.0   \n",
       "1997                               -1437.0   \n",
       "1998                               -1234.0   \n",
       "1999                               -1452.0   \n",
       "\n",
       "      Murder and nonnegligent manslaughter rate   \n",
       "Year                                              \n",
       "1995                                        -0.8  \n",
       "1996                                        -0.8  \n",
       "1997                                        -0.6  \n",
       "1998                                        -0.5  \n",
       "1999                                        -0.6  "
      ]
     },
     "execution_count": 22,
     "metadata": {},
     "output_type": "execute_result"
    }
   ],
   "source": [
    "df_diff = df.diff().dropna()\n",
    "df_diff.head()"
   ]
  },
  {
   "cell_type": "code",
   "execution_count": 23,
   "metadata": {
    "slideshow": {
     "slide_type": "slide"
    }
   },
   "outputs": [
    {
     "data": {
      "text/html": [
       "<div>\n",
       "<style scoped>\n",
       "    .dataframe tbody tr th:only-of-type {\n",
       "        vertical-align: middle;\n",
       "    }\n",
       "\n",
       "    .dataframe tbody tr th {\n",
       "        vertical-align: top;\n",
       "    }\n",
       "\n",
       "    .dataframe thead th {\n",
       "        text-align: right;\n",
       "    }\n",
       "</style>\n",
       "<table border=\"1\" class=\"dataframe\">\n",
       "  <thead>\n",
       "    <tr style=\"text-align: right;\">\n",
       "      <th></th>\n",
       "      <th>Population1</th>\n",
       "      <th>Violent crime</th>\n",
       "      <th>Violent crime rate</th>\n",
       "      <th>Murder and nonnegligent manslaughter</th>\n",
       "      <th>Murder and nonnegligent manslaughter rate</th>\n",
       "    </tr>\n",
       "  </thead>\n",
       "  <tbody>\n",
       "    <tr>\n",
       "      <th>Population1</th>\n",
       "      <td>1.00</td>\n",
       "      <td>0.29</td>\n",
       "      <td>0.12</td>\n",
       "      <td>0.26</td>\n",
       "      <td>0.13</td>\n",
       "    </tr>\n",
       "    <tr>\n",
       "      <th>Violent crime</th>\n",
       "      <td>0.29</td>\n",
       "      <td>1.00</td>\n",
       "      <td>0.98</td>\n",
       "      <td>0.86</td>\n",
       "      <td>0.80</td>\n",
       "    </tr>\n",
       "    <tr>\n",
       "      <th>Violent crime rate</th>\n",
       "      <td>0.12</td>\n",
       "      <td>0.98</td>\n",
       "      <td>1.00</td>\n",
       "      <td>0.88</td>\n",
       "      <td>0.85</td>\n",
       "    </tr>\n",
       "    <tr>\n",
       "      <th>Murder and nonnegligent manslaughter</th>\n",
       "      <td>0.26</td>\n",
       "      <td>0.86</td>\n",
       "      <td>0.88</td>\n",
       "      <td>1.00</td>\n",
       "      <td>0.98</td>\n",
       "    </tr>\n",
       "    <tr>\n",
       "      <th>Murder and nonnegligent manslaughter rate</th>\n",
       "      <td>0.13</td>\n",
       "      <td>0.80</td>\n",
       "      <td>0.85</td>\n",
       "      <td>0.98</td>\n",
       "      <td>1.00</td>\n",
       "    </tr>\n",
       "  </tbody>\n",
       "</table>\n",
       "</div>"
      ],
      "text/plain": [
       "                                            Population1  Violent crime  \\\n",
       "Population1                                        1.00           0.29   \n",
       "Violent crime                                      0.29           1.00   \n",
       "Violent crime rate                                 0.12           0.98   \n",
       "Murder and nonnegligent manslaughter               0.26           0.86   \n",
       "Murder and nonnegligent manslaughter rate          0.13           0.80   \n",
       "\n",
       "                                            Violent crime rate   \\\n",
       "Population1                                                0.12   \n",
       "Violent crime                                              0.98   \n",
       "Violent crime rate                                         1.00   \n",
       "Murder and nonnegligent manslaughter                       0.88   \n",
       "Murder and nonnegligent manslaughter rate                  0.85   \n",
       "\n",
       "                                            Murder and nonnegligent manslaughter  \\\n",
       "Population1                                                                 0.26   \n",
       "Violent crime                                                               0.86   \n",
       "Violent crime rate                                                          0.88   \n",
       "Murder and nonnegligent manslaughter                                        1.00   \n",
       "Murder and nonnegligent manslaughter rate                                   0.98   \n",
       "\n",
       "                                            Murder and nonnegligent manslaughter rate   \n",
       "Population1                                                                       0.13  \n",
       "Violent crime                                                                     0.80  \n",
       "Violent crime rate                                                                0.85  \n",
       "Murder and nonnegligent manslaughter                                              0.98  \n",
       "Murder and nonnegligent manslaughter rate                                         1.00  "
      ]
     },
     "execution_count": 23,
     "metadata": {},
     "output_type": "execute_result"
    }
   ],
   "source": [
    "df_diff.corr().round(2)"
   ]
  },
  {
   "cell_type": "code",
   "execution_count": 24,
   "metadata": {
    "slideshow": {
     "slide_type": "fragment"
    }
   },
   "outputs": [
    {
     "name": "stdout",
     "output_type": "stream",
     "text": [
      "PC 1 explains 74.7% of the variance\n",
      "PC 2 explains 19.4% of the variance\n",
      "PC 3 explains 5.66% of the variance\n",
      "PC 4 explains 0.235% of the variance\n",
      "PC 5 explains 0.0676% of the variance\n"
     ]
    }
   ],
   "source": [
    "df_diff = normalize(df_diff)\n",
    "variance_explained(df_diff,pca)"
   ]
  },
  {
   "cell_type": "code",
   "execution_count": 25,
   "metadata": {
    "slideshow": {
     "slide_type": "slide"
    }
   },
   "outputs": [
    {
     "data": {
      "text/html": [
       "<div>\n",
       "<style scoped>\n",
       "    .dataframe tbody tr th:only-of-type {\n",
       "        vertical-align: middle;\n",
       "    }\n",
       "\n",
       "    .dataframe tbody tr th {\n",
       "        vertical-align: top;\n",
       "    }\n",
       "\n",
       "    .dataframe thead th {\n",
       "        text-align: right;\n",
       "    }\n",
       "</style>\n",
       "<table border=\"1\" class=\"dataframe\">\n",
       "  <thead>\n",
       "    <tr style=\"text-align: right;\">\n",
       "      <th></th>\n",
       "      <th>PC 1</th>\n",
       "      <th>PC 2</th>\n",
       "      <th>PC 3</th>\n",
       "      <th>PC 4</th>\n",
       "      <th>PC 5</th>\n",
       "    </tr>\n",
       "  </thead>\n",
       "  <tbody>\n",
       "    <tr>\n",
       "      <th>Population1 normalized</th>\n",
       "      <td>-0.145</td>\n",
       "      <td>0.975</td>\n",
       "      <td>-0.0494</td>\n",
       "      <td>0.149</td>\n",
       "      <td>0.0589</td>\n",
       "    </tr>\n",
       "    <tr>\n",
       "      <th>Violent crime normalized</th>\n",
       "      <td>-0.494</td>\n",
       "      <td>0.0374</td>\n",
       "      <td>0.548</td>\n",
       "      <td>-0.308</td>\n",
       "      <td>-0.6</td>\n",
       "    </tr>\n",
       "    <tr>\n",
       "      <th>Violent crime rate  normalized</th>\n",
       "      <td>-0.496</td>\n",
       "      <td>-0.152</td>\n",
       "      <td>0.448</td>\n",
       "      <td>0.431</td>\n",
       "      <td>0.587</td>\n",
       "    </tr>\n",
       "    <tr>\n",
       "      <th>Murder and nonnegligent manslaughter normalized</th>\n",
       "      <td>-0.503</td>\n",
       "      <td>-0.0178</td>\n",
       "      <td>-0.416</td>\n",
       "      <td>-0.66</td>\n",
       "      <td>0.373</td>\n",
       "    </tr>\n",
       "    <tr>\n",
       "      <th>Murder and nonnegligent manslaughter rate  normalized</th>\n",
       "      <td>-0.486</td>\n",
       "      <td>-0.156</td>\n",
       "      <td>-0.569</td>\n",
       "      <td>0.512</td>\n",
       "      <td>-0.392</td>\n",
       "    </tr>\n",
       "  </tbody>\n",
       "</table>\n",
       "</div>"
      ],
      "text/plain": [
       "                                                      PC 1     PC 2     PC 3  \\\n",
       "Population1 normalized                              -0.145    0.975  -0.0494   \n",
       "Violent crime normalized                            -0.494   0.0374    0.548   \n",
       "Violent crime rate  normalized                      -0.496   -0.152    0.448   \n",
       "Murder and nonnegligent manslaughter normalized     -0.503  -0.0178   -0.416   \n",
       "Murder and nonnegligent manslaughter rate  norm...  -0.486   -0.156   -0.569   \n",
       "\n",
       "                                                      PC 4    PC 5  \n",
       "Population1 normalized                               0.149  0.0589  \n",
       "Violent crime normalized                            -0.308    -0.6  \n",
       "Violent crime rate  normalized                       0.431   0.587  \n",
       "Murder and nonnegligent manslaughter normalized      -0.66   0.373  \n",
       "Murder and nonnegligent manslaughter rate  norm...   0.512  -0.392  "
      ]
     },
     "execution_count": 25,
     "metadata": {},
     "output_type": "execute_result"
    }
   ],
   "source": [
    "pc_report(pca,df_diff)"
   ]
  },
  {
   "cell_type": "code",
   "execution_count": 26,
   "metadata": {
    "slideshow": {
     "slide_type": "fragment"
    }
   },
   "outputs": [
    {
     "data": {
      "image/png": "[encoded data removed]",
      "text/plain": [
       "<matplotlib.figure.Figure at 0x10da8ad68>"
      ]
     },
     "metadata": {},
     "output_type": "display_data"
    }
   ],
   "source": [
    "plot_transformed_data(pca,df_diff)"
   ]
  },
  {
   "cell_type": "markdown",
   "metadata": {
    "slideshow": {
     "slide_type": "slide"
    }
   },
   "source": [
    "## Pitfall #5: Including other non-measurments in the \"data\""
   ]
  },
  {
   "cell_type": "code",
   "execution_count": 27,
   "metadata": {
    "slideshow": {
     "slide_type": "fragment"
    }
   },
   "outputs": [
    {
     "data": {
      "text/html": [
       "<div>\n",
       "<style scoped>\n",
       "    .dataframe tbody tr th:only-of-type {\n",
       "        vertical-align: middle;\n",
       "    }\n",
       "\n",
       "    .dataframe tbody tr th {\n",
       "        vertical-align: top;\n",
       "    }\n",
       "\n",
       "    .dataframe thead th {\n",
       "        text-align: right;\n",
       "    }\n",
       "</style>\n",
       "<table border=\"1\" class=\"dataframe\">\n",
       "  <thead>\n",
       "    <tr style=\"text-align: right;\">\n",
       "      <th></th>\n",
       "      <th>RK</th>\n",
       "      <th>PTS</th>\n",
       "      <th>FGM</th>\n",
       "      <th>FGA</th>\n",
       "      <th>FG%</th>\n",
       "      <th>3PM</th>\n",
       "      <th>3PA</th>\n",
       "      <th>3P%</th>\n",
       "      <th>FTM</th>\n",
       "      <th>FTA</th>\n",
       "      <th>FT%</th>\n",
       "      <th>PPS</th>\n",
       "      <th>AFG%</th>\n",
       "    </tr>\n",
       "  </thead>\n",
       "  <tbody>\n",
       "    <tr>\n",
       "      <th>0</th>\n",
       "      <td>1</td>\n",
       "      <td>114.4</td>\n",
       "      <td>39.4</td>\n",
       "      <td>85.6</td>\n",
       "      <td>0.460</td>\n",
       "      <td>15.7</td>\n",
       "      <td>43.2</td>\n",
       "      <td>0.364</td>\n",
       "      <td>19.9</td>\n",
       "      <td>25.2</td>\n",
       "      <td>0.792</td>\n",
       "      <td>1.34</td>\n",
       "      <td>0.552</td>\n",
       "    </tr>\n",
       "    <tr>\n",
       "      <th>1</th>\n",
       "      <td>2</td>\n",
       "      <td>105.7</td>\n",
       "      <td>37.8</td>\n",
       "      <td>86.7</td>\n",
       "      <td>0.436</td>\n",
       "      <td>11.9</td>\n",
       "      <td>34.0</td>\n",
       "      <td>0.348</td>\n",
       "      <td>18.2</td>\n",
       "      <td>23.9</td>\n",
       "      <td>0.761</td>\n",
       "      <td>1.22</td>\n",
       "      <td>0.504</td>\n",
       "    </tr>\n",
       "    <tr>\n",
       "      <th>2</th>\n",
       "      <td>3</td>\n",
       "      <td>109.7</td>\n",
       "      <td>39.6</td>\n",
       "      <td>83.9</td>\n",
       "      <td>0.472</td>\n",
       "      <td>12.0</td>\n",
       "      <td>32.8</td>\n",
       "      <td>0.365</td>\n",
       "      <td>18.6</td>\n",
       "      <td>23.2</td>\n",
       "      <td>0.801</td>\n",
       "      <td>1.31</td>\n",
       "      <td>0.543</td>\n",
       "    </tr>\n",
       "    <tr>\n",
       "      <th>3</th>\n",
       "      <td>4</td>\n",
       "      <td>102.5</td>\n",
       "      <td>38.1</td>\n",
       "      <td>84.5</td>\n",
       "      <td>0.451</td>\n",
       "      <td>11.6</td>\n",
       "      <td>31.9</td>\n",
       "      <td>0.365</td>\n",
       "      <td>14.7</td>\n",
       "      <td>19.0</td>\n",
       "      <td>0.774</td>\n",
       "      <td>1.21</td>\n",
       "      <td>0.520</td>\n",
       "    </tr>\n",
       "    <tr>\n",
       "      <th>4</th>\n",
       "      <td>5</td>\n",
       "      <td>111.3</td>\n",
       "      <td>40.9</td>\n",
       "      <td>87.4</td>\n",
       "      <td>0.468</td>\n",
       "      <td>11.2</td>\n",
       "      <td>31.8</td>\n",
       "      <td>0.351</td>\n",
       "      <td>18.4</td>\n",
       "      <td>22.9</td>\n",
       "      <td>0.804</td>\n",
       "      <td>1.27</td>\n",
       "      <td>0.532</td>\n",
       "    </tr>\n",
       "  </tbody>\n",
       "</table>\n",
       "</div>"
      ],
      "text/plain": [
       "   RK    PTS   FGM   FGA    FG%   3PM   3PA    3P%   FTM   FTA    FT%   PPS  \\\n",
       "0   1  114.4  39.4  85.6  0.460  15.7  43.2  0.364  19.9  25.2  0.792  1.34   \n",
       "1   2  105.7  37.8  86.7  0.436  11.9  34.0  0.348  18.2  23.9  0.761  1.22   \n",
       "2   3  109.7  39.6  83.9  0.472  12.0  32.8  0.365  18.6  23.2  0.801  1.31   \n",
       "3   4  102.5  38.1  84.5  0.451  11.6  31.9  0.365  14.7  19.0  0.774  1.21   \n",
       "4   5  111.3  40.9  87.4  0.468  11.2  31.8  0.351  18.4  22.9  0.804  1.27   \n",
       "\n",
       "    AFG%  \n",
       "0  0.552  \n",
       "1  0.504  \n",
       "2  0.543  \n",
       "3  0.520  \n",
       "4  0.532  "
      ]
     },
     "execution_count": 27,
     "metadata": {},
     "output_type": "execute_result"
    }
   ],
   "source": [
    "df = pd.read_csv('data/2017shooting.csv')\n",
    "df.head()"
   ]
  },
  {
   "cell_type": "markdown",
   "metadata": {
    "slideshow": {
     "slide_type": "slide"
    }
   },
   "source": [
    "## Potential solution: Get rid of those non-measurements"
   ]
  },
  {
   "cell_type": "code",
   "execution_count": 28,
   "metadata": {
    "slideshow": {
     "slide_type": "fragment"
    }
   },
   "outputs": [
    {
     "data": {
      "text/html": [
       "<div>\n",
       "<style scoped>\n",
       "    .dataframe tbody tr th:only-of-type {\n",
       "        vertical-align: middle;\n",
       "    }\n",
       "\n",
       "    .dataframe tbody tr th {\n",
       "        vertical-align: top;\n",
       "    }\n",
       "\n",
       "    .dataframe thead th {\n",
       "        text-align: right;\n",
       "    }\n",
       "</style>\n",
       "<table border=\"1\" class=\"dataframe\">\n",
       "  <thead>\n",
       "    <tr style=\"text-align: right;\">\n",
       "      <th></th>\n",
       "      <th>PTS</th>\n",
       "      <th>FGM</th>\n",
       "      <th>FGA</th>\n",
       "      <th>FG%</th>\n",
       "      <th>3PM</th>\n",
       "      <th>3PA</th>\n",
       "      <th>3P%</th>\n",
       "      <th>FTM</th>\n",
       "      <th>FTA</th>\n",
       "      <th>FT%</th>\n",
       "      <th>PPS</th>\n",
       "      <th>AFG%</th>\n",
       "    </tr>\n",
       "  </thead>\n",
       "  <tbody>\n",
       "    <tr>\n",
       "      <th>0</th>\n",
       "      <td>114.4</td>\n",
       "      <td>39.4</td>\n",
       "      <td>85.6</td>\n",
       "      <td>0.460</td>\n",
       "      <td>15.7</td>\n",
       "      <td>43.2</td>\n",
       "      <td>0.364</td>\n",
       "      <td>19.9</td>\n",
       "      <td>25.2</td>\n",
       "      <td>0.792</td>\n",
       "      <td>1.34</td>\n",
       "      <td>0.552</td>\n",
       "    </tr>\n",
       "    <tr>\n",
       "      <th>1</th>\n",
       "      <td>105.7</td>\n",
       "      <td>37.8</td>\n",
       "      <td>86.7</td>\n",
       "      <td>0.436</td>\n",
       "      <td>11.9</td>\n",
       "      <td>34.0</td>\n",
       "      <td>0.348</td>\n",
       "      <td>18.2</td>\n",
       "      <td>23.9</td>\n",
       "      <td>0.761</td>\n",
       "      <td>1.22</td>\n",
       "      <td>0.504</td>\n",
       "    </tr>\n",
       "    <tr>\n",
       "      <th>2</th>\n",
       "      <td>109.7</td>\n",
       "      <td>39.6</td>\n",
       "      <td>83.9</td>\n",
       "      <td>0.472</td>\n",
       "      <td>12.0</td>\n",
       "      <td>32.8</td>\n",
       "      <td>0.365</td>\n",
       "      <td>18.6</td>\n",
       "      <td>23.2</td>\n",
       "      <td>0.801</td>\n",
       "      <td>1.31</td>\n",
       "      <td>0.543</td>\n",
       "    </tr>\n",
       "    <tr>\n",
       "      <th>3</th>\n",
       "      <td>102.5</td>\n",
       "      <td>38.1</td>\n",
       "      <td>84.5</td>\n",
       "      <td>0.451</td>\n",
       "      <td>11.6</td>\n",
       "      <td>31.9</td>\n",
       "      <td>0.365</td>\n",
       "      <td>14.7</td>\n",
       "      <td>19.0</td>\n",
       "      <td>0.774</td>\n",
       "      <td>1.21</td>\n",
       "      <td>0.520</td>\n",
       "    </tr>\n",
       "    <tr>\n",
       "      <th>4</th>\n",
       "      <td>111.3</td>\n",
       "      <td>40.9</td>\n",
       "      <td>87.4</td>\n",
       "      <td>0.468</td>\n",
       "      <td>11.2</td>\n",
       "      <td>31.8</td>\n",
       "      <td>0.351</td>\n",
       "      <td>18.4</td>\n",
       "      <td>22.9</td>\n",
       "      <td>0.804</td>\n",
       "      <td>1.27</td>\n",
       "      <td>0.532</td>\n",
       "    </tr>\n",
       "  </tbody>\n",
       "</table>\n",
       "</div>"
      ],
      "text/plain": [
       "     PTS   FGM   FGA    FG%   3PM   3PA    3P%   FTM   FTA    FT%   PPS   AFG%\n",
       "0  114.4  39.4  85.6  0.460  15.7  43.2  0.364  19.9  25.2  0.792  1.34  0.552\n",
       "1  105.7  37.8  86.7  0.436  11.9  34.0  0.348  18.2  23.9  0.761  1.22  0.504\n",
       "2  109.7  39.6  83.9  0.472  12.0  32.8  0.365  18.6  23.2  0.801  1.31  0.543\n",
       "3  102.5  38.1  84.5  0.451  11.6  31.9  0.365  14.7  19.0  0.774  1.21  0.520\n",
       "4  111.3  40.9  87.4  0.468  11.2  31.8  0.351  18.4  22.9  0.804  1.27  0.532"
      ]
     },
     "execution_count": 28,
     "metadata": {},
     "output_type": "execute_result"
    }
   ],
   "source": [
    "df = df.drop('RK',axis=1)\n",
    "df.head()"
   ]
  },
  {
   "cell_type": "markdown",
   "metadata": {
    "slideshow": {
     "slide_type": "slide"
    }
   },
   "source": [
    "## Pitfall #6: Unlabeled data"
   ]
  },
  {
   "cell_type": "markdown",
   "metadata": {
    "slideshow": {
     "slide_type": "slide"
    }
   },
   "source": [
    "## Potential solution: Labeled data"
   ]
  },
  {
   "cell_type": "code",
   "execution_count": 29,
   "metadata": {
    "slideshow": {
     "slide_type": "fragment"
    }
   },
   "outputs": [
    {
     "data": {
      "text/html": [
       "<div>\n",
       "<style scoped>\n",
       "    .dataframe tbody tr th:only-of-type {\n",
       "        vertical-align: middle;\n",
       "    }\n",
       "\n",
       "    .dataframe tbody tr th {\n",
       "        vertical-align: top;\n",
       "    }\n",
       "\n",
       "    .dataframe thead th {\n",
       "        text-align: right;\n",
       "    }\n",
       "</style>\n",
       "<table border=\"1\" class=\"dataframe\">\n",
       "  <thead>\n",
       "    <tr style=\"text-align: right;\">\n",
       "      <th></th>\n",
       "      <th>G</th>\n",
       "      <th>GS</th>\n",
       "      <th>MP</th>\n",
       "      <th>FG</th>\n",
       "      <th>FGA</th>\n",
       "      <th>FG%</th>\n",
       "      <th>3P</th>\n",
       "      <th>3PA</th>\n",
       "      <th>3P%</th>\n",
       "      <th>2P</th>\n",
       "      <th>...</th>\n",
       "      <th>FT%</th>\n",
       "      <th>ORB</th>\n",
       "      <th>DRB</th>\n",
       "      <th>TRB</th>\n",
       "      <th>AST</th>\n",
       "      <th>STL</th>\n",
       "      <th>BLK</th>\n",
       "      <th>TOV</th>\n",
       "      <th>PF</th>\n",
       "      <th>PS/G</th>\n",
       "    </tr>\n",
       "    <tr>\n",
       "      <th>Pos</th>\n",
       "      <th></th>\n",
       "      <th></th>\n",
       "      <th></th>\n",
       "      <th></th>\n",
       "      <th></th>\n",
       "      <th></th>\n",
       "      <th></th>\n",
       "      <th></th>\n",
       "      <th></th>\n",
       "      <th></th>\n",
       "      <th></th>\n",
       "      <th></th>\n",
       "      <th></th>\n",
       "      <th></th>\n",
       "      <th></th>\n",
       "      <th></th>\n",
       "      <th></th>\n",
       "      <th></th>\n",
       "      <th></th>\n",
       "      <th></th>\n",
       "      <th></th>\n",
       "    </tr>\n",
       "  </thead>\n",
       "  <tbody>\n",
       "    <tr>\n",
       "      <th>SG</th>\n",
       "      <td>56</td>\n",
       "      <td>8</td>\n",
       "      <td>16.0</td>\n",
       "      <td>1.6</td>\n",
       "      <td>4.1</td>\n",
       "      <td>0.384</td>\n",
       "      <td>1.1</td>\n",
       "      <td>3.0</td>\n",
       "      <td>0.367</td>\n",
       "      <td>0.5</td>\n",
       "      <td>...</td>\n",
       "      <td>0.872</td>\n",
       "      <td>0.4</td>\n",
       "      <td>1.3</td>\n",
       "      <td>1.7</td>\n",
       "      <td>0.4</td>\n",
       "      <td>0.5</td>\n",
       "      <td>0.1</td>\n",
       "      <td>0.4</td>\n",
       "      <td>1.7</td>\n",
       "      <td>4.9</td>\n",
       "    </tr>\n",
       "    <tr>\n",
       "      <th>PF</th>\n",
       "      <td>54</td>\n",
       "      <td>8</td>\n",
       "      <td>20.7</td>\n",
       "      <td>1.8</td>\n",
       "      <td>5.3</td>\n",
       "      <td>0.336</td>\n",
       "      <td>1.4</td>\n",
       "      <td>4.2</td>\n",
       "      <td>0.329</td>\n",
       "      <td>0.4</td>\n",
       "      <td>...</td>\n",
       "      <td>0.821</td>\n",
       "      <td>0.7</td>\n",
       "      <td>3.5</td>\n",
       "      <td>4.1</td>\n",
       "      <td>0.8</td>\n",
       "      <td>0.5</td>\n",
       "      <td>0.4</td>\n",
       "      <td>1.0</td>\n",
       "      <td>2.1</td>\n",
       "      <td>5.8</td>\n",
       "    </tr>\n",
       "    <tr>\n",
       "      <th>C</th>\n",
       "      <td>57</td>\n",
       "      <td>57</td>\n",
       "      <td>32.6</td>\n",
       "      <td>6.0</td>\n",
       "      <td>9.5</td>\n",
       "      <td>0.631</td>\n",
       "      <td>0.0</td>\n",
       "      <td>0.0</td>\n",
       "      <td>0.000</td>\n",
       "      <td>6.0</td>\n",
       "      <td>...</td>\n",
       "      <td>0.571</td>\n",
       "      <td>5.1</td>\n",
       "      <td>3.9</td>\n",
       "      <td>9.1</td>\n",
       "      <td>1.0</td>\n",
       "      <td>1.2</td>\n",
       "      <td>1.1</td>\n",
       "      <td>1.5</td>\n",
       "      <td>2.9</td>\n",
       "      <td>14.0</td>\n",
       "    </tr>\n",
       "    <tr>\n",
       "      <th>C</th>\n",
       "      <td>51</td>\n",
       "      <td>11</td>\n",
       "      <td>20.5</td>\n",
       "      <td>2.7</td>\n",
       "      <td>4.8</td>\n",
       "      <td>0.551</td>\n",
       "      <td>0.0</td>\n",
       "      <td>0.1</td>\n",
       "      <td>0.000</td>\n",
       "      <td>2.7</td>\n",
       "      <td>...</td>\n",
       "      <td>0.732</td>\n",
       "      <td>1.6</td>\n",
       "      <td>3.8</td>\n",
       "      <td>5.4</td>\n",
       "      <td>1.6</td>\n",
       "      <td>0.5</td>\n",
       "      <td>0.6</td>\n",
       "      <td>0.9</td>\n",
       "      <td>2.1</td>\n",
       "      <td>7.4</td>\n",
       "    </tr>\n",
       "    <tr>\n",
       "      <th>SG</th>\n",
       "      <td>45</td>\n",
       "      <td>2</td>\n",
       "      <td>12.8</td>\n",
       "      <td>1.2</td>\n",
       "      <td>3.0</td>\n",
       "      <td>0.388</td>\n",
       "      <td>0.5</td>\n",
       "      <td>1.3</td>\n",
       "      <td>0.386</td>\n",
       "      <td>0.7</td>\n",
       "      <td>...</td>\n",
       "      <td>0.833</td>\n",
       "      <td>0.1</td>\n",
       "      <td>1.3</td>\n",
       "      <td>1.4</td>\n",
       "      <td>0.6</td>\n",
       "      <td>0.0</td>\n",
       "      <td>0.2</td>\n",
       "      <td>0.4</td>\n",
       "      <td>1.1</td>\n",
       "      <td>3.2</td>\n",
       "    </tr>\n",
       "  </tbody>\n",
       "</table>\n",
       "<p>5 rows × 25 columns</p>\n",
       "</div>"
      ],
      "text/plain": [
       "      G  GS    MP   FG  FGA    FG%   3P  3PA    3P%   2P  ...     FT%  ORB  \\\n",
       "Pos                                                       ...                \n",
       "SG   56   8  16.0  1.6  4.1  0.384  1.1  3.0  0.367  0.5  ...   0.872  0.4   \n",
       "PF   54   8  20.7  1.8  5.3  0.336  1.4  4.2  0.329  0.4  ...   0.821  0.7   \n",
       "C    57  57  32.6  6.0  9.5  0.631  0.0  0.0  0.000  6.0  ...   0.571  5.1   \n",
       "C    51  11  20.5  2.7  4.8  0.551  0.0  0.1  0.000  2.7  ...   0.732  1.6   \n",
       "SG   45   2  12.8  1.2  3.0  0.388  0.5  1.3  0.386  0.7  ...   0.833  0.1   \n",
       "\n",
       "     DRB  TRB  AST  STL  BLK  TOV   PF  PS/G  \n",
       "Pos                                           \n",
       "SG   1.3  1.7  0.4  0.5  0.1  0.4  1.7   4.9  \n",
       "PF   3.5  4.1  0.8  0.5  0.4  1.0  2.1   5.8  \n",
       "C    3.9  9.1  1.0  1.2  1.1  1.5  2.9  14.0  \n",
       "C    3.8  5.4  1.6  0.5  0.6  0.9  2.1   7.4  \n",
       "SG   1.3  1.4  0.6  0.0  0.2  0.4  1.1   3.2  \n",
       "\n",
       "[5 rows x 25 columns]"
      ]
     },
     "execution_count": 29,
     "metadata": {},
     "output_type": "execute_result"
    }
   ],
   "source": [
    "df = pd.read_csv('data/basketball.csv')\n",
    "df['Player'] = df['Player'].map(lambda x:x.split('\\\\')[0])\n",
    "df = df.drop(['Player','Rk','Tm','Age'],axis=1).set_index(['Pos']).fillna(0)\n",
    "df.head()"
   ]
  },
  {
   "cell_type": "code",
   "execution_count": 30,
   "metadata": {
    "slideshow": {
     "slide_type": "slide"
    }
   },
   "outputs": [
    {
     "data": {
      "text/html": [
       "<div>\n",
       "<style scoped>\n",
       "    .dataframe tbody tr th:only-of-type {\n",
       "        vertical-align: middle;\n",
       "    }\n",
       "\n",
       "    .dataframe tbody tr th {\n",
       "        vertical-align: top;\n",
       "    }\n",
       "\n",
       "    .dataframe thead th {\n",
       "        text-align: right;\n",
       "    }\n",
       "</style>\n",
       "<table border=\"1\" class=\"dataframe\">\n",
       "  <thead>\n",
       "    <tr style=\"text-align: right;\">\n",
       "      <th></th>\n",
       "      <th>G normalized</th>\n",
       "      <th>GS normalized</th>\n",
       "      <th>MP normalized</th>\n",
       "      <th>FG normalized</th>\n",
       "      <th>FGA normalized</th>\n",
       "      <th>FG% normalized</th>\n",
       "      <th>3P normalized</th>\n",
       "      <th>3PA normalized</th>\n",
       "      <th>3P% normalized</th>\n",
       "      <th>2P normalized</th>\n",
       "      <th>...</th>\n",
       "      <th>FT% normalized</th>\n",
       "      <th>ORB normalized</th>\n",
       "      <th>DRB normalized</th>\n",
       "      <th>TRB normalized</th>\n",
       "      <th>AST normalized</th>\n",
       "      <th>STL normalized</th>\n",
       "      <th>BLK normalized</th>\n",
       "      <th>TOV normalized</th>\n",
       "      <th>PF normalized</th>\n",
       "      <th>PS/G normalized</th>\n",
       "    </tr>\n",
       "    <tr>\n",
       "      <th>Pos</th>\n",
       "      <th></th>\n",
       "      <th></th>\n",
       "      <th></th>\n",
       "      <th></th>\n",
       "      <th></th>\n",
       "      <th></th>\n",
       "      <th></th>\n",
       "      <th></th>\n",
       "      <th></th>\n",
       "      <th></th>\n",
       "      <th></th>\n",
       "      <th></th>\n",
       "      <th></th>\n",
       "      <th></th>\n",
       "      <th></th>\n",
       "      <th></th>\n",
       "      <th></th>\n",
       "      <th></th>\n",
       "      <th></th>\n",
       "      <th></th>\n",
       "      <th></th>\n",
       "    </tr>\n",
       "  </thead>\n",
       "  <tbody>\n",
       "    <tr>\n",
       "      <th>SG</th>\n",
       "      <td>1.006579</td>\n",
       "      <td>-0.378179</td>\n",
       "      <td>-0.279630</td>\n",
       "      <td>-0.628727</td>\n",
       "      <td>-0.533736</td>\n",
       "      <td>-0.366455</td>\n",
       "      <td>0.400503</td>\n",
       "      <td>0.369469</td>\n",
       "      <td>0.563533</td>\n",
       "      <td>-0.956545</td>\n",
       "      <td>...</td>\n",
       "      <td>0.769732</td>\n",
       "      <td>-0.490265</td>\n",
       "      <td>-0.681661</td>\n",
       "      <td>-0.664143</td>\n",
       "      <td>-0.790466</td>\n",
       "      <td>-0.215856</td>\n",
       "      <td>-0.685071</td>\n",
       "      <td>-0.804860</td>\n",
       "      <td>0.121006</td>\n",
       "      <td>-0.511260</td>\n",
       "    </tr>\n",
       "    <tr>\n",
       "      <th>PF</th>\n",
       "      <td>0.911429</td>\n",
       "      <td>-0.378179</td>\n",
       "      <td>0.206416</td>\n",
       "      <td>-0.536815</td>\n",
       "      <td>-0.275224</td>\n",
       "      <td>-0.722057</td>\n",
       "      <td>0.775662</td>\n",
       "      <td>0.949821</td>\n",
       "      <td>0.345172</td>\n",
       "      <td>-1.013189</td>\n",
       "      <td>...</td>\n",
       "      <td>0.576424</td>\n",
       "      <td>-0.076711</td>\n",
       "      <td>0.518221</td>\n",
       "      <td>0.330832</td>\n",
       "      <td>-0.556972</td>\n",
       "      <td>-0.215856</td>\n",
       "      <td>0.087720</td>\n",
       "      <td>-0.093194</td>\n",
       "      <td>0.621661</td>\n",
       "      <td>-0.361748</td>\n",
       "    </tr>\n",
       "    <tr>\n",
       "      <th>C</th>\n",
       "      <td>1.054154</td>\n",
       "      <td>1.954150</td>\n",
       "      <td>1.437043</td>\n",
       "      <td>1.393337</td>\n",
       "      <td>0.629569</td>\n",
       "      <td>1.463410</td>\n",
       "      <td>-0.975083</td>\n",
       "      <td>-1.081413</td>\n",
       "      <td>-1.545376</td>\n",
       "      <td>2.158860</td>\n",
       "      <td>...</td>\n",
       "      <td>-0.371165</td>\n",
       "      <td>5.988749</td>\n",
       "      <td>0.736382</td>\n",
       "      <td>2.403696</td>\n",
       "      <td>-0.440225</td>\n",
       "      <td>1.368845</td>\n",
       "      <td>1.890897</td>\n",
       "      <td>0.499861</td>\n",
       "      <td>1.622972</td>\n",
       "      <td>1.000471</td>\n",
       "    </tr>\n",
       "    <tr>\n",
       "      <th>C</th>\n",
       "      <td>0.768705</td>\n",
       "      <td>-0.235384</td>\n",
       "      <td>0.185733</td>\n",
       "      <td>-0.123211</td>\n",
       "      <td>-0.382937</td>\n",
       "      <td>0.870741</td>\n",
       "      <td>-0.975083</td>\n",
       "      <td>-1.033050</td>\n",
       "      <td>-1.545376</td>\n",
       "      <td>0.289617</td>\n",
       "      <td>...</td>\n",
       "      <td>0.239082</td>\n",
       "      <td>1.163951</td>\n",
       "      <td>0.681842</td>\n",
       "      <td>0.869776</td>\n",
       "      <td>-0.089984</td>\n",
       "      <td>-0.215856</td>\n",
       "      <td>0.602913</td>\n",
       "      <td>-0.211805</td>\n",
       "      <td>0.621661</td>\n",
       "      <td>-0.095949</td>\n",
       "    </tr>\n",
       "    <tr>\n",
       "      <th>SG</th>\n",
       "      <td>0.483256</td>\n",
       "      <td>-0.663771</td>\n",
       "      <td>-0.610555</td>\n",
       "      <td>-0.812551</td>\n",
       "      <td>-0.770706</td>\n",
       "      <td>-0.336822</td>\n",
       "      <td>-0.349817</td>\n",
       "      <td>-0.452697</td>\n",
       "      <td>0.672714</td>\n",
       "      <td>-0.843257</td>\n",
       "      <td>...</td>\n",
       "      <td>0.621908</td>\n",
       "      <td>-0.903820</td>\n",
       "      <td>-0.681661</td>\n",
       "      <td>-0.788515</td>\n",
       "      <td>-0.673719</td>\n",
       "      <td>-1.347786</td>\n",
       "      <td>-0.427474</td>\n",
       "      <td>-0.804860</td>\n",
       "      <td>-0.629978</td>\n",
       "      <td>-0.793671</td>\n",
       "    </tr>\n",
       "  </tbody>\n",
       "</table>\n",
       "<p>5 rows × 25 columns</p>\n",
       "</div>"
      ],
      "text/plain": [
       "     G normalized  GS normalized  MP normalized  FG normalized  \\\n",
       "Pos                                                              \n",
       "SG       1.006579      -0.378179      -0.279630      -0.628727   \n",
       "PF       0.911429      -0.378179       0.206416      -0.536815   \n",
       "C        1.054154       1.954150       1.437043       1.393337   \n",
       "C        0.768705      -0.235384       0.185733      -0.123211   \n",
       "SG       0.483256      -0.663771      -0.610555      -0.812551   \n",
       "\n",
       "     FGA normalized  FG% normalized  3P normalized  3PA normalized  \\\n",
       "Pos                                                                  \n",
       "SG        -0.533736       -0.366455       0.400503        0.369469   \n",
       "PF        -0.275224       -0.722057       0.775662        0.949821   \n",
       "C          0.629569        1.463410      -0.975083       -1.081413   \n",
       "C         -0.382937        0.870741      -0.975083       -1.033050   \n",
       "SG        -0.770706       -0.336822      -0.349817       -0.452697   \n",
       "\n",
       "     3P% normalized  2P normalized       ...         FT% normalized  \\\n",
       "Pos                                      ...                          \n",
       "SG         0.563533      -0.956545       ...               0.769732   \n",
       "PF         0.345172      -1.013189       ...               0.576424   \n",
       "C         -1.545376       2.158860       ...              -0.371165   \n",
       "C         -1.545376       0.289617       ...               0.239082   \n",
       "SG         0.672714      -0.843257       ...               0.621908   \n",
       "\n",
       "     ORB normalized  DRB normalized  TRB normalized  AST normalized  \\\n",
       "Pos                                                                   \n",
       "SG        -0.490265       -0.681661       -0.664143       -0.790466   \n",
       "PF        -0.076711        0.518221        0.330832       -0.556972   \n",
       "C          5.988749        0.736382        2.403696       -0.440225   \n",
       "C          1.163951        0.681842        0.869776       -0.089984   \n",
       "SG        -0.903820       -0.681661       -0.788515       -0.673719   \n",
       "\n",
       "     STL normalized  BLK normalized  TOV normalized  PF normalized  \\\n",
       "Pos                                                                  \n",
       "SG        -0.215856       -0.685071       -0.804860       0.121006   \n",
       "PF        -0.215856        0.087720       -0.093194       0.621661   \n",
       "C          1.368845        1.890897        0.499861       1.622972   \n",
       "C         -0.215856        0.602913       -0.211805       0.621661   \n",
       "SG        -1.347786       -0.427474       -0.804860      -0.629978   \n",
       "\n",
       "     PS/G normalized  \n",
       "Pos                   \n",
       "SG         -0.511260  \n",
       "PF         -0.361748  \n",
       "C           1.000471  \n",
       "C          -0.095949  \n",
       "SG         -0.793671  \n",
       "\n",
       "[5 rows x 25 columns]"
      ]
     },
     "execution_count": 30,
     "metadata": {},
     "output_type": "execute_result"
    }
   ],
   "source": [
    "df_norm = normalize(df)\n",
    "df_norm.head()"
   ]
  },
  {
   "cell_type": "code",
   "execution_count": 31,
   "metadata": {
    "slideshow": {
     "slide_type": "slide"
    }
   },
   "outputs": [
    {
     "data": {
      "image/png": "[encoded data removed]",
      "text/plain": [
       "<matplotlib.figure.Figure at 0x10dc82780>"
      ]
     },
     "metadata": {},
     "output_type": "display_data"
    }
   ],
   "source": [
    "plot_transformed_data(pca,df_norm,figsize=(10,10))"
   ]
  },
  {
   "cell_type": "markdown",
   "metadata": {
    "slideshow": {
     "slide_type": "slide"
    }
   },
   "source": [
    "## Pitfall #7: Too much data!"
   ]
  },
  {
   "cell_type": "markdown",
   "metadata": {
    "slideshow": {
     "slide_type": "fragment"
    }
   },
   "source": [
    "## Potential solution: Sparsen your data!"
   ]
  },
  {
   "cell_type": "code",
   "execution_count": 32,
   "metadata": {
    "slideshow": {
     "slide_type": "fragment"
    }
   },
   "outputs": [
    {
     "data": {
      "text/plain": [
       "(55, 25)"
      ]
     },
     "execution_count": 32,
     "metadata": {},
     "output_type": "execute_result"
    }
   ],
   "source": [
    "df = df[df['GS']>55] # Only consider players who have started at least 55 games\n",
    "df.shape"
   ]
  },
  {
   "cell_type": "code",
   "execution_count": 33,
   "metadata": {
    "slideshow": {
     "slide_type": "slide"
    }
   },
   "outputs": [
    {
     "data": {
      "image/png": "[encoded data removed]",
      "text/plain": [
       "<matplotlib.figure.Figure at 0x10af60198>"
      ]
     },
     "metadata": {},
     "output_type": "display_data"
    }
   ],
   "source": [
    "df_norm = normalize(df)\n",
    "plot_transformed_data(pca,df_norm,figsize=(10,10))"
   ]
  },
  {
   "cell_type": "code",
   "execution_count": 34,
   "metadata": {
    "slideshow": {
     "slide_type": "slide"
    }
   },
   "outputs": [
    {
     "data": {
      "text/html": [
       "<div>\n",
       "<style scoped>\n",
       "    .dataframe tbody tr th:only-of-type {\n",
       "        vertical-align: middle;\n",
       "    }\n",
       "\n",
       "    .dataframe tbody tr th {\n",
       "        vertical-align: top;\n",
       "    }\n",
       "\n",
       "    .dataframe thead th {\n",
       "        text-align: right;\n",
       "    }\n",
       "</style>\n",
       "<table border=\"1\" class=\"dataframe\">\n",
       "  <thead>\n",
       "    <tr style=\"text-align: right;\">\n",
       "      <th></th>\n",
       "      <th>G</th>\n",
       "      <th>GS</th>\n",
       "      <th>MP</th>\n",
       "      <th>FG</th>\n",
       "      <th>FGA</th>\n",
       "      <th>FG%</th>\n",
       "      <th>3P</th>\n",
       "      <th>3PA</th>\n",
       "      <th>3P%</th>\n",
       "      <th>2P</th>\n",
       "      <th>...</th>\n",
       "      <th>FT%</th>\n",
       "      <th>ORB</th>\n",
       "      <th>DRB</th>\n",
       "      <th>TRB</th>\n",
       "      <th>AST</th>\n",
       "      <th>STL</th>\n",
       "      <th>BLK</th>\n",
       "      <th>TOV</th>\n",
       "      <th>PF</th>\n",
       "      <th>PS/G</th>\n",
       "    </tr>\n",
       "    <tr>\n",
       "      <th>Player</th>\n",
       "      <th></th>\n",
       "      <th></th>\n",
       "      <th></th>\n",
       "      <th></th>\n",
       "      <th></th>\n",
       "      <th></th>\n",
       "      <th></th>\n",
       "      <th></th>\n",
       "      <th></th>\n",
       "      <th></th>\n",
       "      <th></th>\n",
       "      <th></th>\n",
       "      <th></th>\n",
       "      <th></th>\n",
       "      <th></th>\n",
       "      <th></th>\n",
       "      <th></th>\n",
       "      <th></th>\n",
       "      <th></th>\n",
       "      <th></th>\n",
       "      <th></th>\n",
       "    </tr>\n",
       "  </thead>\n",
       "  <tbody>\n",
       "    <tr>\n",
       "      <th>Abrines</th>\n",
       "      <td>56</td>\n",
       "      <td>8</td>\n",
       "      <td>16.0</td>\n",
       "      <td>1.6</td>\n",
       "      <td>4.1</td>\n",
       "      <td>0.384</td>\n",
       "      <td>1.1</td>\n",
       "      <td>3.0</td>\n",
       "      <td>0.367</td>\n",
       "      <td>0.5</td>\n",
       "      <td>...</td>\n",
       "      <td>0.872</td>\n",
       "      <td>0.4</td>\n",
       "      <td>1.3</td>\n",
       "      <td>1.7</td>\n",
       "      <td>0.4</td>\n",
       "      <td>0.5</td>\n",
       "      <td>0.1</td>\n",
       "      <td>0.4</td>\n",
       "      <td>1.7</td>\n",
       "      <td>4.9</td>\n",
       "    </tr>\n",
       "    <tr>\n",
       "      <th>Acy</th>\n",
       "      <td>54</td>\n",
       "      <td>8</td>\n",
       "      <td>20.7</td>\n",
       "      <td>1.8</td>\n",
       "      <td>5.3</td>\n",
       "      <td>0.336</td>\n",
       "      <td>1.4</td>\n",
       "      <td>4.2</td>\n",
       "      <td>0.329</td>\n",
       "      <td>0.4</td>\n",
       "      <td>...</td>\n",
       "      <td>0.821</td>\n",
       "      <td>0.7</td>\n",
       "      <td>3.5</td>\n",
       "      <td>4.1</td>\n",
       "      <td>0.8</td>\n",
       "      <td>0.5</td>\n",
       "      <td>0.4</td>\n",
       "      <td>1.0</td>\n",
       "      <td>2.1</td>\n",
       "      <td>5.8</td>\n",
       "    </tr>\n",
       "    <tr>\n",
       "      <th>Adams</th>\n",
       "      <td>57</td>\n",
       "      <td>57</td>\n",
       "      <td>32.6</td>\n",
       "      <td>6.0</td>\n",
       "      <td>9.5</td>\n",
       "      <td>0.631</td>\n",
       "      <td>0.0</td>\n",
       "      <td>0.0</td>\n",
       "      <td>0.000</td>\n",
       "      <td>6.0</td>\n",
       "      <td>...</td>\n",
       "      <td>0.571</td>\n",
       "      <td>5.1</td>\n",
       "      <td>3.9</td>\n",
       "      <td>9.1</td>\n",
       "      <td>1.0</td>\n",
       "      <td>1.2</td>\n",
       "      <td>1.1</td>\n",
       "      <td>1.5</td>\n",
       "      <td>2.9</td>\n",
       "      <td>14.0</td>\n",
       "    </tr>\n",
       "    <tr>\n",
       "      <th>Adebayo</th>\n",
       "      <td>51</td>\n",
       "      <td>11</td>\n",
       "      <td>20.5</td>\n",
       "      <td>2.7</td>\n",
       "      <td>4.8</td>\n",
       "      <td>0.551</td>\n",
       "      <td>0.0</td>\n",
       "      <td>0.1</td>\n",
       "      <td>0.000</td>\n",
       "      <td>2.7</td>\n",
       "      <td>...</td>\n",
       "      <td>0.732</td>\n",
       "      <td>1.6</td>\n",
       "      <td>3.8</td>\n",
       "      <td>5.4</td>\n",
       "      <td>1.6</td>\n",
       "      <td>0.5</td>\n",
       "      <td>0.6</td>\n",
       "      <td>0.9</td>\n",
       "      <td>2.1</td>\n",
       "      <td>7.4</td>\n",
       "    </tr>\n",
       "    <tr>\n",
       "      <th>Afflalo</th>\n",
       "      <td>45</td>\n",
       "      <td>2</td>\n",
       "      <td>12.8</td>\n",
       "      <td>1.2</td>\n",
       "      <td>3.0</td>\n",
       "      <td>0.388</td>\n",
       "      <td>0.5</td>\n",
       "      <td>1.3</td>\n",
       "      <td>0.386</td>\n",
       "      <td>0.7</td>\n",
       "      <td>...</td>\n",
       "      <td>0.833</td>\n",
       "      <td>0.1</td>\n",
       "      <td>1.3</td>\n",
       "      <td>1.4</td>\n",
       "      <td>0.6</td>\n",
       "      <td>0.0</td>\n",
       "      <td>0.2</td>\n",
       "      <td>0.4</td>\n",
       "      <td>1.1</td>\n",
       "      <td>3.2</td>\n",
       "    </tr>\n",
       "  </tbody>\n",
       "</table>\n",
       "<p>5 rows × 25 columns</p>\n",
       "</div>"
      ],
      "text/plain": [
       "          G  GS    MP   FG  FGA    FG%   3P  3PA    3P%   2P  ...     FT%  \\\n",
       "Player                                                        ...           \n",
       "Abrines  56   8  16.0  1.6  4.1  0.384  1.1  3.0  0.367  0.5  ...   0.872   \n",
       "Acy      54   8  20.7  1.8  5.3  0.336  1.4  4.2  0.329  0.4  ...   0.821   \n",
       "Adams    57  57  32.6  6.0  9.5  0.631  0.0  0.0  0.000  6.0  ...   0.571   \n",
       "Adebayo  51  11  20.5  2.7  4.8  0.551  0.0  0.1  0.000  2.7  ...   0.732   \n",
       "Afflalo  45   2  12.8  1.2  3.0  0.388  0.5  1.3  0.386  0.7  ...   0.833   \n",
       "\n",
       "         ORB  DRB  TRB  AST  STL  BLK  TOV   PF  PS/G  \n",
       "Player                                                 \n",
       "Abrines  0.4  1.3  1.7  0.4  0.5  0.1  0.4  1.7   4.9  \n",
       "Acy      0.7  3.5  4.1  0.8  0.5  0.4  1.0  2.1   5.8  \n",
       "Adams    5.1  3.9  9.1  1.0  1.2  1.1  1.5  2.9  14.0  \n",
       "Adebayo  1.6  3.8  5.4  1.6  0.5  0.6  0.9  2.1   7.4  \n",
       "Afflalo  0.1  1.3  1.4  0.6  0.0  0.2  0.4  1.1   3.2  \n",
       "\n",
       "[5 rows x 25 columns]"
      ]
     },
     "execution_count": 34,
     "metadata": {},
     "output_type": "execute_result"
    }
   ],
   "source": [
    "df = pd.read_csv('data/basketball.csv')\n",
    "df['Player'] = df['Player'].map(lambda x:x.split('\\\\')[0].split(' ')[1])\n",
    "df = df.drop(['Pos','Rk','Tm','Age'],axis=1).set_index(['Player']).fillna(0)\n",
    "df.head()"
   ]
  },
  {
   "cell_type": "code",
   "execution_count": 35,
   "metadata": {
    "slideshow": {
     "slide_type": "slide"
    }
   },
   "outputs": [
    {
     "data": {
      "image/png": "[encoded data removed]",
      "text/plain": [
       "<matplotlib.figure.Figure at 0x10af5bd68>"
      ]
     },
     "metadata": {},
     "output_type": "display_data"
    }
   ],
   "source": [
    "df = df[df['GS']>55] # Only consider players who have started at least 55 games\n",
    "df_norm = normalize(df)\n",
    "plot_transformed_data(pca,df_norm,figsize=(10,10))"
   ]
  }
 ],
 "metadata": {
  "celltoolbar": "Slideshow",
  "kernelspec": {
   "display_name": "Python 3",
   "language": "python",
   "name": "python3"
  },
  "language_info": {
   "codemirror_mode": {
    "name": "ipython",
    "version": 3
   },
   "file_extension": ".py",
   "mimetype": "text/x-python",
   "name": "python",
   "nbconvert_exporter": "python",
   "pygments_lexer": "ipython3",
   "version": "3.5.2"
  }
 },
 "nbformat": 4,
 "nbformat_minor": 2
}
