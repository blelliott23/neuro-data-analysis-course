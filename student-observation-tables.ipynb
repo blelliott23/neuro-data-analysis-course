{
 "cells": [
  {
   "cell_type": "code",
   "execution_count": 1,
   "metadata": {},
   "outputs": [],
   "source": [
    "%matplotlib inline\n",
    "import matplotlib.pyplot as plt\n",
    "import numpy as np\n",
    "import pandas as pd\n",
    "import matplotlib as mpl\n",
    "mpl.rcParams.update({'font.size':16})"
   ]
  },
  {
   "cell_type": "markdown",
   "metadata": {},
   "source": [
    "## Glioblastoma stages"
   ]
  },
  {
   "cell_type": "code",
   "execution_count": 2,
   "metadata": {},
   "outputs": [
    {
     "data": {
      "text/html": [
       "<div>\n",
       "<style>\n",
       "    .dataframe thead tr:only-child th {\n",
       "        text-align: right;\n",
       "    }\n",
       "\n",
       "    .dataframe thead th {\n",
       "        text-align: left;\n",
       "    }\n",
       "\n",
       "    .dataframe tbody tr th {\n",
       "        vertical-align: top;\n",
       "    }\n",
       "</style>\n",
       "<table border=\"1\" class=\"dataframe\">\n",
       "  <thead>\n",
       "    <tr style=\"text-align: right;\">\n",
       "      <th>Age</th>\n",
       "      <th>0-20</th>\n",
       "      <th>20-40</th>\n",
       "      <th>40-60</th>\n",
       "      <th>60-80</th>\n",
       "    </tr>\n",
       "  </thead>\n",
       "  <tbody>\n",
       "    <tr>\n",
       "      <th>Stage 1</th>\n",
       "      <td>5</td>\n",
       "      <td>15</td>\n",
       "      <td>30</td>\n",
       "      <td>10</td>\n",
       "    </tr>\n",
       "    <tr>\n",
       "      <th>Stage 2</th>\n",
       "      <td>10</td>\n",
       "      <td>30</td>\n",
       "      <td>20</td>\n",
       "      <td>22</td>\n",
       "    </tr>\n",
       "    <tr>\n",
       "      <th>Stage 3</th>\n",
       "      <td>7</td>\n",
       "      <td>10</td>\n",
       "      <td>14</td>\n",
       "      <td>20</td>\n",
       "    </tr>\n",
       "    <tr>\n",
       "      <th>Stage 4</th>\n",
       "      <td>5</td>\n",
       "      <td>7</td>\n",
       "      <td>12</td>\n",
       "      <td>15</td>\n",
       "    </tr>\n",
       "  </tbody>\n",
       "</table>\n",
       "</div>"
      ],
      "text/plain": [
       "Age      0-20  20-40  40-60  60-80\n",
       "Stage 1     5     15     30     10\n",
       "Stage 2    10     30     20     22\n",
       "Stage 3     7     10     14     20\n",
       "Stage 4     5      7     12     15"
      ]
     },
     "execution_count": 2,
     "metadata": {},
     "output_type": "execute_result"
    }
   ],
   "source": [
    "glioblastoma = pd.DataFrame(index=['Stage %d'%x for x in range(1,5)],\n",
    "                            columns=['%d-%d'%(x,x+20) for x in range(0,80,20)],\n",
    "                            data=[[5,15,30,10],\n",
    "                                  [10,30,20,22],\n",
    "                                  [7,10,14,20],\n",
    "                                  [5,7,12,15]])\n",
    "glioblastoma.columns.name = 'Age'\n",
    "glioblastoma"
   ]
  },
  {
   "cell_type": "code",
   "execution_count": 3,
   "metadata": {},
   "outputs": [
    {
     "data": {
      "image/png": "[encoded data removed]",
      "text/plain": [
       "<matplotlib.figure.Figure at 0x7f9f1bd5eb70>"
      ]
     },
     "metadata": {},
     "output_type": "display_data"
    }
   ],
   "source": [
    "glioblastoma.plot.bar(figsize=(12,5));"
   ]
  },
  {
   "cell_type": "markdown",
   "metadata": {},
   "source": [
    "### Compute some statistics (but don't show them yet)"
   ]
  },
  {
   "cell_type": "code",
   "execution_count": 4,
   "metadata": {},
   "outputs": [],
   "source": [
    "from scipy.stats import chi2_contingency\n",
    "chi2,p,dof,expected = chi2_contingency(glioblastoma)"
   ]
  },
  {
   "cell_type": "code",
   "execution_count": 5,
   "metadata": {},
   "outputs": [
    {
     "data": {
      "text/html": [
       "<div>\n",
       "<style>\n",
       "    .dataframe thead tr:only-child th {\n",
       "        text-align: right;\n",
       "    }\n",
       "\n",
       "    .dataframe thead th {\n",
       "        text-align: left;\n",
       "    }\n",
       "\n",
       "    .dataframe tbody tr th {\n",
       "        vertical-align: top;\n",
       "    }\n",
       "</style>\n",
       "<table border=\"1\" class=\"dataframe\">\n",
       "  <thead>\n",
       "    <tr style=\"text-align: right;\">\n",
       "      <th>Age</th>\n",
       "      <th>0-20</th>\n",
       "      <th>20-40</th>\n",
       "      <th>40-60</th>\n",
       "      <th>60-80</th>\n",
       "      <th>Total</th>\n",
       "    </tr>\n",
       "  </thead>\n",
       "  <tbody>\n",
       "    <tr>\n",
       "      <th>Stage 1</th>\n",
       "      <td>5</td>\n",
       "      <td>15</td>\n",
       "      <td>30</td>\n",
       "      <td>10</td>\n",
       "      <td>60</td>\n",
       "    </tr>\n",
       "    <tr>\n",
       "      <th>Stage 2</th>\n",
       "      <td>10</td>\n",
       "      <td>30</td>\n",
       "      <td>20</td>\n",
       "      <td>22</td>\n",
       "      <td>82</td>\n",
       "    </tr>\n",
       "    <tr>\n",
       "      <th>Stage 3</th>\n",
       "      <td>7</td>\n",
       "      <td>10</td>\n",
       "      <td>14</td>\n",
       "      <td>20</td>\n",
       "      <td>51</td>\n",
       "    </tr>\n",
       "    <tr>\n",
       "      <th>Stage 4</th>\n",
       "      <td>5</td>\n",
       "      <td>7</td>\n",
       "      <td>12</td>\n",
       "      <td>15</td>\n",
       "      <td>39</td>\n",
       "    </tr>\n",
       "    <tr>\n",
       "      <th>Total</th>\n",
       "      <td>27</td>\n",
       "      <td>62</td>\n",
       "      <td>76</td>\n",
       "      <td>67</td>\n",
       "      <td>232</td>\n",
       "    </tr>\n",
       "  </tbody>\n",
       "</table>\n",
       "</div>"
      ],
      "text/plain": [
       "Age      0-20  20-40  40-60  60-80  Total\n",
       "Stage 1     5     15     30     10     60\n",
       "Stage 2    10     30     20     22     82\n",
       "Stage 3     7     10     14     20     51\n",
       "Stage 4     5      7     12     15     39\n",
       "Total      27     62     76     67    232"
      ]
     },
     "execution_count": 5,
     "metadata": {},
     "output_type": "execute_result"
    }
   ],
   "source": [
    "glioblastoma['Total'] = glioblastoma.sum(axis=1)\n",
    "glioblastoma.loc['Total'] = glioblastoma.sum(axis=0)\n",
    "glioblastoma"
   ]
  },
  {
   "cell_type": "markdown",
   "metadata": {},
   "source": [
    "### Show the expected values, based on the row and column margins and the null hypothesis of independence"
   ]
  },
  {
   "cell_type": "code",
   "execution_count": 6,
   "metadata": {},
   "outputs": [
    {
     "data": {
      "text/html": [
       "<div>\n",
       "<style>\n",
       "    .dataframe thead tr:only-child th {\n",
       "        text-align: right;\n",
       "    }\n",
       "\n",
       "    .dataframe thead th {\n",
       "        text-align: left;\n",
       "    }\n",
       "\n",
       "    .dataframe tbody tr th {\n",
       "        vertical-align: top;\n",
       "    }\n",
       "</style>\n",
       "<table border=\"1\" class=\"dataframe\">\n",
       "  <thead>\n",
       "    <tr style=\"text-align: right;\">\n",
       "      <th>Age</th>\n",
       "      <th>0-20</th>\n",
       "      <th>20-40</th>\n",
       "      <th>40-60</th>\n",
       "      <th>60-80</th>\n",
       "      <th>Total</th>\n",
       "    </tr>\n",
       "  </thead>\n",
       "  <tbody>\n",
       "    <tr>\n",
       "      <th>Stage 1</th>\n",
       "      <td>6.98</td>\n",
       "      <td>16.03</td>\n",
       "      <td>19.66</td>\n",
       "      <td>17.33</td>\n",
       "      <td>60</td>\n",
       "    </tr>\n",
       "    <tr>\n",
       "      <th>Stage 2</th>\n",
       "      <td>9.54</td>\n",
       "      <td>21.91</td>\n",
       "      <td>26.86</td>\n",
       "      <td>23.68</td>\n",
       "      <td>82</td>\n",
       "    </tr>\n",
       "    <tr>\n",
       "      <th>Stage 3</th>\n",
       "      <td>5.94</td>\n",
       "      <td>13.63</td>\n",
       "      <td>16.71</td>\n",
       "      <td>14.73</td>\n",
       "      <td>51</td>\n",
       "    </tr>\n",
       "    <tr>\n",
       "      <th>Stage 4</th>\n",
       "      <td>4.54</td>\n",
       "      <td>10.42</td>\n",
       "      <td>12.78</td>\n",
       "      <td>11.26</td>\n",
       "      <td>39</td>\n",
       "    </tr>\n",
       "    <tr>\n",
       "      <th>Total</th>\n",
       "      <td>27.00</td>\n",
       "      <td>62.00</td>\n",
       "      <td>76.00</td>\n",
       "      <td>67.00</td>\n",
       "      <td>232</td>\n",
       "    </tr>\n",
       "  </tbody>\n",
       "</table>\n",
       "</div>"
      ],
      "text/plain": [
       "Age       0-20  20-40  40-60  60-80  Total\n",
       "Stage 1   6.98  16.03  19.66  17.33     60\n",
       "Stage 2   9.54  21.91  26.86  23.68     82\n",
       "Stage 3   5.94  13.63  16.71  14.73     51\n",
       "Stage 4   4.54  10.42  12.78  11.26     39\n",
       "Total    27.00  62.00  76.00  67.00    232"
      ]
     },
     "execution_count": 6,
     "metadata": {},
     "output_type": "execute_result"
    }
   ],
   "source": [
    "glioblastoma_expected = glioblastoma.copy()\n",
    "glioblastoma_expected.iloc[:4,:4] = expected.round(2)\n",
    "glioblastoma_expected"
   ]
  },
  {
   "cell_type": "markdown",
   "metadata": {},
   "source": [
    "### Show the % deviation between the observed and the expected values"
   ]
  },
  {
   "cell_type": "code",
   "execution_count": 7,
   "metadata": {},
   "outputs": [
    {
     "data": {
      "text/html": [
       "<div>\n",
       "<style>\n",
       "    .dataframe thead tr:only-child th {\n",
       "        text-align: right;\n",
       "    }\n",
       "\n",
       "    .dataframe thead th {\n",
       "        text-align: left;\n",
       "    }\n",
       "\n",
       "    .dataframe tbody tr th {\n",
       "        vertical-align: top;\n",
       "    }\n",
       "</style>\n",
       "<table border=\"1\" class=\"dataframe\">\n",
       "  <thead>\n",
       "    <tr style=\"text-align: right;\">\n",
       "      <th>Age</th>\n",
       "      <th>0-20</th>\n",
       "      <th>20-40</th>\n",
       "      <th>40-60</th>\n",
       "      <th>60-80</th>\n",
       "      <th>Total</th>\n",
       "    </tr>\n",
       "  </thead>\n",
       "  <tbody>\n",
       "    <tr>\n",
       "      <th>Stage 1</th>\n",
       "      <td>-28.4</td>\n",
       "      <td>-6.4</td>\n",
       "      <td>52.6</td>\n",
       "      <td>-42.3</td>\n",
       "      <td>0.0</td>\n",
       "    </tr>\n",
       "    <tr>\n",
       "      <th>Stage 2</th>\n",
       "      <td>4.8</td>\n",
       "      <td>36.9</td>\n",
       "      <td>-25.5</td>\n",
       "      <td>-7.1</td>\n",
       "      <td>0.0</td>\n",
       "    </tr>\n",
       "    <tr>\n",
       "      <th>Stage 3</th>\n",
       "      <td>17.8</td>\n",
       "      <td>-26.6</td>\n",
       "      <td>-16.2</td>\n",
       "      <td>35.8</td>\n",
       "      <td>0.0</td>\n",
       "    </tr>\n",
       "    <tr>\n",
       "      <th>Stage 4</th>\n",
       "      <td>10.1</td>\n",
       "      <td>-32.8</td>\n",
       "      <td>-6.1</td>\n",
       "      <td>33.2</td>\n",
       "      <td>0.0</td>\n",
       "    </tr>\n",
       "    <tr>\n",
       "      <th>Total</th>\n",
       "      <td>0.0</td>\n",
       "      <td>0.0</td>\n",
       "      <td>0.0</td>\n",
       "      <td>0.0</td>\n",
       "      <td>0.0</td>\n",
       "    </tr>\n",
       "  </tbody>\n",
       "</table>\n",
       "</div>"
      ],
      "text/plain": [
       "Age      0-20  20-40  40-60  60-80  Total\n",
       "Stage 1 -28.4   -6.4   52.6  -42.3    0.0\n",
       "Stage 2   4.8   36.9  -25.5   -7.1    0.0\n",
       "Stage 3  17.8  -26.6  -16.2   35.8    0.0\n",
       "Stage 4  10.1  -32.8   -6.1   33.2    0.0\n",
       "Total     0.0    0.0    0.0    0.0    0.0"
      ]
     },
     "execution_count": 7,
     "metadata": {},
     "output_type": "execute_result"
    }
   ],
   "source": [
    "deviation = (100*(glioblastoma - glioblastoma_expected)/glioblastoma_expected).round(1)\n",
    "deviation"
   ]
  },
  {
   "cell_type": "markdown",
   "metadata": {},
   "source": [
    "### Add a little color to let the positive and negative deviations pop out"
   ]
  },
  {
   "cell_type": "code",
   "execution_count": 8,
   "metadata": {},
   "outputs": [],
   "source": [
    "import seaborn as sns\n",
    "cmap = sns.diverging_palette(250, 0, as_cmap=True) # Create a Blue-White-Red colormap\n",
    "def background(x): # A function that will turn a value into a color\n",
    "    index = cmap.N*(x+50)/100 # Turn values from -50 to 50 into indices\n",
    "    index = int(np.clip(index,0,cmap.N-1)) # Restrict those indices from 0 to cmap.N-1 (255 in this case)\n",
    "    rgb = cmap(index)[:3] # Get an RGB value from that index\n",
    "    hexx = mpl.colors.rgb2hex(rgb) # Get a hexadecimal strong from that RGB value\n",
    "    return 'background-color: %s' % hexx # Set the background color for the cell using that hexadecimal string"
   ]
  },
  {
   "cell_type": "code",
   "execution_count": 9,
   "metadata": {},
   "outputs": [
    {
     "data": {
      "text/html": [
       "<style  type=\"text/css\" >\n",
       "    #T_8aa75796_0ac3_11e8_b1b0_00155d5b40f7row0_col0 {\n",
       "            background-color:  #90afd6;\n",
       "        }    #T_8aa75796_0ac3_11e8_b1b0_00155d5b40f7row0_col1 {\n",
       "            background-color:  #dde7f3;\n",
       "        }    #T_8aa75796_0ac3_11e8_b1b0_00155d5b40f7row0_col2 {\n",
       "            background-color:  #d53d69;\n",
       "        }    #T_8aa75796_0ac3_11e8_b1b0_00155d5b40f7row0_col3 {\n",
       "            background-color:  #5e8bc4;\n",
       "        }    #T_8aa75796_0ac3_11e8_b1b0_00155d5b40f7row0_col4 {\n",
       "            background-color:  #f2f2f2;\n",
       "        }    #T_8aa75796_0ac3_11e8_b1b0_00155d5b40f7row1_col0 {\n",
       "            background-color:  #f8e1e8;\n",
       "        }    #T_8aa75796_0ac3_11e8_b1b0_00155d5b40f7row1_col1 {\n",
       "            background-color:  #df6c8e;\n",
       "        }    #T_8aa75796_0ac3_11e8_b1b0_00155d5b40f7row1_col2 {\n",
       "            background-color:  #9ab6da;\n",
       "        }    #T_8aa75796_0ac3_11e8_b1b0_00155d5b40f7row1_col3 {\n",
       "            background-color:  #dae5f2;\n",
       "        }    #T_8aa75796_0ac3_11e8_b1b0_00155d5b40f7row1_col4 {\n",
       "            background-color:  #f2f2f2;\n",
       "        }    #T_8aa75796_0ac3_11e8_b1b0_00155d5b40f7row2_col0 {\n",
       "            background-color:  #eeb2c3;\n",
       "        }    #T_8aa75796_0ac3_11e8_b1b0_00155d5b40f7row2_col1 {\n",
       "            background-color:  #95b3d8;\n",
       "        }    #T_8aa75796_0ac3_11e8_b1b0_00155d5b40f7row2_col2 {\n",
       "            background-color:  #bbcee6;\n",
       "        }    #T_8aa75796_0ac3_11e8_b1b0_00155d5b40f7row2_col3 {\n",
       "            background-color:  #e07091;\n",
       "        }    #T_8aa75796_0ac3_11e8_b1b0_00155d5b40f7row2_col4 {\n",
       "            background-color:  #f2f2f2;\n",
       "        }    #T_8aa75796_0ac3_11e8_b1b0_00155d5b40f7row3_col0 {\n",
       "            background-color:  #f4ced9;\n",
       "        }    #T_8aa75796_0ac3_11e8_b1b0_00155d5b40f7row3_col1 {\n",
       "            background-color:  #81a4d1;\n",
       "        }    #T_8aa75796_0ac3_11e8_b1b0_00155d5b40f7row3_col2 {\n",
       "            background-color:  #dfe8f3;\n",
       "        }    #T_8aa75796_0ac3_11e8_b1b0_00155d5b40f7row3_col3 {\n",
       "            background-color:  #e27a99;\n",
       "        }    #T_8aa75796_0ac3_11e8_b1b0_00155d5b40f7row3_col4 {\n",
       "            background-color:  #f2f2f2;\n",
       "        }    #T_8aa75796_0ac3_11e8_b1b0_00155d5b40f7row4_col0 {\n",
       "            background-color:  #f2f2f2;\n",
       "        }    #T_8aa75796_0ac3_11e8_b1b0_00155d5b40f7row4_col1 {\n",
       "            background-color:  #f2f2f2;\n",
       "        }    #T_8aa75796_0ac3_11e8_b1b0_00155d5b40f7row4_col2 {\n",
       "            background-color:  #f2f2f2;\n",
       "        }    #T_8aa75796_0ac3_11e8_b1b0_00155d5b40f7row4_col3 {\n",
       "            background-color:  #f2f2f2;\n",
       "        }    #T_8aa75796_0ac3_11e8_b1b0_00155d5b40f7row4_col4 {\n",
       "            background-color:  #f2f2f2;\n",
       "        }</style>  \n",
       "<table id=\"T_8aa75796_0ac3_11e8_b1b0_00155d5b40f7\" > \n",
       "<thead>    <tr> \n",
       "        <th class=\"index_name level0\" >Age</th> \n",
       "        <th class=\"col_heading level0 col0\" >0-20</th> \n",
       "        <th class=\"col_heading level0 col1\" >20-40</th> \n",
       "        <th class=\"col_heading level0 col2\" >40-60</th> \n",
       "        <th class=\"col_heading level0 col3\" >60-80</th> \n",
       "        <th class=\"col_heading level0 col4\" >Total</th> \n",
       "    </tr></thead> \n",
       "<tbody>    <tr> \n",
       "        <th id=\"T_8aa75796_0ac3_11e8_b1b0_00155d5b40f7level0_row0\" class=\"row_heading level0 row0\" >Stage 1</th> \n",
       "        <td id=\"T_8aa75796_0ac3_11e8_b1b0_00155d5b40f7row0_col0\" class=\"data row0 col0\" >-28.4</td> \n",
       "        <td id=\"T_8aa75796_0ac3_11e8_b1b0_00155d5b40f7row0_col1\" class=\"data row0 col1\" >-6.4</td> \n",
       "        <td id=\"T_8aa75796_0ac3_11e8_b1b0_00155d5b40f7row0_col2\" class=\"data row0 col2\" >52.6</td> \n",
       "        <td id=\"T_8aa75796_0ac3_11e8_b1b0_00155d5b40f7row0_col3\" class=\"data row0 col3\" >-42.3</td> \n",
       "        <td id=\"T_8aa75796_0ac3_11e8_b1b0_00155d5b40f7row0_col4\" class=\"data row0 col4\" >0</td> \n",
       "    </tr>    <tr> \n",
       "        <th id=\"T_8aa75796_0ac3_11e8_b1b0_00155d5b40f7level0_row1\" class=\"row_heading level0 row1\" >Stage 2</th> \n",
       "        <td id=\"T_8aa75796_0ac3_11e8_b1b0_00155d5b40f7row1_col0\" class=\"data row1 col0\" >4.8</td> \n",
       "        <td id=\"T_8aa75796_0ac3_11e8_b1b0_00155d5b40f7row1_col1\" class=\"data row1 col1\" >36.9</td> \n",
       "        <td id=\"T_8aa75796_0ac3_11e8_b1b0_00155d5b40f7row1_col2\" class=\"data row1 col2\" >-25.5</td> \n",
       "        <td id=\"T_8aa75796_0ac3_11e8_b1b0_00155d5b40f7row1_col3\" class=\"data row1 col3\" >-7.1</td> \n",
       "        <td id=\"T_8aa75796_0ac3_11e8_b1b0_00155d5b40f7row1_col4\" class=\"data row1 col4\" >0</td> \n",
       "    </tr>    <tr> \n",
       "        <th id=\"T_8aa75796_0ac3_11e8_b1b0_00155d5b40f7level0_row2\" class=\"row_heading level0 row2\" >Stage 3</th> \n",
       "        <td id=\"T_8aa75796_0ac3_11e8_b1b0_00155d5b40f7row2_col0\" class=\"data row2 col0\" >17.8</td> \n",
       "        <td id=\"T_8aa75796_0ac3_11e8_b1b0_00155d5b40f7row2_col1\" class=\"data row2 col1\" >-26.6</td> \n",
       "        <td id=\"T_8aa75796_0ac3_11e8_b1b0_00155d5b40f7row2_col2\" class=\"data row2 col2\" >-16.2</td> \n",
       "        <td id=\"T_8aa75796_0ac3_11e8_b1b0_00155d5b40f7row2_col3\" class=\"data row2 col3\" >35.8</td> \n",
       "        <td id=\"T_8aa75796_0ac3_11e8_b1b0_00155d5b40f7row2_col4\" class=\"data row2 col4\" >0</td> \n",
       "    </tr>    <tr> \n",
       "        <th id=\"T_8aa75796_0ac3_11e8_b1b0_00155d5b40f7level0_row3\" class=\"row_heading level0 row3\" >Stage 4</th> \n",
       "        <td id=\"T_8aa75796_0ac3_11e8_b1b0_00155d5b40f7row3_col0\" class=\"data row3 col0\" >10.1</td> \n",
       "        <td id=\"T_8aa75796_0ac3_11e8_b1b0_00155d5b40f7row3_col1\" class=\"data row3 col1\" >-32.8</td> \n",
       "        <td id=\"T_8aa75796_0ac3_11e8_b1b0_00155d5b40f7row3_col2\" class=\"data row3 col2\" >-6.1</td> \n",
       "        <td id=\"T_8aa75796_0ac3_11e8_b1b0_00155d5b40f7row3_col3\" class=\"data row3 col3\" >33.2</td> \n",
       "        <td id=\"T_8aa75796_0ac3_11e8_b1b0_00155d5b40f7row3_col4\" class=\"data row3 col4\" >0</td> \n",
       "    </tr>    <tr> \n",
       "        <th id=\"T_8aa75796_0ac3_11e8_b1b0_00155d5b40f7level0_row4\" class=\"row_heading level0 row4\" >Total</th> \n",
       "        <td id=\"T_8aa75796_0ac3_11e8_b1b0_00155d5b40f7row4_col0\" class=\"data row4 col0\" >0</td> \n",
       "        <td id=\"T_8aa75796_0ac3_11e8_b1b0_00155d5b40f7row4_col1\" class=\"data row4 col1\" >0</td> \n",
       "        <td id=\"T_8aa75796_0ac3_11e8_b1b0_00155d5b40f7row4_col2\" class=\"data row4 col2\" >0</td> \n",
       "        <td id=\"T_8aa75796_0ac3_11e8_b1b0_00155d5b40f7row4_col3\" class=\"data row4 col3\" >0</td> \n",
       "        <td id=\"T_8aa75796_0ac3_11e8_b1b0_00155d5b40f7row4_col4\" class=\"data row4 col4\" >0</td> \n",
       "    </tr></tbody> \n",
       "</table> "
      ],
      "text/plain": [
       "<pandas.io.formats.style.Styler at 0x7f9f1830c3c8>"
      ]
     },
     "execution_count": 9,
     "metadata": {},
     "output_type": "execute_result"
    }
   ],
   "source": [
    "deviation.style.applymap(background)"
   ]
  },
  {
   "cell_type": "code",
   "execution_count": 28,
   "metadata": {},
   "outputs": [
    {
     "name": "stdout",
     "output_type": "stream",
     "text": [
      "Using a chi-squared test, the p-value for the null hypothesis is 0.0180\n",
      "We can reject the null hypothesis at significance threshold alpha = 0.05\n"
     ]
    }
   ],
   "source": [
    "print(\"Using a chi-squared test, the p-value for the null hypothesis is %.4f\" % p)\n",
    "alpha = 0.05\n",
    "print(\"We can%s reject the null hypothesis at significance threshold alpha = %s\" % (\"not\" if p>=alpha else \"\",alpha))"
   ]
  },
  {
   "cell_type": "markdown",
   "metadata": {},
   "source": [
    "### Reality: all glioblastomas are called grade 4 (brain cancers don't use stages), but lesser gliomas can be lower grades"
   ]
  },
  {
   "cell_type": "markdown",
   "metadata": {},
   "source": [
    "<hr>"
   ]
  },
  {
   "cell_type": "markdown",
   "metadata": {},
   "source": [
    "## Concussions"
   ]
  },
  {
   "cell_type": "code",
   "execution_count": 10,
   "metadata": {},
   "outputs": [
    {
     "data": {
      "text/html": [
       "<div>\n",
       "<style>\n",
       "    .dataframe thead tr:only-child th {\n",
       "        text-align: right;\n",
       "    }\n",
       "\n",
       "    .dataframe thead th {\n",
       "        text-align: left;\n",
       "    }\n",
       "\n",
       "    .dataframe tbody tr th {\n",
       "        vertical-align: top;\n",
       "    }\n",
       "</style>\n",
       "<table border=\"1\" class=\"dataframe\">\n",
       "  <thead>\n",
       "    <tr style=\"text-align: right;\">\n",
       "      <th># concussions</th>\n",
       "      <th>0</th>\n",
       "      <th>1</th>\n",
       "      <th>2</th>\n",
       "      <th>3</th>\n",
       "      <th>4+</th>\n",
       "    </tr>\n",
       "  </thead>\n",
       "  <tbody>\n",
       "    <tr>\n",
       "      <th>0-9%</th>\n",
       "      <td>0</td>\n",
       "      <td>0</td>\n",
       "      <td>0</td>\n",
       "      <td>0</td>\n",
       "      <td>1</td>\n",
       "    </tr>\n",
       "    <tr>\n",
       "      <th>10-19%</th>\n",
       "      <td>0</td>\n",
       "      <td>0</td>\n",
       "      <td>0</td>\n",
       "      <td>0</td>\n",
       "      <td>0</td>\n",
       "    </tr>\n",
       "    <tr>\n",
       "      <th>20-29%</th>\n",
       "      <td>0</td>\n",
       "      <td>1</td>\n",
       "      <td>0</td>\n",
       "      <td>2</td>\n",
       "      <td>1</td>\n",
       "    </tr>\n",
       "    <tr>\n",
       "      <th>30-39%</th>\n",
       "      <td>1</td>\n",
       "      <td>0</td>\n",
       "      <td>0</td>\n",
       "      <td>2</td>\n",
       "      <td>4</td>\n",
       "    </tr>\n",
       "    <tr>\n",
       "      <th>40-49%</th>\n",
       "      <td>0</td>\n",
       "      <td>1</td>\n",
       "      <td>1</td>\n",
       "      <td>1</td>\n",
       "      <td>5</td>\n",
       "    </tr>\n",
       "    <tr>\n",
       "      <th>50-59%</th>\n",
       "      <td>2</td>\n",
       "      <td>2</td>\n",
       "      <td>1</td>\n",
       "      <td>7</td>\n",
       "      <td>8</td>\n",
       "    </tr>\n",
       "    <tr>\n",
       "      <th>60-69%</th>\n",
       "      <td>4</td>\n",
       "      <td>2</td>\n",
       "      <td>1</td>\n",
       "      <td>4</td>\n",
       "      <td>5</td>\n",
       "    </tr>\n",
       "    <tr>\n",
       "      <th>70-79%</th>\n",
       "      <td>6</td>\n",
       "      <td>4</td>\n",
       "      <td>4</td>\n",
       "      <td>4</td>\n",
       "      <td>2</td>\n",
       "    </tr>\n",
       "    <tr>\n",
       "      <th>80-89%</th>\n",
       "      <td>6</td>\n",
       "      <td>5</td>\n",
       "      <td>5</td>\n",
       "      <td>2</td>\n",
       "      <td>1</td>\n",
       "    </tr>\n",
       "    <tr>\n",
       "      <th>90-99%</th>\n",
       "      <td>8</td>\n",
       "      <td>7</td>\n",
       "      <td>6</td>\n",
       "      <td>1</td>\n",
       "      <td>1</td>\n",
       "    </tr>\n",
       "  </tbody>\n",
       "</table>\n",
       "</div>"
      ],
      "text/plain": [
       "# concussions  0  1  2  3  4+\n",
       "0-9%           0  0  0  0   1\n",
       "10-19%         0  0  0  0   0\n",
       "20-29%         0  1  0  2   1\n",
       "30-39%         1  0  0  2   4\n",
       "40-49%         0  1  1  1   5\n",
       "50-59%         2  2  1  7   8\n",
       "60-69%         4  2  1  4   5\n",
       "70-79%         6  4  4  4   2\n",
       "80-89%         6  5  5  2   1\n",
       "90-99%         8  7  6  1   1"
      ]
     },
     "execution_count": 10,
     "metadata": {},
     "output_type": "execute_result"
    }
   ],
   "source": [
    "concussions = pd.DataFrame(index=['%d-%d%%'%(x,x+9) for x in range(0,100,10)],\n",
    "                           columns=['0','1','2','3','4+'],\n",
    "                           data=[[0,0,0,0,1],\n",
    "                                 [0,0,0,0,0],\n",
    "                                 [0,1,0,2,1],\n",
    "                                 [1,0,0,2,4],\n",
    "                                 [0,1,1,1,5],\n",
    "                                 [2,2,1,7,8],\n",
    "                                 [4,2,1,4,5],\n",
    "                                 [6,4,4,4,2],\n",
    "                                 [6,5,5,2,1],\n",
    "                                 [8,7,6,1,1]])\n",
    "concussions.columns.name ='# concussions'\n",
    "concussions"
   ]
  },
  {
   "cell_type": "code",
   "execution_count": 11,
   "metadata": {},
   "outputs": [
    {
     "ename": "ValueError",
     "evalue": "The internally computed table of expected frequencies has a zero element at (1, 0).",
     "output_type": "error",
     "traceback": [
      "\u001b[0;31m---------------------------------------------------------------------------\u001b[0m",
      "\u001b[0;31mValueError\u001b[0m                                Traceback (most recent call last)",
      "\u001b[0;32m<ipython-input-11-34cbafe6d9ed>\u001b[0m in \u001b[0;36m<module>\u001b[0;34m()\u001b[0m\n\u001b[0;32m----> 1\u001b[0;31m \u001b[0mchi2\u001b[0m\u001b[0;34m,\u001b[0m\u001b[0mp\u001b[0m\u001b[0;34m,\u001b[0m\u001b[0mdof\u001b[0m\u001b[0;34m,\u001b[0m\u001b[0mexpected\u001b[0m \u001b[0;34m=\u001b[0m \u001b[0mchi2_contingency\u001b[0m\u001b[0;34m(\u001b[0m\u001b[0mconcussions\u001b[0m\u001b[0;34m)\u001b[0m\u001b[0;34m\u001b[0m\u001b[0m\n\u001b[0m",
      "\u001b[0;32m~/anaconda3_501/lib/python3.6/site-packages/scipy/stats/contingency.py\u001b[0m in \u001b[0;36mchi2_contingency\u001b[0;34m(observed, correction, lambda_)\u001b[0m\n\u001b[1;32m    251\u001b[0m         \u001b[0mzeropos\u001b[0m \u001b[0;34m=\u001b[0m \u001b[0mlist\u001b[0m\u001b[0;34m(\u001b[0m\u001b[0mzip\u001b[0m\u001b[0;34m(\u001b[0m\u001b[0;34m*\u001b[0m\u001b[0mnp\u001b[0m\u001b[0;34m.\u001b[0m\u001b[0mwhere\u001b[0m\u001b[0;34m(\u001b[0m\u001b[0mexpected\u001b[0m \u001b[0;34m==\u001b[0m \u001b[0;36m0\u001b[0m\u001b[0;34m)\u001b[0m\u001b[0;34m)\u001b[0m\u001b[0;34m)\u001b[0m\u001b[0;34m[\u001b[0m\u001b[0;36m0\u001b[0m\u001b[0;34m]\u001b[0m\u001b[0;34m\u001b[0m\u001b[0m\n\u001b[1;32m    252\u001b[0m         raise ValueError(\"The internally computed table of expected \"\n\u001b[0;32m--> 253\u001b[0;31m                          \"frequencies has a zero element at %s.\" % (zeropos,))\n\u001b[0m\u001b[1;32m    254\u001b[0m \u001b[0;34m\u001b[0m\u001b[0m\n\u001b[1;32m    255\u001b[0m     \u001b[0;31m# The degrees of freedom\u001b[0m\u001b[0;34m\u001b[0m\u001b[0;34m\u001b[0m\u001b[0m\n",
      "\u001b[0;31mValueError\u001b[0m: The internally computed table of expected frequencies has a zero element at (1, 0)."
     ]
    }
   ],
   "source": [
    "chi2,p,dof,expected = chi2_contingency(concussions)"
   ]
  },
  {
   "cell_type": "markdown",
   "metadata": {},
   "source": [
    "### There is an error because the expected value for the 10-19% case is 0 (since there are no observed cases in that row), therefore the denominator in the chi-squared formula is zero, i.e. the calculation cannot be completed"
   ]
  },
  {
   "cell_type": "code",
   "execution_count": 31,
   "metadata": {},
   "outputs": [
    {
     "name": "stdout",
     "output_type": "stream",
     "text": [
      "Using a chi-squared test, the p-value for the null hypothesis is 0.0210\n",
      "We can reject the null hypothesis at significance threshold alpha = 0.05\n"
     ]
    }
   ],
   "source": [
    "chi2,p,dof,expected = chi2_contingency(concussions.drop('10-19%'))\n",
    "print(\"Using a chi-squared test, the p-value for the null hypothesis is %.4f\" % p)\n",
    "alpha = 0.05\n",
    "print(\"We can%s reject the null hypothesis at significance threshold alpha = %s\" % (\"not\" if p>=alpha else \"\",alpha))"
   ]
  },
  {
   "cell_type": "code",
   "execution_count": 33,
   "metadata": {},
   "outputs": [
    {
     "data": {
      "image/png": "[encoded data removed]",
      "text/plain": [
       "<matplotlib.figure.Figure at 0x7fcbf71fc1d0>"
      ]
     },
     "metadata": {},
     "output_type": "display_data"
    }
   ],
   "source": [
    "concussions.plot.bar(figsize=(15,4));"
   ]
  }
 ],
 "metadata": {
  "kernelspec": {
   "display_name": "Python 3.6",
   "language": "python",
   "name": "python36"
  },
  "language_info": {
   "codemirror_mode": {
    "name": "ipython",
    "version": 3
   },
   "file_extension": ".py",
   "mimetype": "text/x-python",
   "name": "python",
   "nbconvert_exporter": "python",
   "pygments_lexer": "ipython3",
   "version": "3.6.3"
  }
 },
 "nbformat": 4,
 "nbformat_minor": 2
}
