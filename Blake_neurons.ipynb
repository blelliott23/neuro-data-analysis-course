{
  "nbformat": 4,
  "nbformat_minor": 0,
  "metadata": {
    "colab": {
      "name": "Copy of neurons.ipynb",
      "version": "0.3.2",
      "provenance": [],
      "include_colab_link": true
    },
    "kernelspec": {
      "display_name": "Python 3",
      "language": "python",
      "name": "python3"
    }
  },
  "cells": [
    {
      "cell_type": "markdown",
      "metadata": {
        "id": "view-in-github",
        "colab_type": "text"
      },
      "source": [
        "<a href=\"https://colab.research.google.com/github/blelliott23/neuro-data-analysis-course/blob/master/Blake_neurons.ipynb\" target=\"_parent\"><img src=\"https://colab.research.google.com/assets/colab-badge.svg\" alt=\"Open In Colab\"/></a>"
      ]
    },
    {
      "metadata": {
        "id": "u7l-y16n2NoV",
        "colab_type": "text"
      },
      "cell_type": "markdown",
      "source": [
        "# What are neurons?"
      ]
    },
    {
      "metadata": {
        "id": "kUpXjSSQ2NoY",
        "colab_type": "text"
      },
      "cell_type": "markdown",
      "source": [
        "## - More than you know, even if you are a neuroscience major!"
      ]
    },
    {
      "metadata": {
        "id": "jnlPyFi32NoZ",
        "colab_type": "code",
        "colab": {}
      },
      "cell_type": "code",
      "source": [
        "%matplotlib inline\n",
        "import matplotlib.pyplot as plt\n",
        "import numpy as np\n",
        "import scipy\n",
        "import pandas as pd\n",
        "import seaborn as sns\n",
        "sns.set(font_scale=1.5) # Nice big fonts\n",
        "import warnings\n",
        "warnings.filterwarnings(\"ignore\") # Turn off distracting warning messages that you don't need to see"
      ],
      "execution_count": 0,
      "outputs": []
    },
    {
      "metadata": {
        "id": "5aBsTHCa2Noe",
        "colab_type": "code",
        "outputId": "d91284d8-3407-403a-83e5-86f6bf27f4dd",
        "colab": {
          "base_uri": "https://localhost:8080/",
          "height": 17
        }
      },
      "cell_type": "code",
      "source": [
        "# Make my dataframes big for slideshow mode\n",
        "from IPython.display import HTML\n",
        "HTML(\"\"\"<style>\n",
        "table.dataframe {\n",
        "font-size:150%;\n",
        "}\n",
        "</style>\"\"\")"
      ],
      "execution_count": 0,
      "outputs": [
        {
          "output_type": "execute_result",
          "data": {
            "text/html": [
              "<style>\n",
              "table.dataframe {\n",
              "font-size:150%;\n",
              "}\n",
              "</style>"
            ],
            "text/plain": [
              "<IPython.core.display.HTML object>"
            ]
          },
          "metadata": {
            "tags": []
          },
          "execution_count": 2
        }
      ]
    },
    {
      "metadata": {
        "id": "1cXhWIts2Noj",
        "colab_type": "code",
        "outputId": "6b051999-54c4-43c5-d996-a11adae9223e",
        "colab": {
          "base_uri": "https://localhost:8080/",
          "height": 321
        }
      },
      "cell_type": "code",
      "source": [
        "from IPython.display import YouTubeVideo\n",
        "YouTubeVideo(\"6qS83wD29PY\")"
      ],
      "execution_count": 0,
      "outputs": [
        {
          "output_type": "execute_result",
          "data": {
            "text/html": [
              "\n",
              "        <iframe\n",
              "            width=\"400\"\n",
              "            height=\"300\"\n",
              "            src=\"https://www.youtube.com/embed/6qS83wD29PY\"\n",
              "            frameborder=\"0\"\n",
              "            allowfullscreen\n",
              "        ></iframe>\n",
              "        "
            ],
            "text/plain": [
              "<IPython.lib.display.YouTubeVideo at 0x7f0c98938828>"
            ],
            "image/jpeg": "[encoded data removed]"
          },
          "metadata": {
            "tags": []
          },
          "execution_count": 3
        }
      ]
    },
    {
      "metadata": {
        "id": "YoRL9m2f2Nom",
        "colab_type": "text"
      },
      "cell_type": "markdown",
      "source": [
        "![resting potential](https://courses.washington.edu/conj/membpot/cellsionspsp.png) "
      ]
    },
    {
      "metadata": {
        "id": "DQjLppnE2Non",
        "colab_type": "text"
      },
      "cell_type": "markdown",
      "source": [
        "![origin of membrane potential](https://images.tutorvista.com/cms/images/81/nernst-equation-membrane-potential.png)"
      ]
    },
    {
      "metadata": {
        "id": "02FhTN6F2Noq",
        "colab_type": "text"
      },
      "cell_type": "markdown",
      "source": [
        "![myocyte concentrations](https://www.cvphysiology.com/Arrhythmias/A007%20membrane%20ions.gif) "
      ]
    },
    {
      "metadata": {
        "id": "VQ6Lyfn62Nor",
        "colab_type": "text"
      },
      "cell_type": "markdown",
      "source": [
        "#### [Link for engineering-type people to learn more](https://www.scientifica.uk.com/learning-zone/understanding-the-cell-as-an-electrical-circuit)\n",
        "#### [Link for gunner premeds to USMLE study materials](https://www.yousmle.com/equilibrium-nernst-potential-for-the-usmle)"
      ]
    },
    {
      "metadata": {
        "id": "ZCK0LCU92Nos",
        "colab_type": "text"
      },
      "cell_type": "markdown",
      "source": [
        "## What is an action potential?"
      ]
    },
    {
      "metadata": {
        "id": "XzdLIyiz2Not",
        "colab_type": "code",
        "outputId": "055e3040-4044-47d9-d31c-da3d679e6531",
        "colab": {}
      },
      "cell_type": "code",
      "source": [
        "YouTubeVideo(\"W2hHt_PXe5o\")"
      ],
      "execution_count": 0,
      "outputs": [
        {
          "output_type": "execute_result",
          "data": {
            "image/jpeg": "[encoded data removed]",
            "text/html": [
              "\n",
              "        <iframe\n",
              "            width=\"400\"\n",
              "            height=\"300\"\n",
              "            src=\"https://www.youtube.com/embed/W2hHt_PXe5o\"\n",
              "            frameborder=\"0\"\n",
              "            allowfullscreen\n",
              "        ></iframe>\n",
              "        "
            ],
            "text/plain": [
              "<IPython.lib.display.YouTubeVideo at 0x7f6b1d55aac8>"
            ]
          },
          "metadata": {
            "tags": []
          },
          "execution_count": 4
        }
      ]
    },
    {
      "metadata": {
        "id": "rXvAC-572Now",
        "colab_type": "text"
      },
      "cell_type": "markdown",
      "source": [
        "### [Quick simulation demo of how these variables change over time](https://live.geppetto.org/geppetto?load_project_from_id=1)"
      ]
    },
    {
      "metadata": {
        "id": "zeuqRndb2Nox",
        "colab_type": "text"
      },
      "cell_type": "markdown",
      "source": [
        "## [The Allen Institute and their data](http://portal.brain-map.org)"
      ]
    },
    {
      "metadata": {
        "id": "6K8gEafH2Noz",
        "colab_type": "code",
        "outputId": "5076b607-588d-421e-e0b6-313dc0d1e54a",
        "colab": {
          "base_uri": "https://localhost:8080/",
          "height": 1278
        }
      },
      "cell_type": "code",
      "source": [
        "# Install the Allen Institute API.  An API is programming module for interacting with a particular kind of program or dataset\n",
        "!pip install allensdk"
      ],
      "execution_count": 0,
      "outputs": [
        {
          "output_type": "stream",
          "text": [
            "Collecting allensdk\n",
            "\u001b[?25l  Downloading https://files.pythonhosted.org/packages/63/e7/f822362bf75db899cae14877f394f37894cdda85ed7734df9597f334dc75/allensdk-0.16.0.tar.bz2 (416kB)\n",
            "\u001b[K    100% |████████████████████████████████| 419kB 4.5MB/s \n",
            "\u001b[?25hRequirement already satisfied: h5py>=2.3.1 in /usr/local/lib/python3.6/dist-packages (from allensdk) (2.8.0)\n",
            "Requirement already satisfied: matplotlib>=1.4.3 in /usr/local/lib/python3.6/dist-packages (from allensdk) (3.0.2)\n",
            "Requirement already satisfied: numpy>=1.12.1 in /usr/local/lib/python3.6/dist-packages (from allensdk) (1.14.6)\n",
            "Requirement already satisfied: pandas>=0.17.0 in /usr/local/lib/python3.6/dist-packages (from allensdk) (0.22.0)\n",
            "Requirement already satisfied: jinja2>=2.7.3 in /usr/local/lib/python3.6/dist-packages (from allensdk) (2.10)\n",
            "Requirement already satisfied: scipy>=0.15.1 in /usr/local/lib/python3.6/dist-packages (from allensdk) (1.1.0)\n",
            "Requirement already satisfied: six>=1.9.0 in /usr/local/lib/python3.6/dist-packages (from allensdk) (1.11.0)\n",
            "Collecting pynrrd>=0.2.1 (from allensdk)\n",
            "  Downloading https://files.pythonhosted.org/packages/26/47/1bbb9db574f920a960cf3121e9333ed9c670d946dd89fb6528dae6818494/pynrrd-0.3.5-py2.py3-none-any.whl\n",
            "Requirement already satisfied: future>=0.14.3 in /usr/local/lib/python3.6/dist-packages (from allensdk) (0.16.0)\n",
            "Requirement already satisfied: requests in /usr/local/lib/python3.6/dist-packages (from allensdk) (2.18.4)\n",
            "Collecting requests-toolbelt (from allensdk)\n",
            "\u001b[?25l  Downloading https://files.pythonhosted.org/packages/97/8a/d710f792d6f6ecc089c5e55b66e66c3f2f35516a1ede5a8f54c13350ffb0/requests_toolbelt-0.8.0-py2.py3-none-any.whl (54kB)\n",
            "\u001b[K    100% |████████████████████████████████| 61kB 5.7MB/s \n",
            "\u001b[?25hCollecting simplejson>=3.10.0 (from allensdk)\n",
            "\u001b[?25l  Downloading https://files.pythonhosted.org/packages/e3/24/c35fb1c1c315fc0fffe61ea00d3f88e85469004713dab488dee4f35b0aff/simplejson-3.16.0.tar.gz (81kB)\n",
            "\u001b[K    100% |████████████████████████████████| 81kB 5.7MB/s \n",
            "\u001b[?25hCollecting scikit-image>=0.14.0 (from allensdk)\n",
            "\u001b[?25l  Downloading https://files.pythonhosted.org/packages/24/06/d560630eb9e36d90d69fe57d9ff762d8f501664ce478b8a0ae132b3c3008/scikit_image-0.14.2-cp36-cp36m-manylinux1_x86_64.whl (25.3MB)\n",
            "\u001b[K    100% |████████████████████████████████| 25.3MB 1.2MB/s \n",
            "\u001b[?25hRequirement already satisfied: statsmodels>=0.8.0 in /usr/local/lib/python3.6/dist-packages (from allensdk) (0.8.0)\n",
            "Collecting simpleitk (from allensdk)\n",
            "\u001b[?25l  Downloading https://files.pythonhosted.org/packages/45/ee/8ddd251cf447e1fc131622e925d538c2542780195ae75e26c122587630d1/SimpleITK-1.2.0-cp36-cp36m-manylinux1_x86_64.whl (42.5MB)\n",
            "\u001b[K    100% |████████████████████████████████| 42.5MB 717kB/s \n",
            "\u001b[?25hRequirement already satisfied: tables in /usr/local/lib/python3.6/dist-packages (from allensdk) (3.4.4)\n",
            "Requirement already satisfied: pyparsing!=2.0.4,!=2.1.2,!=2.1.6,>=2.0.1 in /usr/local/lib/python3.6/dist-packages (from matplotlib>=1.4.3->allensdk) (2.3.1)\n",
            "Requirement already satisfied: python-dateutil>=2.1 in /usr/local/lib/python3.6/dist-packages (from matplotlib>=1.4.3->allensdk) (2.5.3)\n",
            "Requirement already satisfied: cycler>=0.10 in /usr/local/lib/python3.6/dist-packages (from matplotlib>=1.4.3->allensdk) (0.10.0)\n",
            "Requirement already satisfied: kiwisolver>=1.0.1 in /usr/local/lib/python3.6/dist-packages (from matplotlib>=1.4.3->allensdk) (1.0.1)\n",
            "Requirement already satisfied: pytz>=2011k in /usr/local/lib/python3.6/dist-packages (from pandas>=0.17.0->allensdk) (2018.9)\n",
            "Requirement already satisfied: MarkupSafe>=0.23 in /usr/local/lib/python3.6/dist-packages (from jinja2>=2.7.3->allensdk) (1.1.0)\n",
            "Requirement already satisfied: idna<2.7,>=2.5 in /usr/local/lib/python3.6/dist-packages (from requests->allensdk) (2.6)\n",
            "Requirement already satisfied: certifi>=2017.4.17 in /usr/local/lib/python3.6/dist-packages (from requests->allensdk) (2018.11.29)\n",
            "Requirement already satisfied: chardet<3.1.0,>=3.0.2 in /usr/local/lib/python3.6/dist-packages (from requests->allensdk) (3.0.4)\n",
            "Requirement already satisfied: urllib3<1.23,>=1.21.1 in /usr/local/lib/python3.6/dist-packages (from requests->allensdk) (1.22)\n",
            "Collecting pillow>=4.3.0 (from scikit-image>=0.14.0->allensdk)\n",
            "\u001b[?25l  Downloading https://files.pythonhosted.org/packages/85/5e/e91792f198bbc5a0d7d3055ad552bc4062942d27eaf75c3e2783cf64eae5/Pillow-5.4.1-cp36-cp36m-manylinux1_x86_64.whl (2.0MB)\n",
            "\u001b[K    100% |████████████████████████████████| 2.0MB 11.8MB/s \n",
            "\u001b[?25hRequirement already satisfied: networkx>=1.8 in /usr/local/lib/python3.6/dist-packages (from scikit-image>=0.14.0->allensdk) (2.2)\n",
            "Requirement already satisfied: PyWavelets>=0.4.0 in /usr/local/lib/python3.6/dist-packages (from scikit-image>=0.14.0->allensdk) (1.0.1)\n",
            "Requirement already satisfied: cloudpickle>=0.2.1 in /usr/local/lib/python3.6/dist-packages (from scikit-image>=0.14.0->allensdk) (0.6.1)\n",
            "Collecting dask[array]>=1.0.0 (from scikit-image>=0.14.0->allensdk)\n",
            "\u001b[?25l  Downloading https://files.pythonhosted.org/packages/b1/96/bce48a61f6d84f5db6dc4febb4be96009c95d6bdfc67e08cc55f644ae36b/dask-1.1.0-py2.py3-none-any.whl (699kB)\n",
            "\u001b[K    100% |████████████████████████████████| 706kB 10.9MB/s \n",
            "\u001b[?25hRequirement already satisfied: patsy in /usr/local/lib/python3.6/dist-packages (from statsmodels>=0.8.0->allensdk) (0.5.1)\n",
            "Requirement already satisfied: numexpr>=2.5.2 in /usr/local/lib/python3.6/dist-packages (from tables->allensdk) (2.6.9)\n",
            "Requirement already satisfied: setuptools in /usr/local/lib/python3.6/dist-packages (from kiwisolver>=1.0.1->matplotlib>=1.4.3->allensdk) (40.6.3)\n",
            "Requirement already satisfied: decorator>=4.3.0 in /usr/local/lib/python3.6/dist-packages (from networkx>=1.8->scikit-image>=0.14.0->allensdk) (4.3.0)\n",
            "Requirement already satisfied: toolz>=0.7.3; extra == \"array\" in /usr/local/lib/python3.6/dist-packages (from dask[array]>=1.0.0->scikit-image>=0.14.0->allensdk) (0.9.0)\n",
            "Building wheels for collected packages: allensdk, simplejson\n",
            "  Running setup.py bdist_wheel for allensdk ... \u001b[?25l-\b \b\\\b \bdone\n",
            "\u001b[?25h  Stored in directory: /root/.cache/pip/wheels/cd/51/6d/53df550e53242084cb8fbbf8752529fe67514a8d133b838b94\n",
            "  Running setup.py bdist_wheel for simplejson ... \u001b[?25l-\b \b\\\b \b|\b \bdone\n",
            "\u001b[?25h  Stored in directory: /root/.cache/pip/wheels/5d/1a/1e/0350bb3df3e74215cd91325344cc86c2c691f5306eb4d22c77\n",
            "Successfully built allensdk simplejson\n",
            "\u001b[31mfeaturetools 0.4.1 has requirement pandas>=0.23.0, but you'll have pandas 0.22.0 which is incompatible.\u001b[0m\n",
            "Installing collected packages: pynrrd, requests-toolbelt, simplejson, pillow, dask, scikit-image, simpleitk, allensdk\n",
            "  Found existing installation: Pillow 4.0.0\n",
            "    Uninstalling Pillow-4.0.0:\n",
            "      Successfully uninstalled Pillow-4.0.0\n",
            "  Found existing installation: dask 0.20.2\n",
            "    Uninstalling dask-0.20.2:\n",
            "      Successfully uninstalled dask-0.20.2\n",
            "  Found existing installation: scikit-image 0.13.1\n",
            "    Uninstalling scikit-image-0.13.1:\n",
            "      Successfully uninstalled scikit-image-0.13.1\n",
            "Successfully installed allensdk-0.16.0 dask-1.1.0 pillow-5.4.1 pynrrd-0.3.5 requests-toolbelt-0.8.0 scikit-image-0.14.2 simpleitk-1.2.0 simplejson-3.16.0\n",
            "\u001b[0;31;1mWARNING: The following packages were previously imported in this runtime:\n",
            "  [PIL]\n",
            "You must restart the runtime in order to use newly installed versions.\u001b[0m\n"
          ],
          "name": "stdout"
        }
      ]
    },
    {
      "metadata": {
        "id": "JRunEjAY2No3",
        "colab_type": "code",
        "outputId": "c4fcdc43-92e5-4b7f-f319-5ceb1df1eec3",
        "colab": {
          "base_uri": "https://localhost:8080/",
          "height": 34
        }
      },
      "cell_type": "code",
      "source": [
        "# Load a file downloader to get data from The Allen Institute\n",
        "from allensdk.core.cell_types_cache import CellTypesCache \n",
        "\n",
        "# Create an instance of that file downloader\n",
        "ctc = CellTypesCache(manifest_file='cell_types/manifest.json') \n",
        "\n",
        "# An example of a dataset id (the last part of the URL in e.g. http://celltypes.brain-map.org/experiment/electrophysiology/643625553)\n",
        "dataset_id = 643625553 \n",
        "\n",
        "# Get information and data for that dataset\n",
        "parameters = ctc.get_ephys_sweeps(dataset_id)\n",
        "recordings = ctc.get_ephys_data(dataset_id)"
      ],
      "execution_count": 0,
      "outputs": [
        {
          "output_type": "stream",
          "text": [
            "2019-01-23 18:09:53,684 allensdk.api.api.retrieve_file_over_http INFO     Downloading URL: http://api.brain-map.org/api/v2/well_known_file_download/742807087\n"
          ],
          "name": "stderr"
        }
      ]
    },
    {
      "metadata": {
        "id": "LVMRbaxA2No6",
        "colab_type": "text"
      },
      "cell_type": "markdown",
      "source": [
        "### Pick one of the many \"sweeps\" (short parts of experiments) performed on this cell"
      ]
    },
    {
      "metadata": {
        "id": "UIMtUofb2No7",
        "colab_type": "code",
        "outputId": "cd2e2934-1ca6-4067-ae45-0ddd88bb88b7",
        "colab": {
          "base_uri": "https://localhost:8080/",
          "height": 119
        }
      },
      "cell_type": "code",
      "source": [
        "my_sweep_number = 37\n",
        "my_sweep = recordings.get_sweep(my_sweep_number) # I randomly picked sweep 37\n",
        "my_sweep"
      ],
      "execution_count": 0,
      "outputs": [
        {
          "output_type": "execute_result",
          "data": {
            "text/plain": [
              "{'index_range': (37500, 400999),\n",
              " 'response': array([-0.07300001, -0.07300001, -0.07300001, ..., -0.07371876,\n",
              "        -0.07371876, -0.0736875 ], dtype=float32),\n",
              " 'sampling_rate': 50000.0,\n",
              " 'stimulus': array([0., 0., 0., ..., 0., 0., 0.], dtype=float32),\n",
              " 'stimulus_unit': 'Amps'}"
            ]
          },
          "metadata": {
            "tags": []
          },
          "execution_count": 16
        }
      ]
    },
    {
      "metadata": {
        "id": "vRUeJx0Q2No_",
        "colab_type": "text"
      },
      "cell_type": "markdown",
      "source": [
        "### Lets get our units right"
      ]
    },
    {
      "metadata": {
        "id": "4u3NWU2H2NpA",
        "colab_type": "code",
        "outputId": "d25be2bb-8b76-4c1e-975c-a698b878976b",
        "colab": {
          "base_uri": "https://localhost:8080/",
          "height": 34
        }
      },
      "cell_type": "code",
      "source": [
        "!pip install quantities"
      ],
      "execution_count": 0,
      "outputs": [
        {
          "output_type": "stream",
          "text": [
            "Requirement already satisfied: quantities in /usr/local/lib/python3.6/dist-packages (0.12.2)\n"
          ],
          "name": "stdout"
        }
      ]
    },
    {
      "metadata": {
        "id": "vKxBJpau2NpD",
        "colab_type": "code",
        "outputId": "e291e109-1a1d-4a29-f22f-ff6812c7be4d",
        "colab": {
          "base_uri": "https://localhost:8080/",
          "height": 34
        }
      },
      "cell_type": "code",
      "source": [
        "# Note on units\n",
        "from quantities import s, ms, V, mV, A, pA\n",
        "1000*ms == 1*s"
      ],
      "execution_count": 0,
      "outputs": [
        {
          "output_type": "execute_result",
          "data": {
            "text/plain": [
              "True"
            ]
          },
          "metadata": {
            "tags": []
          },
          "execution_count": 18
        }
      ]
    },
    {
      "metadata": {
        "id": "Tfnh2bwp2NpG",
        "colab_type": "code",
        "colab": {}
      },
      "cell_type": "code",
      "source": [
        "# What is the time interval between samples (measurements) in each of these sweeps?\n",
        "dt = s/my_sweep['sampling_rate']\n",
        "\n",
        "# How many samples in each of these sweeps?  \n",
        "n_samples = len(my_sweep['stimulus'])\n",
        "\n",
        "# Determine the time (relative to the start of the sweep) for each of these samples.  \n",
        "times = range(n_samples) * dt"
      ],
      "execution_count": 0,
      "outputs": []
    },
    {
      "metadata": {
        "id": "tzLi1_PA2NpJ",
        "colab_type": "text"
      },
      "cell_type": "markdown",
      "source": [
        "### Put it in a dataframe for further use"
      ]
    },
    {
      "metadata": {
        "id": "HbT05YHh2NpL",
        "colab_type": "code",
        "outputId": "d810f716-ba5f-4127-8e4e-613e79e34f17",
        "colab": {
          "base_uri": "https://localhost:8080/",
          "height": 204
        }
      },
      "cell_type": "code",
      "source": [
        "# Create an empty dataframe to hold the data\n",
        "df = pd.DataFrame(index=times, columns=['stimulus', 'response'])\n",
        "df.head()"
      ],
      "execution_count": 0,
      "outputs": [
        {
          "output_type": "execute_result",
          "data": {
            "text/html": [
              "<div>\n",
              "<style scoped>\n",
              "    .dataframe tbody tr th:only-of-type {\n",
              "        vertical-align: middle;\n",
              "    }\n",
              "\n",
              "    .dataframe tbody tr th {\n",
              "        vertical-align: top;\n",
              "    }\n",
              "\n",
              "    .dataframe thead th {\n",
              "        text-align: right;\n",
              "    }\n",
              "</style>\n",
              "<table border=\"1\" class=\"dataframe\">\n",
              "  <thead>\n",
              "    <tr style=\"text-align: right;\">\n",
              "      <th></th>\n",
              "      <th>stimulus</th>\n",
              "      <th>response</th>\n",
              "    </tr>\n",
              "  </thead>\n",
              "  <tbody>\n",
              "    <tr>\n",
              "      <th>0.00000</th>\n",
              "      <td>NaN</td>\n",
              "      <td>NaN</td>\n",
              "    </tr>\n",
              "    <tr>\n",
              "      <th>0.00002</th>\n",
              "      <td>NaN</td>\n",
              "      <td>NaN</td>\n",
              "    </tr>\n",
              "    <tr>\n",
              "      <th>0.00004</th>\n",
              "      <td>NaN</td>\n",
              "      <td>NaN</td>\n",
              "    </tr>\n",
              "    <tr>\n",
              "      <th>0.00006</th>\n",
              "      <td>NaN</td>\n",
              "      <td>NaN</td>\n",
              "    </tr>\n",
              "    <tr>\n",
              "      <th>0.00008</th>\n",
              "      <td>NaN</td>\n",
              "      <td>NaN</td>\n",
              "    </tr>\n",
              "  </tbody>\n",
              "</table>\n",
              "</div>"
            ],
            "text/plain": [
              "        stimulus response\n",
              "0.00000      NaN      NaN\n",
              "0.00002      NaN      NaN\n",
              "0.00004      NaN      NaN\n",
              "0.00006      NaN      NaN\n",
              "0.00008      NaN      NaN"
            ]
          },
          "metadata": {
            "tags": []
          },
          "execution_count": 20
        }
      ]
    },
    {
      "metadata": {
        "id": "M-k8gwK72NpS",
        "colab_type": "code",
        "outputId": "0ea3c190-7ba3-491b-92b6-d927cca6f63f",
        "colab": {
          "base_uri": "https://localhost:8080/",
          "height": 204
        }
      },
      "cell_type": "code",
      "source": [
        "# Fill the dataframe with the data from our chosen sweep.  Get the units right\n",
        "df['stimulus'] = (my_sweep['stimulus'] * A).rescale('pA')\n",
        "df['response'] = (my_sweep['response'] * V).rescale('mV').round(4)\n",
        "df.head()"
      ],
      "execution_count": 0,
      "outputs": [
        {
          "output_type": "execute_result",
          "data": {
            "text/html": [
              "<div>\n",
              "<style scoped>\n",
              "    .dataframe tbody tr th:only-of-type {\n",
              "        vertical-align: middle;\n",
              "    }\n",
              "\n",
              "    .dataframe tbody tr th {\n",
              "        vertical-align: top;\n",
              "    }\n",
              "\n",
              "    .dataframe thead th {\n",
              "        text-align: right;\n",
              "    }\n",
              "</style>\n",
              "<table border=\"1\" class=\"dataframe\">\n",
              "  <thead>\n",
              "    <tr style=\"text-align: right;\">\n",
              "      <th></th>\n",
              "      <th>stimulus</th>\n",
              "      <th>response</th>\n",
              "    </tr>\n",
              "  </thead>\n",
              "  <tbody>\n",
              "    <tr>\n",
              "      <th>0.00000</th>\n",
              "      <td>0.0</td>\n",
              "      <td>-73.0</td>\n",
              "    </tr>\n",
              "    <tr>\n",
              "      <th>0.00002</th>\n",
              "      <td>0.0</td>\n",
              "      <td>-73.0</td>\n",
              "    </tr>\n",
              "    <tr>\n",
              "      <th>0.00004</th>\n",
              "      <td>0.0</td>\n",
              "      <td>-73.0</td>\n",
              "    </tr>\n",
              "    <tr>\n",
              "      <th>0.00006</th>\n",
              "      <td>0.0</td>\n",
              "      <td>-73.0</td>\n",
              "    </tr>\n",
              "    <tr>\n",
              "      <th>0.00008</th>\n",
              "      <td>0.0</td>\n",
              "      <td>-73.0</td>\n",
              "    </tr>\n",
              "  </tbody>\n",
              "</table>\n",
              "</div>"
            ],
            "text/plain": [
              "         stimulus  response\n",
              "0.00000       0.0     -73.0\n",
              "0.00002       0.0     -73.0\n",
              "0.00004       0.0     -73.0\n",
              "0.00006       0.0     -73.0\n",
              "0.00008       0.0     -73.0"
            ]
          },
          "metadata": {
            "tags": []
          },
          "execution_count": 21
        }
      ]
    },
    {
      "metadata": {
        "id": "WLME_IuK2NpV",
        "colab_type": "text"
      },
      "cell_type": "markdown",
      "source": [
        "### Let's look at the data"
      ]
    },
    {
      "metadata": {
        "id": "vxvaG4vj2NpW",
        "colab_type": "code",
        "outputId": "522b4ff1-7c6e-4424-f0b3-2a308ded3bea",
        "colab": {
          "base_uri": "https://localhost:8080/",
          "height": 723
        }
      },
      "cell_type": "code",
      "source": [
        "# Plot the time course of the stimulus (the current injected into the cell)\n",
        "df.plot(y='stimulus')\n",
        "plt.xlabel('Time (s)')\n",
        "plt.ylabel('Input Current (pA)');\n",
        "\n",
        "# Plot the time course of the response \n",
        "# (the change in the membrane potential, including action potentials, that results)\n",
        "df.plot(y='response')\n",
        "plt.xlabel('Time (s)')\n",
        "plt.ylabel('Membrane Potential (mV)');"
      ],
      "execution_count": 0,
      "outputs": [
        {
          "output_type": "display_data",
          "data": {
            "image/png": "[encoded data removed]",
            "text/plain": [
              "<Figure size 576x396 with 1 Axes>"
            ]
          },
          "metadata": {
            "tags": []
          }
        },
        {
          "output_type": "display_data",
          "data": {
            "image/png": "[encoded data removed]",
            "text/plain": [
              "<Figure size 576x396 with 1 Axes>"
            ]
          },
          "metadata": {
            "tags": []
          }
        }
      ]
    },
    {
      "metadata": {
        "id": "6nitQ0Zg2NpZ",
        "colab_type": "text"
      },
      "cell_type": "markdown",
      "source": [
        "### Make the figure wider and zoom in to the interesting part"
      ]
    },
    {
      "metadata": {
        "id": "Ue8wrvhd2Npa",
        "colab_type": "code",
        "outputId": "16dde81e-d3de-4774-bf74-675ac04c951a",
        "colab": {
          "base_uri": "https://localhost:8080/",
          "height": 247
        }
      },
      "cell_type": "code",
      "source": [
        "df.plot(y='response', figsize=(15,3))\n",
        "plt.xlabel('Time (s)')\n",
        "plt.ylabel('Membrane Potential (mV)');\n",
        "plt.xlim(0.5,2.5);"
      ],
      "execution_count": 0,
      "outputs": [
        {
          "output_type": "display_data",
          "data": {
            "image/png": "[encoded data removed]",
            "text/plain": [
              "<Figure size 1080x216 with 1 Axes>"
            ]
          },
          "metadata": {
            "tags": []
          }
        }
      ]
    },
    {
      "metadata": {
        "id": "zjEb9z8d2Npe",
        "colab_type": "text"
      },
      "cell_type": "markdown",
      "source": [
        "### The action potentials are usually the interesting part.  When do they occur?"
      ]
    },
    {
      "metadata": {
        "id": "qYD3m9u82Npe",
        "colab_type": "code",
        "outputId": "9ce2e978-7cd3-4d85-8acb-6de9df883c8d",
        "colab": {
          "base_uri": "https://localhost:8080/",
          "height": 153
        }
      },
      "cell_type": "code",
      "source": [
        "from scipy.signal import find_peaks\n",
        "# Find the peak locations and heights, for peaks that go above 0\n",
        "spike_times, spike_amplitudes = find_peaks(df['response'], height=0)\n",
        "\n",
        "# Information about the extracted spike times\n",
        "print(\"There are %d spikes in this sweep\" % len(spike_times))\n",
        "spike_times * dt"
      ],
      "execution_count": 0,
      "outputs": [
        {
          "output_type": "stream",
          "text": [
            "There are 49 spikes in this sweep\n"
          ],
          "name": "stdout"
        },
        {
          "output_type": "execute_result",
          "data": {
            "text/plain": [
              "array([1.03026, 1.03426, 1.03956, 1.04736, 1.06424, 1.08444, 1.10614,\n",
              "       1.12488, 1.144  , 1.16518, 1.1837 , 1.20368, 1.22192, 1.24414,\n",
              "       1.26428, 1.28304, 1.30318, 1.32404, 1.34618, 1.366  , 1.3886 ,\n",
              "       1.40694, 1.428  , 1.4482 , 1.46882, 1.49074, 1.51298, 1.5337 ,\n",
              "       1.55516, 1.57616, 1.59872, 1.61998, 1.6413 , 1.6605 , 1.68358,\n",
              "       1.7084 , 1.72884, 1.74988, 1.77064, 1.79374, 1.81562, 1.8394 ,\n",
              "       1.86094, 1.88338, 1.90632, 1.92776, 1.95044, 1.9735 , 1.9985 ]) * s"
            ]
          },
          "metadata": {
            "tags": []
          },
          "execution_count": 24
        }
      ]
    },
    {
      "metadata": {
        "id": "pHO65bFj2Npi",
        "colab_type": "text"
      },
      "cell_type": "markdown",
      "source": [
        "### What is the purpose of this sweep?  Are there others like it?"
      ]
    },
    {
      "metadata": {
        "id": "cpBIr3zQ2Npj",
        "colab_type": "code",
        "outputId": "968c7ead-1fbb-4528-c189-655af2bc21ce",
        "colab": {
          "base_uri": "https://localhost:8080/",
          "height": 391
        }
      },
      "cell_type": "code",
      "source": [
        "parameters[my_sweep_number]"
      ],
      "execution_count": 0,
      "outputs": [
        {
          "output_type": "execute_result",
          "data": {
            "text/plain": [
              "{'bridge_balance_mohm': 10.7448110580444,\n",
              " 'id': 643632225,\n",
              " 'leak_pa': -6.432936668396,\n",
              " 'num_spikes': 30,\n",
              " 'peak_deflection': None,\n",
              " 'post_noise_rms_mv': 0.0318580716848373,\n",
              " 'post_vm_mv': -73.4478149414062,\n",
              " 'pre_noise_rms_mv': 0.0392096601426601,\n",
              " 'pre_vm_mv': -73.2483520507812,\n",
              " 'slow_noise_rms_mv': 0.220357805490494,\n",
              " 'slow_vm_mv': -73.2483520507812,\n",
              " 'specimen_id': 643625553,\n",
              " 'stimulus_absolute_amplitude': 129.99999687846,\n",
              " 'stimulus_description': 'C1LSFINEST150112[0]',\n",
              " 'stimulus_duration': 0.99998,\n",
              " 'stimulus_interval': None,\n",
              " 'stimulus_name': 'Long Square',\n",
              " 'stimulus_relative_amplitude': 10.0,\n",
              " 'stimulus_start_time': 1.02,\n",
              " 'stimulus_units': 'pA',\n",
              " 'sweep_number': 45,\n",
              " 'vm_delta_mv': 0.199462890625}"
            ]
          },
          "metadata": {
            "tags": []
          },
          "execution_count": 25
        }
      ]
    },
    {
      "metadata": {
        "id": "0FoFaueA2Npm",
        "colab_type": "code",
        "colab": {}
      },
      "cell_type": "code",
      "source": [
        "my_sweep_type = parameters[my_sweep_number]['stimulus_name']"
      ],
      "execution_count": 0,
      "outputs": []
    },
    {
      "metadata": {
        "id": "XA_f_Mdr2Nps",
        "colab_type": "text"
      },
      "cell_type": "markdown",
      "source": [
        "### Find the others like it"
      ]
    },
    {
      "metadata": {
        "id": "1EoD5pVM2Npt",
        "colab_type": "code",
        "outputId": "21a61237-08cc-40c3-fa83-88ca9d7889db",
        "colab": {
          "base_uri": "https://localhost:8080/",
          "height": 374
        }
      },
      "cell_type": "code",
      "source": [
        "n_sweeps = len(parameters)\n",
        "my_sweep_type_indices = []\n",
        "for i in range(n_sweeps):\n",
        "    if parameters[i]['stimulus_name'] == my_sweep_type:\n",
        "        my_sweep_type_indices.append(i)\n",
        "    \n",
        "my_sweep_type_indices"
      ],
      "execution_count": 0,
      "outputs": [
        {
          "output_type": "execute_result",
          "data": {
            "text/plain": [
              "[18,\n",
              " 19,\n",
              " 20,\n",
              " 21,\n",
              " 22,\n",
              " 23,\n",
              " 24,\n",
              " 25,\n",
              " 26,\n",
              " 27,\n",
              " 28,\n",
              " 29,\n",
              " 30,\n",
              " 31,\n",
              " 32,\n",
              " 33,\n",
              " 34,\n",
              " 35,\n",
              " 36,\n",
              " 37,\n",
              " 38]"
            ]
          },
          "metadata": {
            "tags": []
          },
          "execution_count": 29
        }
      ]
    },
    {
      "metadata": {
        "id": "cw5ltfUU2Np0",
        "colab_type": "text"
      },
      "cell_type": "markdown",
      "source": [
        "### Put all the spikes from all of those sweeps in a big list"
      ]
    },
    {
      "metadata": {
        "id": "Tpdihs6a2Np7",
        "colab_type": "code",
        "outputId": "2c19bd05-d758-4fa9-ca87-1dee5470053a",
        "colab": {
          "base_uri": "https://localhost:8080/",
          "height": 442
        }
      },
      "cell_type": "code",
      "source": [
        "all_spike_times = []\n",
        "for i in my_sweep_type_indices: # Iterate over all the sweep numbers that have \n",
        "                                    # the kind of sweep we want\n",
        "    try: # Try to find that sweep in the list of recordings\n",
        "        #my_sweep = recordings.get_sweep(i) # Get sweep number \"i\"\n",
        "        my_sweep = recordings.get_sweep(i) # Get sweep number \"i\"\n",
        "    except: # Sometimes it isn't there, and we won't ask questions\n",
        "        pass\n",
        "    response = (my_sweep['response'] * V).rescale('mV') # Extract the response from this sweep\n",
        "    spike_times, spike_amplitudes = find_peaks(response, height=0) # Find the spike times\n",
        "    all_spike_times += list(spike_times * dt) # Add these spike times (with proper units)\n",
        "all_spike_times[:25] # First 25 spikes found across the whole dataset"
      ],
      "execution_count": 0,
      "outputs": [
        {
          "output_type": "execute_result",
          "data": {
            "text/plain": [
              "[array(1.03026) * s,\n",
              " array(1.03426) * s,\n",
              " array(1.03956) * s,\n",
              " array(1.04736) * s,\n",
              " array(1.06424) * s,\n",
              " array(1.08444) * s,\n",
              " array(1.10614) * s,\n",
              " array(1.12488) * s,\n",
              " array(1.144) * s,\n",
              " array(1.16518) * s,\n",
              " array(1.1837) * s,\n",
              " array(1.20368) * s,\n",
              " array(1.22192) * s,\n",
              " array(1.24414) * s,\n",
              " array(1.26428) * s,\n",
              " array(1.28304) * s,\n",
              " array(1.30318) * s,\n",
              " array(1.32404) * s,\n",
              " array(1.34618) * s,\n",
              " array(1.366) * s,\n",
              " array(1.3886) * s,\n",
              " array(1.40694) * s,\n",
              " array(1.428) * s,\n",
              " array(1.4482) * s,\n",
              " array(1.46882) * s]"
            ]
          },
          "metadata": {
            "tags": []
          },
          "execution_count": 31
        }
      ]
    },
    {
      "metadata": {
        "id": "cvKpk6WN2NqG",
        "colab_type": "text"
      },
      "cell_type": "markdown",
      "source": [
        "### Make a peri-stimulus spike time histogram (STH) to characterize the response of the cell to that kind of stimulus"
      ]
    },
    {
      "metadata": {
        "id": "TsEgj0Ys2NqG",
        "colab_type": "code",
        "outputId": "479e1b24-efc2-4e98-85f6-689f581054b0",
        "colab": {
          "base_uri": "https://localhost:8080/",
          "height": 506
        }
      },
      "cell_type": "code",
      "source": [
        "plt.figure(figsize=(12,8))\n",
        "plt.hist(all_spike_times, bins=25);\n",
        "plt.xlabel('Time (s)')\n",
        "plt.ylabel('# of spikes observed')\n",
        "plt.xlim(0.5,2.5);"
      ],
      "execution_count": 0,
      "outputs": [
        {
          "output_type": "display_data",
          "data": {
            "image/png": "[encoded data removed]",
            "text/plain": [
              "<Figure size 864x576 with 1 Axes>"
            ]
          },
          "metadata": {
            "tags": []
          }
        }
      ]
    },
    {
      "metadata": {
        "id": "NnwCyxa32NqJ",
        "colab_type": "text"
      },
      "cell_type": "markdown",
      "source": [
        "### This behavior is one of many types"
      ]
    },
    {
      "metadata": {
        "id": "yXTDGHdO2NqJ",
        "colab_type": "text"
      },
      "cell_type": "markdown",
      "source": [
        "![izhikevich zoo](https://www.izhikevich.org/publications/figure1.gif)"
      ]
    },
    {
      "metadata": {
        "id": "-Fd9TWMH2NqK",
        "colab_type": "text"
      },
      "cell_type": "markdown",
      "source": [
        "### Simulation of the same phenomenon (for math people, or people who prefer fake things to real things)\n",
        "#### Optional, skip if this is not you"
      ]
    },
    {
      "metadata": {
        "id": "vFwy7TsL2NqL",
        "colab_type": "code",
        "outputId": "fe30fd9f-9724-41db-9a1f-5a8dce6b2bb7",
        "colab": {
          "base_uri": "https://localhost:8080/",
          "height": 306
        }
      },
      "cell_type": "code",
      "source": [
        "# Install the Brian2 simulator (because Brian1 just won't cut it)\n",
        "!pip install brian2"
      ],
      "execution_count": 0,
      "outputs": [
        {
          "output_type": "stream",
          "text": [
            "Collecting brian2\n",
            "\u001b[?25l  Downloading https://files.pythonhosted.org/packages/c1/11/a67236633cf3cd884235dfc24422dc6bf35280888dbf724c21df7799d206/Brian2-2.2.1.tar.gz (1.6MB)\n",
            "\u001b[K    100% |████████████████████████████████| 1.6MB 6.8MB/s \n",
            "\u001b[?25hRequirement already satisfied: numpy>=1.10 in /usr/local/lib/python3.6/dist-packages (from brian2) (1.14.6)\n",
            "Requirement already satisfied: cython>=0.29 in /usr/local/lib/python3.6/dist-packages (from brian2) (0.29.2)\n",
            "Requirement already satisfied: sympy!=1.1.0,>=0.7.6 in /usr/local/lib/python3.6/dist-packages (from brian2) (1.1.1)\n",
            "Requirement already satisfied: pyparsing in /usr/local/lib/python3.6/dist-packages (from brian2) (2.3.1)\n",
            "Requirement already satisfied: jinja2>=2.7 in /usr/local/lib/python3.6/dist-packages (from brian2) (2.10)\n",
            "Requirement already satisfied: setuptools>=21 in /usr/local/lib/python3.6/dist-packages (from brian2) (40.6.3)\n",
            "Requirement already satisfied: mpmath>=0.19 in /usr/local/lib/python3.6/dist-packages (from sympy!=1.1.0,>=0.7.6->brian2) (1.1.0)\n",
            "Requirement already satisfied: MarkupSafe>=0.23 in /usr/local/lib/python3.6/dist-packages (from jinja2>=2.7->brian2) (1.1.0)\n",
            "Building wheels for collected packages: brian2\n",
            "  Running setup.py bdist_wheel for brian2 ... \u001b[?25l-\b \b\\\b \b|\b \b/\b \b-\b \b\\\b \b|\b \b/\b \b-\b \b\\\b \bdone\n",
            "\u001b[?25h  Stored in directory: /root/.cache/pip/wheels/2f/f8/b1/a51ad04c803031d9f580f3b390204a0ec4fb15881edd06203a\n",
            "Successfully built brian2\n",
            "Installing collected packages: brian2\n",
            "Successfully installed brian2-2.2.1\n"
          ],
          "name": "stdout"
        }
      ]
    },
    {
      "metadata": {
        "id": "k2OHY-F12NqO",
        "colab_type": "code",
        "colab": {}
      },
      "cell_type": "code",
      "source": [
        "# Importing functions and units from the Brian2 library\n",
        "from brian2 import Equations, start_scope, run, NeuronGroup, Synapses, StateMonitor, SpikeMonitor\n",
        "from brian2 import ms, second # units of time\n",
        "from brian2 import ufarad # units of capacitance\n",
        "from brian2 import siemens, msiemens, nS # units of conductance\n",
        "from brian2 import mV # units of voltage \n",
        "from brian2 import umetre, cm # units of length"
      ],
      "execution_count": 0,
      "outputs": []
    },
    {
      "metadata": {
        "id": "G43iUSQj2NqR",
        "colab_type": "code",
        "outputId": "57622ca6-548d-42d4-a444-b49f754f9965",
        "colab": {
          "base_uri": "https://localhost:8080/",
          "height": 51
        }
      },
      "cell_type": "code",
      "source": [
        "start_scope() # Start a new simulation\n",
        "\n",
        "# Parameters to describe the size and electrical properties of the cell\n",
        "area = 20000*umetre**2\n",
        "Cm = (1*ufarad*cm**-2) * area\n",
        "gl = (5e-5*siemens*cm**-2) * area\n",
        "El = -60*mV\n",
        "EK = -90*mV\n",
        "ENa = 50*mV\n",
        "g_na = (100*msiemens*cm**-2) * area\n",
        "g_kd = (30*msiemens*cm**-2) * area\n",
        "VT = -63*mV\n",
        "\n",
        "# Time constants to describe how synaptic currents decay\n",
        "taue = 5*ms\n",
        "taui = 10*ms\n",
        "\n",
        "# Reversal potentials (the electromotive driving force for each type of ion, basically)\n",
        "Ee = 0*mV\n",
        "Ei = -80*mV\n",
        "we = 6*nS  # excitatory synaptic weight\n",
        "wi = 67*nS  # inhibitory synaptic weight\n",
        "\n",
        "# The model (as a set of ODEs)\n",
        "eqs = Equations('''\n",
        "dv/dt = (gl*(El-v)+ge*(Ee-v)+gi*(Ei-v)-\n",
        "         g_na*(m*m*m)*h*(v-ENa)-\n",
        "         g_kd*(n*n*n*n)*(v-EK))/Cm : volt\n",
        "dm/dt = alpha_m*(1-m)-beta_m*m : 1\n",
        "dn/dt = alpha_n*(1-n)-beta_n*n : 1\n",
        "dh/dt = alpha_h*(1-h)-beta_h*h : 1\n",
        "dge/dt = -ge*(1./taue) : siemens\n",
        "dgi/dt = -gi*(1./taui) : siemens\n",
        "alpha_m = 0.32*(mV**-1)*(13*mV-v+VT)/\n",
        "         (exp((13*mV-v+VT)/(4*mV))-1.)/ms : Hz\n",
        "beta_m = 0.28*(mV**-1)*(v-VT-40*mV)/\n",
        "        (exp((v-VT-40*mV)/(5*mV))-1)/ms : Hz\n",
        "alpha_h = 0.128*exp((17*mV-v+VT)/(18*mV))/ms : Hz\n",
        "beta_h = 4./(1+exp((40*mV-v+VT)/(5*mV)))/ms : Hz\n",
        "alpha_n = 0.032*(mV**-1)*(15*mV-v+VT)/\n",
        "         (exp((15*mV-v+VT)/(5*mV))-1.)/ms : Hz\n",
        "beta_n = .5*exp((10*mV-v+VT)/(40*mV))/ms : Hz\n",
        "''')\n",
        "\n",
        "# The network, describing how each of these (otherwise identical) neurons is connected to each other\n",
        "n_neurons = 40\n",
        "P = NeuronGroup(n_neurons, model=eqs, threshold='v>-20*mV', refractory=3*ms,\n",
        "                method='exponential_euler')\n",
        "n_excitatory = int(n_neurons * 0.8)\n",
        "Pe = P[:n_excitatory]\n",
        "Pi = P[n_excitatory:]\n",
        "Ce = Synapses(Pe, P, on_pre='ge+=we')\n",
        "Ci = Synapses(Pi, P, on_pre='gi+=wi')\n",
        "Ce.connect(p=0.02)\n",
        "Ci.connect(p=0.02)\n",
        "\n",
        "# Initial conditions for some of the state variables, including random numbers\n",
        "P.v = 'El + (randn() * 5 - 5)*mV'\n",
        "P.ge = '(randn() * 1.5 + 4) * 10.*nS'\n",
        "P.gi = '(randn() * 12 + 20) * 10.*nS'\n",
        "\n",
        "# Run this simulation and record both the membrane potential and the action potential (spike) times of the neurons \n",
        "traces = StateMonitor(P, 'v', record=range(n_neurons))\n",
        "spikes = SpikeMonitor(P)\n",
        "run(1 * second, report='text')"
      ],
      "execution_count": 0,
      "outputs": [
        {
          "output_type": "stream",
          "text": [
            "Starting simulation at t=0. s for a duration of 1. s\n",
            "1.0 (100%) simulated in < 1s\n"
          ],
          "name": "stdout"
        }
      ]
    },
    {
      "metadata": {
        "id": "6HFCAbVU2NqT",
        "colab_type": "code",
        "outputId": "55239c4f-9835-4148-dcf7-9794a6d14ef0",
        "colab": {
          "base_uri": "https://localhost:8080/",
          "height": 360
        }
      },
      "cell_type": "code",
      "source": [
        "# Plot the output for two randomly chosen neurons\n",
        "# The results are random in each simulation (see above), so if you don't like the ones here, \n",
        "# pick different neuron indices (instead of 11 and 31), or run the simulation again.  \n",
        "plt.figure(figsize=(10,5))\n",
        "cell_indices = [11, 31]\n",
        "for i in cell_indices:\n",
        "    plt.plot(traces.t/ms, traces[i].v/mV, label=\"Cell %d\" % i)\n",
        "plt.xlabel('time (ms)')\n",
        "plt.ylabel('Membrane Potential (mV)');\n",
        "plt.legend()"
      ],
      "execution_count": 0,
      "outputs": [
        {
          "output_type": "execute_result",
          "data": {
            "text/plain": [
              "<matplotlib.legend.Legend at 0x7f0c8c914160>"
            ]
          },
          "metadata": {
            "tags": []
          },
          "execution_count": 36
        },
        {
          "output_type": "display_data",
          "data": {
            "image/png": "[encoded data removed]",
            "text/plain": [
              "<Figure size 720x360 with 1 Axes>"
            ]
          },
          "metadata": {
            "tags": []
          }
        }
      ]
    },
    {
      "metadata": {
        "id": "RsAOw4j62NqW",
        "colab_type": "code",
        "outputId": "4a7ffc87-a54f-45e6-e3f8-7378929780e6",
        "colab": {
          "base_uri": "https://localhost:8080/",
          "height": 51
        }
      },
      "cell_type": "code",
      "source": [
        "# The spike times (if any) for the first of those cells.  \n",
        "spikes.spike_trains()[cell_indices[0]]/ms"
      ],
      "execution_count": 0,
      "outputs": [
        {
          "output_type": "execute_result",
          "data": {
            "text/plain": [
              "array([106. , 174.1, 230.6, 269.3, 332.6, 403.4, 468.3, 518.8, 561.7,\n",
              "       630.5, 700.2, 759.4, 800.2, 856.8, 927.8, 995.5])"
            ]
          },
          "metadata": {
            "tags": []
          },
          "execution_count": 37
        }
      ]
    },
    {
      "metadata": {
        "id": "BLZfo_TvD64C",
        "colab_type": "code",
        "colab": {}
      },
      "cell_type": "code",
      "source": [
        ""
      ],
      "execution_count": 0,
      "outputs": []
    }
  ]
}