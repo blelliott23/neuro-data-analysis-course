{
 "cells": [
  {
   "cell_type": "code",
   "execution_count": 1,
   "metadata": {},
   "outputs": [],
   "source": [
    "import pandas as pd"
   ]
  },
  {
   "cell_type": "code",
   "execution_count": 2,
   "metadata": {},
   "outputs": [],
   "source": [
    "# Here I set the delimiter to a space because the underlying data file (dice.txt) has a space between values.  \n",
    "# If that had been a comma, I would have set the delimiter to a comma.  \n",
    "# I set the index_col to 'Dice' so I can use the dice number as my index.  \n",
    "df = pd.read_csv('data/dice.txt',delimiter=' ',index_col='Dice')"
   ]
  },
  {
   "cell_type": "code",
   "execution_count": 3,
   "metadata": {},
   "outputs": [
    {
     "name": "stdout",
     "output_type": "stream",
     "text": [
      "The sum is 24 \n"
     ]
    }
   ],
   "source": [
    "# Finally, I print the sum of the 'Value' column as an integer\n",
    "print(\"The sum is %d \" % df['Value'].sum())"
   ]
  }
 ],
 "metadata": {
  "kernelspec": {
   "display_name": "Python 3.6",
   "language": "python",
   "name": "python36"
  },
  "language_info": {
   "codemirror_mode": {
    "name": "ipython",
    "version": 3
   },
   "file_extension": ".py",
   "mimetype": "text/x-python",
   "name": "python",
   "nbconvert_exporter": "python",
   "pygments_lexer": "ipython3",
   "version": "3.6.3"
  }
 },
 "nbformat": 4,
 "nbformat_minor": 2
}
