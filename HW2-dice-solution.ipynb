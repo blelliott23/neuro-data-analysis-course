{
 "cells": [
  {
   "cell_type": "code",
   "execution_count": 1,
   "metadata": {
    "collapsed": true
   },
   "outputs": [],
   "source": [
    "import pandas as pd"
   ]
  },
  {
   "cell_type": "code",
   "execution_count": 2,
   "metadata": {
    "collapsed": true
   },
   "outputs": [],
   "source": [
    "# Here I set the delimiter to a space because the underlying data file (dice.txt) has a space between values.  \n",
    "# If that had been a comma, I would have set the delimiter to a comma.  \n",
    "# I set the index_col to 'Dice' so I can use the dice number as my index.  \n",
    "df = pd.read_csv('data/dice.txt',delimiter=' ',index_col='Dice')"
   ]
  },
  {
   "cell_type": "code",
   "execution_count": 3,
   "metadata": {},
   "outputs": [
    {
     "name": "stdout",
     "output_type": "stream",
     "text": [
      "The sum is 24 \n"
     ]
    }
   ],
   "source": [
    "# Finally, I print the sum of the 'Value' column as an integer\n",
    "print(\"The sum is %d \" % df['Value'].sum())"
   ]
  },
  {
   "cell_type": "code",
   "execution_count": 5,
   "metadata": {},
   "outputs": [
    {
     "data": {
      "text/html": [
       "<div>\n",
       "<style>\n",
       "    .dataframe thead tr:only-child th {\n",
       "        text-align: right;\n",
       "    }\n",
       "\n",
       "    .dataframe thead th {\n",
       "        text-align: left;\n",
       "    }\n",
       "\n",
       "    .dataframe tbody tr th {\n",
       "        vertical-align: top;\n",
       "    }\n",
       "</style>\n",
       "<table border=\"1\" class=\"dataframe\">\n",
       "  <thead>\n",
       "    <tr style=\"text-align: right;\">\n",
       "      <th></th>\n",
       "      <th>Dice number</th>\n",
       "      <th>value</th>\n",
       "    </tr>\n",
       "  </thead>\n",
       "  <tbody>\n",
       "    <tr>\n",
       "      <th>1</th>\n",
       "      <td>0</td>\n",
       "      <td>1</td>\n",
       "    </tr>\n",
       "    <tr>\n",
       "      <th>2</th>\n",
       "      <td>1</td>\n",
       "      <td>5</td>\n",
       "    </tr>\n",
       "    <tr>\n",
       "      <th>3</th>\n",
       "      <td>2</td>\n",
       "      <td>7</td>\n",
       "    </tr>\n",
       "    <tr>\n",
       "      <th>4</th>\n",
       "      <td>3</td>\n",
       "      <td>4</td>\n",
       "    </tr>\n",
       "  </tbody>\n",
       "</table>\n",
       "</div>"
      ],
      "text/plain": [
       "   Dice number  value\n",
       "1            0      1\n",
       "2            1      5\n",
       "3            2      7\n",
       "4            3      4"
      ]
     },
     "execution_count": 5,
     "metadata": {},
     "output_type": "execute_result"
    }
   ],
   "source": [
    "df = pd.DataFrame([[0,1],[1,5],[2,7],[3,4]],columns=['Dice number','value'],index=[1,2,3,4])\n",
    "df"
   ]
  },
  {
   "cell_type": "code",
   "execution_count": 1,
   "metadata": {},
   "outputs": [
    {
     "name": "stdout",
     "output_type": "stream",
     "text": [
      "On branch master\n",
      "Your branch is up-to-date with 'origin/master'.\n",
      "Changes not staged for commit:\n",
      "  (use \"git add <file>...\" to update what will be committed)\n",
      "  (use \"git checkout -- <file>...\" to discard changes in working directory)\n",
      "\n",
      "\t\u001b[31mmodified:   slicing.ipynb\u001b[m\n",
      "\t\u001b[31mmodified:   visualization1.ipynb\u001b[m\n",
      "\t\u001b[31mmodified:   visualization2.ipynb\u001b[m\n",
      "\n",
      "Untracked files:\n",
      "  (use \"git add <file>...\" to include in what will be committed)\n",
      "\n",
      "\t\u001b[31mcomputer-chess-ratings.csv\u001b[m\n",
      "\t\u001b[31mdata/computer-chess-ratings.csv\u001b[m\n",
      "\t\u001b[31mdelete.ipynb\u001b[m\n",
      "\t\u001b[31mdelete.txt\u001b[m\n",
      "\t\u001b[31mgithub-demo.ipynb\u001b[m\n",
      "\t\u001b[31mimages/bias-variance.png\u001b[m\n",
      "\t\u001b[31mimages/epsp-ap.jpg\u001b[m\n",
      "\t\u001b[31mimages/epsp-histogram-data.png\u001b[m\n",
      "\t\u001b[31mimages/student-drawings/\u001b[m\n",
      "\t\u001b[31mimages/synaptic_transmission_med.jpg\u001b[m\n",
      "\t\u001b[31mimages/three-challenges.png\u001b[m\n",
      "\t\u001b[31mplotting-uncertainty.ipynb\u001b[m\n",
      "\t\u001b[31mprobability-distributions.ipynb\u001b[m\n",
      "\t\u001b[31mprobability.ipynb\u001b[m\n",
      "\t\u001b[31msimulate-null-hypothesis.ipynb\u001b[m\n",
      "\t\u001b[31mstudent-drawn-figures.ipynb\u001b[m\n",
      "\t\u001b[31mstudent-observation-tables.ipynb\u001b[m\n",
      "\t\u001b[31mtest\u001b[m\n",
      "\t\u001b[31muncertainty.ipynb\u001b[m\n",
      "\n",
      "no changes added to commit (use \"git add\" and/or \"git commit -a\")\n"
     ]
    }
   ],
   "source": [
    "!git status"
   ]
  },
  {
   "cell_type": "code",
   "execution_count": null,
   "metadata": {},
   "outputs": [],
   "source": []
  }
 ],
 "metadata": {
  "kernelspec": {
   "display_name": "Python 3.6",
   "language": "python",
   "name": "python36"
  },
  "language_info": {
   "codemirror_mode": {
    "name": "ipython",
    "version": 3
   },
   "file_extension": ".py",
   "mimetype": "text/x-python",
   "name": "python",
   "nbconvert_exporter": "python",
   "pygments_lexer": "ipython3",
   "version": "3.6.3"
  }
 },
 "nbformat": 4,
 "nbformat_minor": 2
}
