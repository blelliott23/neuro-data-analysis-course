{
 "cells": [
  {
   "cell_type": "markdown",
   "metadata": {},
   "source": [
    "# Analysis of biospecimens from the Parkinson's Progression Markers Initiative (PPMI)\n"
   ]
  },
  {
   "cell_type": "markdown",
   "metadata": {},
   "source": [
    "## http://www.ppmi-info.org/"
   ]
  },
  {
   "cell_type": "code",
   "execution_count": 2,
   "metadata": {},
   "outputs": [
    {
     "data": {
      "text/html": [
       "<iframe width=\"854\" height=\"480\" src=\"https://www.youtube.com/embed/TkyLnWm1iCs?start=8\" frameborder=\"0\" allow=\"autoplay; encrypted-media\" allowfullscreen></iframe>"
      ],
      "text/plain": [
       "<IPython.core.display.HTML object>"
      ]
     },
     "execution_count": 2,
     "metadata": {},
     "output_type": "execute_result"
    }
   ],
   "source": [
    "from IPython.display import HTML\n",
    "HTML(\"\"\"<iframe width=\"854\" height=\"480\" src=\"https://www.youtube.com/embed/TkyLnWm1iCs?start=8\" frameborder=\"0\" allow=\"autoplay; encrypted-media\" allowfullscreen></iframe>\"\"\")"
   ]
  },
  {
   "cell_type": "code",
   "execution_count": 3,
   "metadata": {
    "collapsed": true
   },
   "outputs": [],
   "source": [
    "# As always\n",
    "import pandas as pd"
   ]
  },
  {
   "cell_type": "code",
   "execution_count": 4,
   "metadata": {},
   "outputs": [
    {
     "data": {
      "text/html": [
       "<div>\n",
       "<table border=\"1\" class=\"dataframe\">\n",
       "  <thead>\n",
       "    <tr style=\"text-align: right;\">\n",
       "      <th></th>\n",
       "      <th>PATNO</th>\n",
       "      <th>GENDER</th>\n",
       "      <th>DIAGNOSIS</th>\n",
       "      <th>CLINICAL_EVENT</th>\n",
       "      <th>TYPE</th>\n",
       "      <th>TESTNAME</th>\n",
       "      <th>TESTVALUE</th>\n",
       "      <th>UNITS</th>\n",
       "      <th>RUNDATE</th>\n",
       "      <th>PROJECTID</th>\n",
       "      <th>PI_NAME</th>\n",
       "      <th>PI_INSTITUTION</th>\n",
       "      <th>update_stamp</th>\n",
       "    </tr>\n",
       "  </thead>\n",
       "  <tbody>\n",
       "    <tr>\n",
       "      <th>0</th>\n",
       "      <td>10874</td>\n",
       "      <td>Female</td>\n",
       "      <td>Prodromal</td>\n",
       "      <td>V02</td>\n",
       "      <td>Cerebrospinal Fluid</td>\n",
       "      <td>CSF Alpha-synuclein</td>\n",
       "      <td>2459.3</td>\n",
       "      <td>pg/ml</td>\n",
       "      <td>2016-11-09</td>\n",
       "      <td>124</td>\n",
       "      <td>Peggy Taylor</td>\n",
       "      <td>Biolegend</td>\n",
       "      <td>2017-04-03 08:50:27.0</td>\n",
       "    </tr>\n",
       "    <tr>\n",
       "      <th>1</th>\n",
       "      <td>10874</td>\n",
       "      <td>Female</td>\n",
       "      <td>Prodromal</td>\n",
       "      <td>BL</td>\n",
       "      <td>Cerebrospinal Fluid</td>\n",
       "      <td>CSF Alpha-synuclein</td>\n",
       "      <td>1778.3</td>\n",
       "      <td>pg/ml</td>\n",
       "      <td>2016-11-09</td>\n",
       "      <td>124</td>\n",
       "      <td>Peggy Taylor</td>\n",
       "      <td>Biolegend</td>\n",
       "      <td>2017-04-03 08:50:27.0</td>\n",
       "    </tr>\n",
       "    <tr>\n",
       "      <th>2</th>\n",
       "      <td>10874</td>\n",
       "      <td>Female</td>\n",
       "      <td>Prodromal</td>\n",
       "      <td>V04</td>\n",
       "      <td>Cerebrospinal Fluid</td>\n",
       "      <td>CSF Alpha-synuclein</td>\n",
       "      <td>1729.8</td>\n",
       "      <td>pg/ml</td>\n",
       "      <td>2016-11-09</td>\n",
       "      <td>124</td>\n",
       "      <td>Peggy Taylor</td>\n",
       "      <td>Biolegend</td>\n",
       "      <td>2017-04-03 08:50:27.0</td>\n",
       "    </tr>\n",
       "    <tr>\n",
       "      <th>3</th>\n",
       "      <td>10874</td>\n",
       "      <td>Female</td>\n",
       "      <td>Prodromal</td>\n",
       "      <td>V02</td>\n",
       "      <td>Cerebrospinal Fluid</td>\n",
       "      <td>CSF Hemoglobin</td>\n",
       "      <td>below</td>\n",
       "      <td>ng/ml</td>\n",
       "      <td>2016-11-08</td>\n",
       "      <td>134</td>\n",
       "      <td>Peggy Taylor</td>\n",
       "      <td>Biolegend</td>\n",
       "      <td>2017-04-03 08:50:41.0</td>\n",
       "    </tr>\n",
       "    <tr>\n",
       "      <th>4</th>\n",
       "      <td>10874</td>\n",
       "      <td>Female</td>\n",
       "      <td>Prodromal</td>\n",
       "      <td>BL</td>\n",
       "      <td>Cerebrospinal Fluid</td>\n",
       "      <td>CSF Hemoglobin</td>\n",
       "      <td>148.0</td>\n",
       "      <td>ng/ml</td>\n",
       "      <td>2016-11-08</td>\n",
       "      <td>134</td>\n",
       "      <td>Peggy Taylor</td>\n",
       "      <td>Biolegend</td>\n",
       "      <td>2017-04-03 08:50:41.0</td>\n",
       "    </tr>\n",
       "  </tbody>\n",
       "</table>\n",
       "</div>"
      ],
      "text/plain": [
       "   PATNO  GENDER  DIAGNOSIS CLINICAL_EVENT                 TYPE  \\\n",
       "0  10874  Female  Prodromal            V02  Cerebrospinal Fluid   \n",
       "1  10874  Female  Prodromal             BL  Cerebrospinal Fluid   \n",
       "2  10874  Female  Prodromal            V04  Cerebrospinal Fluid   \n",
       "3  10874  Female  Prodromal            V02  Cerebrospinal Fluid   \n",
       "4  10874  Female  Prodromal             BL  Cerebrospinal Fluid   \n",
       "\n",
       "              TESTNAME TESTVALUE  UNITS     RUNDATE  PROJECTID       PI_NAME  \\\n",
       "0  CSF Alpha-synuclein    2459.3  pg/ml  2016-11-09        124  Peggy Taylor   \n",
       "1  CSF Alpha-synuclein    1778.3  pg/ml  2016-11-09        124  Peggy Taylor   \n",
       "2  CSF Alpha-synuclein    1729.8  pg/ml  2016-11-09        124  Peggy Taylor   \n",
       "3       CSF Hemoglobin     below  ng/ml  2016-11-08        134  Peggy Taylor   \n",
       "4       CSF Hemoglobin     148.0  ng/ml  2016-11-08        134  Peggy Taylor   \n",
       "\n",
       "  PI_INSTITUTION           update_stamp  \n",
       "0      Biolegend  2017-04-03 08:50:27.0  \n",
       "1      Biolegend  2017-04-03 08:50:27.0  \n",
       "2      Biolegend  2017-04-03 08:50:27.0  \n",
       "3      Biolegend  2017-04-03 08:50:41.0  \n",
       "4      Biolegend  2017-04-03 08:50:41.0  "
      ]
     },
     "execution_count": 4,
     "metadata": {},
     "output_type": "execute_result"
    }
   ],
   "source": [
    "# Load the data\n",
    "df = pd.read_csv('data/Biospecimen_Analysis_Results.csv')\n",
    "df.head()"
   ]
  },
  {
   "cell_type": "markdown",
   "metadata": {},
   "source": [
    "### Let's rename a few things to make it easier to read"
   ]
  },
  {
   "cell_type": "code",
   "execution_count": 5,
   "metadata": {},
   "outputs": [
    {
     "data": {
      "text/html": [
       "<div>\n",
       "<table border=\"1\" class=\"dataframe\">\n",
       "  <thead>\n",
       "    <tr style=\"text-align: right;\">\n",
       "      <th></th>\n",
       "      <th>PATIENT</th>\n",
       "      <th>GENDER</th>\n",
       "      <th>DIAGNOSIS</th>\n",
       "      <th>CLINICAL_EVENT</th>\n",
       "      <th>TYPE</th>\n",
       "      <th>TESTNAME</th>\n",
       "      <th>TESTVALUE</th>\n",
       "      <th>UNITS</th>\n",
       "      <th>RUNDATE</th>\n",
       "      <th>PROJECTID</th>\n",
       "      <th>PI_NAME</th>\n",
       "      <th>PI_INSTITUTION</th>\n",
       "      <th>update_stamp</th>\n",
       "    </tr>\n",
       "  </thead>\n",
       "  <tbody>\n",
       "    <tr>\n",
       "      <th>0</th>\n",
       "      <td>10874</td>\n",
       "      <td>Female</td>\n",
       "      <td>Prodromal</td>\n",
       "      <td>V02</td>\n",
       "      <td>Cerebrospinal Fluid</td>\n",
       "      <td>CSF Alpha-synuclein</td>\n",
       "      <td>2459.3</td>\n",
       "      <td>pg/ml</td>\n",
       "      <td>2016-11-09</td>\n",
       "      <td>124</td>\n",
       "      <td>Peggy Taylor</td>\n",
       "      <td>Biolegend</td>\n",
       "      <td>2017-04-03 08:50:27.0</td>\n",
       "    </tr>\n",
       "    <tr>\n",
       "      <th>1</th>\n",
       "      <td>10874</td>\n",
       "      <td>Female</td>\n",
       "      <td>Prodromal</td>\n",
       "      <td>Baseline</td>\n",
       "      <td>Cerebrospinal Fluid</td>\n",
       "      <td>CSF Alpha-synuclein</td>\n",
       "      <td>1778.3</td>\n",
       "      <td>pg/ml</td>\n",
       "      <td>2016-11-09</td>\n",
       "      <td>124</td>\n",
       "      <td>Peggy Taylor</td>\n",
       "      <td>Biolegend</td>\n",
       "      <td>2017-04-03 08:50:27.0</td>\n",
       "    </tr>\n",
       "    <tr>\n",
       "      <th>2</th>\n",
       "      <td>10874</td>\n",
       "      <td>Female</td>\n",
       "      <td>Prodromal</td>\n",
       "      <td>V04</td>\n",
       "      <td>Cerebrospinal Fluid</td>\n",
       "      <td>CSF Alpha-synuclein</td>\n",
       "      <td>1729.8</td>\n",
       "      <td>pg/ml</td>\n",
       "      <td>2016-11-09</td>\n",
       "      <td>124</td>\n",
       "      <td>Peggy Taylor</td>\n",
       "      <td>Biolegend</td>\n",
       "      <td>2017-04-03 08:50:27.0</td>\n",
       "    </tr>\n",
       "    <tr>\n",
       "      <th>3</th>\n",
       "      <td>10874</td>\n",
       "      <td>Female</td>\n",
       "      <td>Prodromal</td>\n",
       "      <td>V02</td>\n",
       "      <td>Cerebrospinal Fluid</td>\n",
       "      <td>CSF Hemoglobin</td>\n",
       "      <td>below</td>\n",
       "      <td>ng/ml</td>\n",
       "      <td>2016-11-08</td>\n",
       "      <td>134</td>\n",
       "      <td>Peggy Taylor</td>\n",
       "      <td>Biolegend</td>\n",
       "      <td>2017-04-03 08:50:41.0</td>\n",
       "    </tr>\n",
       "    <tr>\n",
       "      <th>4</th>\n",
       "      <td>10874</td>\n",
       "      <td>Female</td>\n",
       "      <td>Prodromal</td>\n",
       "      <td>Baseline</td>\n",
       "      <td>Cerebrospinal Fluid</td>\n",
       "      <td>CSF Hemoglobin</td>\n",
       "      <td>148.0</td>\n",
       "      <td>ng/ml</td>\n",
       "      <td>2016-11-08</td>\n",
       "      <td>134</td>\n",
       "      <td>Peggy Taylor</td>\n",
       "      <td>Biolegend</td>\n",
       "      <td>2017-04-03 08:50:41.0</td>\n",
       "    </tr>\n",
       "  </tbody>\n",
       "</table>\n",
       "</div>"
      ],
      "text/plain": [
       "   PATIENT  GENDER  DIAGNOSIS CLINICAL_EVENT                 TYPE  \\\n",
       "0    10874  Female  Prodromal            V02  Cerebrospinal Fluid   \n",
       "1    10874  Female  Prodromal       Baseline  Cerebrospinal Fluid   \n",
       "2    10874  Female  Prodromal            V04  Cerebrospinal Fluid   \n",
       "3    10874  Female  Prodromal            V02  Cerebrospinal Fluid   \n",
       "4    10874  Female  Prodromal       Baseline  Cerebrospinal Fluid   \n",
       "\n",
       "              TESTNAME TESTVALUE  UNITS     RUNDATE  PROJECTID       PI_NAME  \\\n",
       "0  CSF Alpha-synuclein    2459.3  pg/ml  2016-11-09        124  Peggy Taylor   \n",
       "1  CSF Alpha-synuclein    1778.3  pg/ml  2016-11-09        124  Peggy Taylor   \n",
       "2  CSF Alpha-synuclein    1729.8  pg/ml  2016-11-09        124  Peggy Taylor   \n",
       "3       CSF Hemoglobin     below  ng/ml  2016-11-08        134  Peggy Taylor   \n",
       "4       CSF Hemoglobin     148.0  ng/ml  2016-11-08        134  Peggy Taylor   \n",
       "\n",
       "  PI_INSTITUTION           update_stamp  \n",
       "0      Biolegend  2017-04-03 08:50:27.0  \n",
       "1      Biolegend  2017-04-03 08:50:27.0  \n",
       "2      Biolegend  2017-04-03 08:50:27.0  \n",
       "3      Biolegend  2017-04-03 08:50:41.0  \n",
       "4      Biolegend  2017-04-03 08:50:41.0  "
      ]
     },
     "execution_count": 5,
     "metadata": {},
     "output_type": "execute_result"
    }
   ],
   "source": [
    "df = df.rename(columns={'PATNO':'PATIENT'}).replace('BL','Baseline')\n",
    "df.head()"
   ]
  },
  {
   "cell_type": "markdown",
   "metadata": {},
   "source": [
    "### Optional: sort for easy acess to particular patient-test events"
   ]
  },
  {
   "cell_type": "code",
   "execution_count": 6,
   "metadata": {},
   "outputs": [
    {
     "data": {
      "text/html": [
       "<div>\n",
       "<table border=\"1\" class=\"dataframe\">\n",
       "  <thead>\n",
       "    <tr style=\"text-align: right;\">\n",
       "      <th></th>\n",
       "      <th></th>\n",
       "      <th></th>\n",
       "      <th>GENDER</th>\n",
       "      <th>DIAGNOSIS</th>\n",
       "      <th>TYPE</th>\n",
       "      <th>TESTVALUE</th>\n",
       "      <th>UNITS</th>\n",
       "      <th>RUNDATE</th>\n",
       "      <th>PROJECTID</th>\n",
       "      <th>PI_NAME</th>\n",
       "      <th>PI_INSTITUTION</th>\n",
       "      <th>update_stamp</th>\n",
       "    </tr>\n",
       "    <tr>\n",
       "      <th>PATIENT</th>\n",
       "      <th>CLINICAL_EVENT</th>\n",
       "      <th>TESTNAME</th>\n",
       "      <th></th>\n",
       "      <th></th>\n",
       "      <th></th>\n",
       "      <th></th>\n",
       "      <th></th>\n",
       "      <th></th>\n",
       "      <th></th>\n",
       "      <th></th>\n",
       "      <th></th>\n",
       "      <th></th>\n",
       "    </tr>\n",
       "  </thead>\n",
       "  <tbody>\n",
       "    <tr>\n",
       "      <th rowspan=\"10\" valign=\"top\">3000</th>\n",
       "      <th rowspan=\"10\" valign=\"top\">Baseline</th>\n",
       "      <th>ABeta 1-42</th>\n",
       "      <td>Female</td>\n",
       "      <td>Control</td>\n",
       "      <td>Cerebrospinal Fluid</td>\n",
       "      <td>1356</td>\n",
       "      <td>pg/mL</td>\n",
       "      <td>2017-06-27</td>\n",
       "      <td>125</td>\n",
       "      <td>Les Shaw</td>\n",
       "      <td>University of Pennsylvania</td>\n",
       "      <td>2017-10-20 09:03:59.0</td>\n",
       "    </tr>\n",
       "    <tr>\n",
       "      <th>ALDH1A1 (rep 1)</th>\n",
       "      <td>Female</td>\n",
       "      <td>Control</td>\n",
       "      <td>RNA</td>\n",
       "      <td>27.30991745</td>\n",
       "      <td>Ct</td>\n",
       "      <td>2018-04-07</td>\n",
       "      <td>119</td>\n",
       "      <td>Martin Rabey</td>\n",
       "      <td>BioShai Ltd.</td>\n",
       "      <td>2016-11-07 09:58:12.0</td>\n",
       "    </tr>\n",
       "    <tr>\n",
       "      <th>ALDH1A1 (rep 2)</th>\n",
       "      <td>Female</td>\n",
       "      <td>Control</td>\n",
       "      <td>RNA</td>\n",
       "      <td>27.26604271</td>\n",
       "      <td>Ct</td>\n",
       "      <td>2018-04-07</td>\n",
       "      <td>119</td>\n",
       "      <td>Martin Rabey</td>\n",
       "      <td>BioShai Ltd.</td>\n",
       "      <td>2016-11-07 09:58:12.0</td>\n",
       "    </tr>\n",
       "    <tr>\n",
       "      <th>Abeta 42</th>\n",
       "      <td>Female</td>\n",
       "      <td>Control</td>\n",
       "      <td>Cerebrospinal Fluid</td>\n",
       "      <td>408.1</td>\n",
       "      <td>pg/ml</td>\n",
       "      <td>2013-10-24</td>\n",
       "      <td>110</td>\n",
       "      <td>Les Shaw</td>\n",
       "      <td>University of Pennsylvania</td>\n",
       "      <td>2014-02-11 17:20:31.0</td>\n",
       "    </tr>\n",
       "    <tr>\n",
       "      <th>Apolipoprotein A1</th>\n",
       "      <td>Female</td>\n",
       "      <td>Control</td>\n",
       "      <td>Plasma</td>\n",
       "      <td>186</td>\n",
       "      <td>mg/dL</td>\n",
       "      <td>2014-02-27</td>\n",
       "      <td>112</td>\n",
       "      <td>Alice Chen-Plotkin</td>\n",
       "      <td>Penn Neurological Institute</td>\n",
       "      <td>2014-05-20 13:30:50.0</td>\n",
       "    </tr>\n",
       "    <tr>\n",
       "      <th>CSF Alpha-synuclein</th>\n",
       "      <td>Female</td>\n",
       "      <td>Control</td>\n",
       "      <td>Cerebrospinal Fluid</td>\n",
       "      <td>1798.9</td>\n",
       "      <td>pg/ml</td>\n",
       "      <td>2016-10-11</td>\n",
       "      <td>124</td>\n",
       "      <td>Peggy Taylor</td>\n",
       "      <td>Biolegend</td>\n",
       "      <td>2017-04-03 08:50:27.0</td>\n",
       "    </tr>\n",
       "    <tr>\n",
       "      <th>CSF Alpha-synuclein</th>\n",
       "      <td>Female</td>\n",
       "      <td>Control</td>\n",
       "      <td>Cerebrospinal Fluid</td>\n",
       "      <td>2272.32</td>\n",
       "      <td>pg/ml</td>\n",
       "      <td>2013-10-30</td>\n",
       "      <td>111</td>\n",
       "      <td>Peggy Taylor</td>\n",
       "      <td>Biolegend</td>\n",
       "      <td>2014-02-11 17:20:31.0</td>\n",
       "    </tr>\n",
       "    <tr>\n",
       "      <th>CSF Hemoglobin</th>\n",
       "      <td>Female</td>\n",
       "      <td>Control</td>\n",
       "      <td>Cerebrospinal Fluid</td>\n",
       "      <td>484.87</td>\n",
       "      <td>ng/ml</td>\n",
       "      <td>2011-09-27</td>\n",
       "      <td>102</td>\n",
       "      <td>Peggy Taylor</td>\n",
       "      <td>Covance</td>\n",
       "      <td>2011-11-08 13:44:24.0</td>\n",
       "    </tr>\n",
       "    <tr>\n",
       "      <th>CSF Hemoglobin</th>\n",
       "      <td>Female</td>\n",
       "      <td>Control</td>\n",
       "      <td>Cerebrospinal Fluid</td>\n",
       "      <td>479.76</td>\n",
       "      <td>ng/ml</td>\n",
       "      <td>2013-07-02</td>\n",
       "      <td>102</td>\n",
       "      <td>Peggy Taylor</td>\n",
       "      <td>Covance</td>\n",
       "      <td>2013-08-23 11:14:49.0</td>\n",
       "    </tr>\n",
       "    <tr>\n",
       "      <th>CSF Hemoglobin</th>\n",
       "      <td>Female</td>\n",
       "      <td>Control</td>\n",
       "      <td>Cerebrospinal Fluid</td>\n",
       "      <td>437.4</td>\n",
       "      <td>ng/ml</td>\n",
       "      <td>2016-10-06</td>\n",
       "      <td>134</td>\n",
       "      <td>Peggy Taylor</td>\n",
       "      <td>Biolegend</td>\n",
       "      <td>2017-04-03 08:50:41.0</td>\n",
       "    </tr>\n",
       "  </tbody>\n",
       "</table>\n",
       "</div>"
      ],
      "text/plain": [
       "                                            GENDER DIAGNOSIS  \\\n",
       "PATIENT CLINICAL_EVENT TESTNAME                                \n",
       "3000    Baseline       ABeta 1-42           Female   Control   \n",
       "                       ALDH1A1 (rep 1)      Female   Control   \n",
       "                       ALDH1A1 (rep 2)      Female   Control   \n",
       "                       Abeta 42             Female   Control   \n",
       "                       Apolipoprotein A1    Female   Control   \n",
       "                       CSF Alpha-synuclein  Female   Control   \n",
       "                       CSF Alpha-synuclein  Female   Control   \n",
       "                       CSF Hemoglobin       Female   Control   \n",
       "                       CSF Hemoglobin       Female   Control   \n",
       "                       CSF Hemoglobin       Female   Control   \n",
       "\n",
       "                                                           TYPE    TESTVALUE  \\\n",
       "PATIENT CLINICAL_EVENT TESTNAME                                                \n",
       "3000    Baseline       ABeta 1-42           Cerebrospinal Fluid         1356   \n",
       "                       ALDH1A1 (rep 1)                      RNA  27.30991745   \n",
       "                       ALDH1A1 (rep 2)                      RNA  27.26604271   \n",
       "                       Abeta 42             Cerebrospinal Fluid        408.1   \n",
       "                       Apolipoprotein A1                 Plasma          186   \n",
       "                       CSF Alpha-synuclein  Cerebrospinal Fluid       1798.9   \n",
       "                       CSF Alpha-synuclein  Cerebrospinal Fluid      2272.32   \n",
       "                       CSF Hemoglobin       Cerebrospinal Fluid       484.87   \n",
       "                       CSF Hemoglobin       Cerebrospinal Fluid       479.76   \n",
       "                       CSF Hemoglobin       Cerebrospinal Fluid        437.4   \n",
       "\n",
       "                                            UNITS     RUNDATE  PROJECTID  \\\n",
       "PATIENT CLINICAL_EVENT TESTNAME                                            \n",
       "3000    Baseline       ABeta 1-42           pg/mL  2017-06-27        125   \n",
       "                       ALDH1A1 (rep 1)         Ct  2018-04-07        119   \n",
       "                       ALDH1A1 (rep 2)         Ct  2018-04-07        119   \n",
       "                       Abeta 42             pg/ml  2013-10-24        110   \n",
       "                       Apolipoprotein A1    mg/dL  2014-02-27        112   \n",
       "                       CSF Alpha-synuclein  pg/ml  2016-10-11        124   \n",
       "                       CSF Alpha-synuclein  pg/ml  2013-10-30        111   \n",
       "                       CSF Hemoglobin       ng/ml  2011-09-27        102   \n",
       "                       CSF Hemoglobin       ng/ml  2013-07-02        102   \n",
       "                       CSF Hemoglobin       ng/ml  2016-10-06        134   \n",
       "\n",
       "                                                       PI_NAME  \\\n",
       "PATIENT CLINICAL_EVENT TESTNAME                                  \n",
       "3000    Baseline       ABeta 1-42                     Les Shaw   \n",
       "                       ALDH1A1 (rep 1)            Martin Rabey   \n",
       "                       ALDH1A1 (rep 2)            Martin Rabey   \n",
       "                       Abeta 42                       Les Shaw   \n",
       "                       Apolipoprotein A1    Alice Chen-Plotkin   \n",
       "                       CSF Alpha-synuclein        Peggy Taylor   \n",
       "                       CSF Alpha-synuclein        Peggy Taylor   \n",
       "                       CSF Hemoglobin             Peggy Taylor   \n",
       "                       CSF Hemoglobin             Peggy Taylor   \n",
       "                       CSF Hemoglobin             Peggy Taylor   \n",
       "\n",
       "                                                         PI_INSTITUTION  \\\n",
       "PATIENT CLINICAL_EVENT TESTNAME                                           \n",
       "3000    Baseline       ABeta 1-42            University of Pennsylvania   \n",
       "                       ALDH1A1 (rep 1)                     BioShai Ltd.   \n",
       "                       ALDH1A1 (rep 2)                     BioShai Ltd.   \n",
       "                       Abeta 42              University of Pennsylvania   \n",
       "                       Apolipoprotein A1    Penn Neurological Institute   \n",
       "                       CSF Alpha-synuclein                    Biolegend   \n",
       "                       CSF Alpha-synuclein                    Biolegend   \n",
       "                       CSF Hemoglobin                           Covance   \n",
       "                       CSF Hemoglobin                           Covance   \n",
       "                       CSF Hemoglobin                         Biolegend   \n",
       "\n",
       "                                                     update_stamp  \n",
       "PATIENT CLINICAL_EVENT TESTNAME                                    \n",
       "3000    Baseline       ABeta 1-42           2017-10-20 09:03:59.0  \n",
       "                       ALDH1A1 (rep 1)      2016-11-07 09:58:12.0  \n",
       "                       ALDH1A1 (rep 2)      2016-11-07 09:58:12.0  \n",
       "                       Abeta 42             2014-02-11 17:20:31.0  \n",
       "                       Apolipoprotein A1    2014-05-20 13:30:50.0  \n",
       "                       CSF Alpha-synuclein  2017-04-03 08:50:27.0  \n",
       "                       CSF Alpha-synuclein  2014-02-11 17:20:31.0  \n",
       "                       CSF Hemoglobin       2011-11-08 13:44:24.0  \n",
       "                       CSF Hemoglobin       2013-08-23 11:14:49.0  \n",
       "                       CSF Hemoglobin       2017-04-03 08:50:41.0  "
      ]
     },
     "execution_count": 6,
     "metadata": {},
     "output_type": "execute_result"
    }
   ],
   "source": [
    "df.set_index(['PATIENT','CLINICAL_EVENT','TESTNAME']).sort_index().head(10)"
   ]
  },
  {
   "cell_type": "markdown",
   "metadata": {},
   "source": [
    "## What is CSF Alpha-synuclein?"
   ]
  },
  {
   "cell_type": "markdown",
   "metadata": {},
   "source": [
    "![alpha](images/Alpha-Synuclein-Protein-Aggregates-Fibrils-Diagram-Active-and-Controls-1024x606.png)"
   ]
  },
  {
   "cell_type": "markdown",
   "metadata": {},
   "source": [
    "### Let's look at only the alpha-synuclein content of the cerebro-spinal fluid"
   ]
  },
  {
   "cell_type": "code",
   "execution_count": 7,
   "metadata": {},
   "outputs": [
    {
     "data": {
      "text/plain": [
       "0     True\n",
       "1     True\n",
       "2     True\n",
       "3    False\n",
       "4    False\n",
       "5    False\n",
       "6    False\n",
       "7    False\n",
       "8    False\n",
       "9    False\n",
       "Name: TESTNAME, dtype: bool"
      ]
     },
     "execution_count": 7,
     "metadata": {},
     "output_type": "execute_result"
    }
   ],
   "source": [
    "# This makes a 'series' containing True where the test is for CSF Alpha-synuclein \n",
    "# and False where it isn't.  \n",
    "is_it_an_alpha_synuclein_test = df['TESTNAME']=='CSF Alpha-synuclein'\n",
    "is_it_an_alpha_synuclein_test.head(10)"
   ]
  },
  {
   "cell_type": "code",
   "execution_count": 8,
   "metadata": {},
   "outputs": [
    {
     "data": {
      "text/html": [
       "<div>\n",
       "<table border=\"1\" class=\"dataframe\">\n",
       "  <thead>\n",
       "    <tr style=\"text-align: right;\">\n",
       "      <th></th>\n",
       "      <th>PATIENT</th>\n",
       "      <th>GENDER</th>\n",
       "      <th>DIAGNOSIS</th>\n",
       "      <th>CLINICAL_EVENT</th>\n",
       "      <th>TYPE</th>\n",
       "      <th>TESTNAME</th>\n",
       "      <th>TESTVALUE</th>\n",
       "      <th>UNITS</th>\n",
       "      <th>RUNDATE</th>\n",
       "      <th>PROJECTID</th>\n",
       "      <th>PI_NAME</th>\n",
       "      <th>PI_INSTITUTION</th>\n",
       "      <th>update_stamp</th>\n",
       "    </tr>\n",
       "  </thead>\n",
       "  <tbody>\n",
       "    <tr>\n",
       "      <th>0</th>\n",
       "      <td>10874</td>\n",
       "      <td>Female</td>\n",
       "      <td>Prodromal</td>\n",
       "      <td>V02</td>\n",
       "      <td>Cerebrospinal Fluid</td>\n",
       "      <td>CSF Alpha-synuclein</td>\n",
       "      <td>2459.3</td>\n",
       "      <td>pg/ml</td>\n",
       "      <td>2016-11-09</td>\n",
       "      <td>124</td>\n",
       "      <td>Peggy Taylor</td>\n",
       "      <td>Biolegend</td>\n",
       "      <td>2017-04-03 08:50:27.0</td>\n",
       "    </tr>\n",
       "    <tr>\n",
       "      <th>1</th>\n",
       "      <td>10874</td>\n",
       "      <td>Female</td>\n",
       "      <td>Prodromal</td>\n",
       "      <td>Baseline</td>\n",
       "      <td>Cerebrospinal Fluid</td>\n",
       "      <td>CSF Alpha-synuclein</td>\n",
       "      <td>1778.3</td>\n",
       "      <td>pg/ml</td>\n",
       "      <td>2016-11-09</td>\n",
       "      <td>124</td>\n",
       "      <td>Peggy Taylor</td>\n",
       "      <td>Biolegend</td>\n",
       "      <td>2017-04-03 08:50:27.0</td>\n",
       "    </tr>\n",
       "    <tr>\n",
       "      <th>2</th>\n",
       "      <td>10874</td>\n",
       "      <td>Female</td>\n",
       "      <td>Prodromal</td>\n",
       "      <td>V04</td>\n",
       "      <td>Cerebrospinal Fluid</td>\n",
       "      <td>CSF Alpha-synuclein</td>\n",
       "      <td>1729.8</td>\n",
       "      <td>pg/ml</td>\n",
       "      <td>2016-11-09</td>\n",
       "      <td>124</td>\n",
       "      <td>Peggy Taylor</td>\n",
       "      <td>Biolegend</td>\n",
       "      <td>2017-04-03 08:50:27.0</td>\n",
       "    </tr>\n",
       "    <tr>\n",
       "      <th>31</th>\n",
       "      <td>12224</td>\n",
       "      <td>Female</td>\n",
       "      <td>Prodromal</td>\n",
       "      <td>Baseline</td>\n",
       "      <td>Cerebrospinal Fluid</td>\n",
       "      <td>CSF Alpha-synuclein</td>\n",
       "      <td>1029.7</td>\n",
       "      <td>pg/ml</td>\n",
       "      <td>2017-01-31</td>\n",
       "      <td>124</td>\n",
       "      <td>Peggy Taylor</td>\n",
       "      <td>Biolegend</td>\n",
       "      <td>2017-04-03 08:50:27.0</td>\n",
       "    </tr>\n",
       "    <tr>\n",
       "      <th>32</th>\n",
       "      <td>12224</td>\n",
       "      <td>Female</td>\n",
       "      <td>Prodromal</td>\n",
       "      <td>V02</td>\n",
       "      <td>Cerebrospinal Fluid</td>\n",
       "      <td>CSF Alpha-synuclein</td>\n",
       "      <td>891.2</td>\n",
       "      <td>pg/ml</td>\n",
       "      <td>2017-01-31</td>\n",
       "      <td>124</td>\n",
       "      <td>Peggy Taylor</td>\n",
       "      <td>Biolegend</td>\n",
       "      <td>2017-04-03 08:50:27.0</td>\n",
       "    </tr>\n",
       "    <tr>\n",
       "      <th>33</th>\n",
       "      <td>12224</td>\n",
       "      <td>Female</td>\n",
       "      <td>Prodromal</td>\n",
       "      <td>V04</td>\n",
       "      <td>Cerebrospinal Fluid</td>\n",
       "      <td>CSF Alpha-synuclein</td>\n",
       "      <td>918.9</td>\n",
       "      <td>pg/ml</td>\n",
       "      <td>2017-01-31</td>\n",
       "      <td>124</td>\n",
       "      <td>Peggy Taylor</td>\n",
       "      <td>Biolegend</td>\n",
       "      <td>2017-04-03 08:50:27.0</td>\n",
       "    </tr>\n",
       "    <tr>\n",
       "      <th>34</th>\n",
       "      <td>12224</td>\n",
       "      <td>Female</td>\n",
       "      <td>Prodromal</td>\n",
       "      <td>V06</td>\n",
       "      <td>Cerebrospinal Fluid</td>\n",
       "      <td>CSF Alpha-synuclein</td>\n",
       "      <td>722.8</td>\n",
       "      <td>pg/ml</td>\n",
       "      <td>2017-01-31</td>\n",
       "      <td>124</td>\n",
       "      <td>Peggy Taylor</td>\n",
       "      <td>Biolegend</td>\n",
       "      <td>2017-04-03 08:50:27.0</td>\n",
       "    </tr>\n",
       "    <tr>\n",
       "      <th>35</th>\n",
       "      <td>12593</td>\n",
       "      <td>Female</td>\n",
       "      <td>Prodromal</td>\n",
       "      <td>Baseline</td>\n",
       "      <td>Cerebrospinal Fluid</td>\n",
       "      <td>CSF Alpha-synuclein</td>\n",
       "      <td>1169.1</td>\n",
       "      <td>pg/ml</td>\n",
       "      <td>2016-11-03</td>\n",
       "      <td>124</td>\n",
       "      <td>Peggy Taylor</td>\n",
       "      <td>Biolegend</td>\n",
       "      <td>2017-04-03 08:50:27.0</td>\n",
       "    </tr>\n",
       "    <tr>\n",
       "      <th>52</th>\n",
       "      <td>13039</td>\n",
       "      <td>Male</td>\n",
       "      <td>Prodromal</td>\n",
       "      <td>V02</td>\n",
       "      <td>Cerebrospinal Fluid</td>\n",
       "      <td>CSF Alpha-synuclein</td>\n",
       "      <td>447.9</td>\n",
       "      <td>pg/ml</td>\n",
       "      <td>2017-01-13</td>\n",
       "      <td>124</td>\n",
       "      <td>Peggy Taylor</td>\n",
       "      <td>Biolegend</td>\n",
       "      <td>2017-04-03 08:50:27.0</td>\n",
       "    </tr>\n",
       "    <tr>\n",
       "      <th>53</th>\n",
       "      <td>13039</td>\n",
       "      <td>Male</td>\n",
       "      <td>Prodromal</td>\n",
       "      <td>V04</td>\n",
       "      <td>Cerebrospinal Fluid</td>\n",
       "      <td>CSF Alpha-synuclein</td>\n",
       "      <td>480.4</td>\n",
       "      <td>pg/ml</td>\n",
       "      <td>2017-01-13</td>\n",
       "      <td>124</td>\n",
       "      <td>Peggy Taylor</td>\n",
       "      <td>Biolegend</td>\n",
       "      <td>2017-04-03 08:50:27.0</td>\n",
       "    </tr>\n",
       "  </tbody>\n",
       "</table>\n",
       "</div>"
      ],
      "text/plain": [
       "    PATIENT  GENDER  DIAGNOSIS CLINICAL_EVENT                 TYPE  \\\n",
       "0     10874  Female  Prodromal            V02  Cerebrospinal Fluid   \n",
       "1     10874  Female  Prodromal       Baseline  Cerebrospinal Fluid   \n",
       "2     10874  Female  Prodromal            V04  Cerebrospinal Fluid   \n",
       "31    12224  Female  Prodromal       Baseline  Cerebrospinal Fluid   \n",
       "32    12224  Female  Prodromal            V02  Cerebrospinal Fluid   \n",
       "33    12224  Female  Prodromal            V04  Cerebrospinal Fluid   \n",
       "34    12224  Female  Prodromal            V06  Cerebrospinal Fluid   \n",
       "35    12593  Female  Prodromal       Baseline  Cerebrospinal Fluid   \n",
       "52    13039    Male  Prodromal            V02  Cerebrospinal Fluid   \n",
       "53    13039    Male  Prodromal            V04  Cerebrospinal Fluid   \n",
       "\n",
       "               TESTNAME TESTVALUE  UNITS     RUNDATE  PROJECTID       PI_NAME  \\\n",
       "0   CSF Alpha-synuclein    2459.3  pg/ml  2016-11-09        124  Peggy Taylor   \n",
       "1   CSF Alpha-synuclein    1778.3  pg/ml  2016-11-09        124  Peggy Taylor   \n",
       "2   CSF Alpha-synuclein    1729.8  pg/ml  2016-11-09        124  Peggy Taylor   \n",
       "31  CSF Alpha-synuclein    1029.7  pg/ml  2017-01-31        124  Peggy Taylor   \n",
       "32  CSF Alpha-synuclein     891.2  pg/ml  2017-01-31        124  Peggy Taylor   \n",
       "33  CSF Alpha-synuclein     918.9  pg/ml  2017-01-31        124  Peggy Taylor   \n",
       "34  CSF Alpha-synuclein     722.8  pg/ml  2017-01-31        124  Peggy Taylor   \n",
       "35  CSF Alpha-synuclein    1169.1  pg/ml  2016-11-03        124  Peggy Taylor   \n",
       "52  CSF Alpha-synuclein     447.9  pg/ml  2017-01-13        124  Peggy Taylor   \n",
       "53  CSF Alpha-synuclein     480.4  pg/ml  2017-01-13        124  Peggy Taylor   \n",
       "\n",
       "   PI_INSTITUTION           update_stamp  \n",
       "0       Biolegend  2017-04-03 08:50:27.0  \n",
       "1       Biolegend  2017-04-03 08:50:27.0  \n",
       "2       Biolegend  2017-04-03 08:50:27.0  \n",
       "31      Biolegend  2017-04-03 08:50:27.0  \n",
       "32      Biolegend  2017-04-03 08:50:27.0  \n",
       "33      Biolegend  2017-04-03 08:50:27.0  \n",
       "34      Biolegend  2017-04-03 08:50:27.0  \n",
       "35      Biolegend  2017-04-03 08:50:27.0  \n",
       "52      Biolegend  2017-04-03 08:50:27.0  \n",
       "53      Biolegend  2017-04-03 08:50:27.0  "
      ]
     },
     "execution_count": 8,
     "metadata": {},
     "output_type": "execute_result"
    }
   ],
   "source": [
    "# Now we filter our original data using this series, to select only those events associated\n",
    "# with the CSF Alpha-synuclein test.  \n",
    "alpha_synuclein_tests = df[is_it_an_alpha_synuclein_test]\n",
    "alpha_synuclein_tests.head(10)"
   ]
  },
  {
   "cell_type": "markdown",
   "metadata": {},
   "source": [
    "### Now we clean out the data a bit"
   ]
  },
  {
   "cell_type": "code",
   "execution_count": 9,
   "metadata": {},
   "outputs": [
    {
     "data": {
      "text/plain": [
       "4"
      ]
     },
     "execution_count": 9,
     "metadata": {},
     "output_type": "execute_result"
    }
   ],
   "source": [
    "# We also have to check for bogus values...\n",
    "alpha_synuclein_tests['TESTVALUE'].isnull().sum()"
   ]
  },
  {
   "cell_type": "code",
   "execution_count": 10,
   "metadata": {},
   "outputs": [
    {
     "data": {
      "text/plain": [
       "0"
      ]
     },
     "execution_count": 10,
     "metadata": {},
     "output_type": "execute_result"
    }
   ],
   "source": [
    "# ... and drop them!\n",
    "alpha_synuclein_tests.dropna()['TESTVALUE'].isnull().sum()"
   ]
  },
  {
   "cell_type": "code",
   "execution_count": 11,
   "metadata": {},
   "outputs": [
    {
     "data": {
      "text/html": [
       "<div>\n",
       "<table border=\"1\" class=\"dataframe\">\n",
       "  <thead>\n",
       "    <tr style=\"text-align: right;\">\n",
       "      <th></th>\n",
       "      <th>PATIENT</th>\n",
       "      <th>GENDER</th>\n",
       "      <th>DIAGNOSIS</th>\n",
       "      <th>CLINICAL_EVENT</th>\n",
       "      <th>TYPE</th>\n",
       "      <th>TESTNAME</th>\n",
       "      <th>TESTVALUE</th>\n",
       "      <th>UNITS</th>\n",
       "      <th>RUNDATE</th>\n",
       "      <th>PROJECTID</th>\n",
       "      <th>PI_NAME</th>\n",
       "      <th>PI_INSTITUTION</th>\n",
       "      <th>update_stamp</th>\n",
       "    </tr>\n",
       "  </thead>\n",
       "  <tbody>\n",
       "    <tr>\n",
       "      <th>1</th>\n",
       "      <td>10874</td>\n",
       "      <td>Female</td>\n",
       "      <td>Prodromal</td>\n",
       "      <td>Baseline</td>\n",
       "      <td>Cerebrospinal Fluid</td>\n",
       "      <td>CSF Alpha-synuclein</td>\n",
       "      <td>1778.3</td>\n",
       "      <td>pg/ml</td>\n",
       "      <td>2016-11-09</td>\n",
       "      <td>124</td>\n",
       "      <td>Peggy Taylor</td>\n",
       "      <td>Biolegend</td>\n",
       "      <td>2017-04-03 08:50:27.0</td>\n",
       "    </tr>\n",
       "    <tr>\n",
       "      <th>31</th>\n",
       "      <td>12224</td>\n",
       "      <td>Female</td>\n",
       "      <td>Prodromal</td>\n",
       "      <td>Baseline</td>\n",
       "      <td>Cerebrospinal Fluid</td>\n",
       "      <td>CSF Alpha-synuclein</td>\n",
       "      <td>1029.7</td>\n",
       "      <td>pg/ml</td>\n",
       "      <td>2017-01-31</td>\n",
       "      <td>124</td>\n",
       "      <td>Peggy Taylor</td>\n",
       "      <td>Biolegend</td>\n",
       "      <td>2017-04-03 08:50:27.0</td>\n",
       "    </tr>\n",
       "    <tr>\n",
       "      <th>35</th>\n",
       "      <td>12593</td>\n",
       "      <td>Female</td>\n",
       "      <td>Prodromal</td>\n",
       "      <td>Baseline</td>\n",
       "      <td>Cerebrospinal Fluid</td>\n",
       "      <td>CSF Alpha-synuclein</td>\n",
       "      <td>1169.1</td>\n",
       "      <td>pg/ml</td>\n",
       "      <td>2016-11-03</td>\n",
       "      <td>124</td>\n",
       "      <td>Peggy Taylor</td>\n",
       "      <td>Biolegend</td>\n",
       "      <td>2017-04-03 08:50:27.0</td>\n",
       "    </tr>\n",
       "    <tr>\n",
       "      <th>54</th>\n",
       "      <td>13039</td>\n",
       "      <td>Male</td>\n",
       "      <td>Prodromal</td>\n",
       "      <td>Baseline</td>\n",
       "      <td>Cerebrospinal Fluid</td>\n",
       "      <td>CSF Alpha-synuclein</td>\n",
       "      <td>437.4</td>\n",
       "      <td>pg/ml</td>\n",
       "      <td>2017-01-13</td>\n",
       "      <td>124</td>\n",
       "      <td>Peggy Taylor</td>\n",
       "      <td>Biolegend</td>\n",
       "      <td>2017-04-03 08:50:27.0</td>\n",
       "    </tr>\n",
       "    <tr>\n",
       "      <th>56</th>\n",
       "      <td>13424</td>\n",
       "      <td>Female</td>\n",
       "      <td>Prodromal</td>\n",
       "      <td>Baseline</td>\n",
       "      <td>Cerebrospinal Fluid</td>\n",
       "      <td>CSF Alpha-synuclein</td>\n",
       "      <td>1410.4</td>\n",
       "      <td>pg/ml</td>\n",
       "      <td>2016-11-02</td>\n",
       "      <td>124</td>\n",
       "      <td>Peggy Taylor</td>\n",
       "      <td>Biolegend</td>\n",
       "      <td>2017-04-03 08:50:27.0</td>\n",
       "    </tr>\n",
       "  </tbody>\n",
       "</table>\n",
       "</div>"
      ],
      "text/plain": [
       "    PATIENT  GENDER  DIAGNOSIS CLINICAL_EVENT                 TYPE  \\\n",
       "1     10874  Female  Prodromal       Baseline  Cerebrospinal Fluid   \n",
       "31    12224  Female  Prodromal       Baseline  Cerebrospinal Fluid   \n",
       "35    12593  Female  Prodromal       Baseline  Cerebrospinal Fluid   \n",
       "54    13039    Male  Prodromal       Baseline  Cerebrospinal Fluid   \n",
       "56    13424  Female  Prodromal       Baseline  Cerebrospinal Fluid   \n",
       "\n",
       "               TESTNAME TESTVALUE  UNITS     RUNDATE  PROJECTID       PI_NAME  \\\n",
       "1   CSF Alpha-synuclein    1778.3  pg/ml  2016-11-09        124  Peggy Taylor   \n",
       "31  CSF Alpha-synuclein    1029.7  pg/ml  2017-01-31        124  Peggy Taylor   \n",
       "35  CSF Alpha-synuclein    1169.1  pg/ml  2016-11-03        124  Peggy Taylor   \n",
       "54  CSF Alpha-synuclein     437.4  pg/ml  2017-01-13        124  Peggy Taylor   \n",
       "56  CSF Alpha-synuclein    1410.4  pg/ml  2016-11-02        124  Peggy Taylor   \n",
       "\n",
       "   PI_INSTITUTION           update_stamp  \n",
       "1       Biolegend  2017-04-03 08:50:27.0  \n",
       "31      Biolegend  2017-04-03 08:50:27.0  \n",
       "35      Biolegend  2017-04-03 08:50:27.0  \n",
       "54      Biolegend  2017-04-03 08:50:27.0  \n",
       "56      Biolegend  2017-04-03 08:50:27.0  "
      ]
     },
     "execution_count": 11,
     "metadata": {},
     "output_type": "execute_result"
    }
   ],
   "source": [
    "# And restrict the sample to only patients' first visit (i.e. baseline)\n",
    "clean = alpha_synuclein_tests.dropna()\n",
    "baseline = clean[clean['CLINICAL_EVENT']=='Baseline']\n",
    "baseline.head()"
   ]
  },
  {
   "cell_type": "markdown",
   "metadata": {},
   "source": [
    "## How do the CSF Alpha-synuclein test values differ by diagnosis?"
   ]
  },
  {
   "cell_type": "code",
   "execution_count": 12,
   "metadata": {},
   "outputs": [
    {
     "data": {
      "text/plain": [
       "PD                  842\n",
       "Control             386\n",
       "Genetic Cohort      185\n",
       "SWEDD               120\n",
       "Prodromal            55\n",
       "Genetic Registry      2\n",
       "Name: DIAGNOSIS, dtype: int64"
      ]
     },
     "execution_count": 12,
     "metadata": {},
     "output_type": "execute_result"
    }
   ],
   "source": [
    "baseline['DIAGNOSIS'].value_counts()"
   ]
  },
  {
   "cell_type": "code",
   "execution_count": 13,
   "metadata": {},
   "outputs": [
    {
     "data": {
      "text/plain": [
       "195      1798.9\n",
       "255     2272.32\n",
       "749      1082.1\n",
       "779     1352.57\n",
       "1045     2740.7\n",
       "Name: TESTVALUE, dtype: object"
      ]
     },
     "execution_count": 13,
     "metadata": {},
     "output_type": "execute_result"
    }
   ],
   "source": [
    "baseline[baseline['DIAGNOSIS']=='Control']['TESTVALUE'].head()"
   ]
  },
  {
   "cell_type": "code",
   "execution_count": 14,
   "metadata": {
    "collapsed": true
   },
   "outputs": [],
   "source": [
    "control = baseline[baseline['DIAGNOSIS']=='Control']['TESTVALUE']\n",
    "pd = baseline[baseline['DIAGNOSIS']=='PD']['TESTVALUE']"
   ]
  },
  {
   "cell_type": "markdown",
   "metadata": {},
   "source": [
    "### But wait, we need to make sure our numbers are *actually* numbers!"
   ]
  },
  {
   "cell_type": "code",
   "execution_count": 15,
   "metadata": {},
   "outputs": [
    {
     "data": {
      "text/plain": [
       "'1798.9'"
      ]
     },
     "execution_count": 15,
     "metadata": {},
     "output_type": "execute_result"
    }
   ],
   "source": [
    "# Show the value for entry #195\n",
    "control.loc[195]"
   ]
  },
  {
   "cell_type": "code",
   "execution_count": 16,
   "metadata": {
    "collapsed": true
   },
   "outputs": [],
   "source": [
    "# Change the values to float (i.e. numeric) rather than strings (i.e. quoted literals)\n",
    "control = control.astype(float)\n",
    "pd = pd.astype(float)"
   ]
  },
  {
   "cell_type": "markdown",
   "metadata": {},
   "source": [
    "Q: What is $10^6$ in binary?\n",
    "\n",
    "A: 11110100001001000000"
   ]
  },
  {
   "cell_type": "code",
   "execution_count": 17,
   "metadata": {},
   "outputs": [
    {
     "data": {
      "text/plain": [
       "1798.9000000000001"
      ]
     },
     "execution_count": 17,
     "metadata": {},
     "output_type": "execute_result"
    }
   ],
   "source": [
    "# Note the floating-point error (irrelevant for this sort of analysis)\n",
    "control.loc[195]"
   ]
  },
  {
   "cell_type": "markdown",
   "metadata": {},
   "source": [
    "## Now we can summarize this part of the data"
   ]
  },
  {
   "cell_type": "code",
   "execution_count": 18,
   "metadata": {},
   "outputs": [
    {
     "name": "stdout",
     "output_type": "stream",
     "text": [
      "Mean CSF alpha-synuclein values are \n",
      "Control: 1944.0\n",
      "PD: 1675.0\n",
      "A difference of 13.8%\n"
     ]
    }
   ],
   "source": [
    "print(\"Mean CSF alpha-synuclein values are \")\n",
    "print(\"Control: %.1f\" % control.mean())\n",
    "print(\"PD: %.1f\" % pd.mean())\n",
    "print(\"A difference of %.1f%%\" % (100*(control.mean()-pd.mean())/control.mean()))"
   ]
  },
  {
   "cell_type": "code",
   "execution_count": 20,
   "metadata": {},
   "outputs": [
    {
     "data": {
      "image/png": "[encoded data removed]",
      "text/plain": [
       "<matplotlib.figure.Figure at 0x7fe7612f6d68>"
      ]
     },
     "metadata": {},
     "output_type": "display_data"
    }
   ],
   "source": [
    "import matplotlib.pyplot as plt\n",
    "import matplotlib as mpl\n",
    "mpl.rcParams.update({'font.size':14})\n",
    "control.hist(label='Control',alpha=0.5)\n",
    "pd.hist(label='PD',alpha=0.5)\n",
    "plt.xlabel('CSF alpha-synuclein concentration (pg/ml)')\n",
    "plt.ylabel('Number of people')\n",
    "plt.legend();\n",
    "plt.show()"
   ]
  },
  {
   "cell_type": "markdown",
   "metadata": {},
   "source": [
    "![abstract](images/alpha-synuclein-abstract.png)"
   ]
  },
  {
   "cell_type": "code",
   "execution_count": null,
   "metadata": {
    "collapsed": true
   },
   "outputs": [],
   "source": []
  }
 ],
 "metadata": {
  "kernelspec": {
   "display_name": "Python 3",
   "language": "python",
   "name": "python3"
  },
  "language_info": {
   "codemirror_mode": {
    "name": "ipython",
    "version": 3
   },
   "file_extension": ".py",
   "mimetype": "text/x-python",
   "name": "python",
   "nbconvert_exporter": "python",
   "pygments_lexer": "ipython3",
   "version": "3.5.4"
  }
 },
 "nbformat": 4,
 "nbformat_minor": 2
}
