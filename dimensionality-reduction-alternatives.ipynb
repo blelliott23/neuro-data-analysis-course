{
 "cells": [
  {
   "cell_type": "markdown",
   "metadata": {
    "slideshow": {
     "slide_type": "slide"
    }
   },
   "source": [
    "# Dimensionality Reduction: Alternative decompositions of your data"
   ]
  },
  {
   "cell_type": "code",
   "execution_count": 1,
   "metadata": {
    "slideshow": {
     "slide_type": "skip"
    }
   },
   "outputs": [],
   "source": [
    "%matplotlib inline\n",
    "import matplotlib.pyplot as plt\n",
    "import matplotlib as mpl\n",
    "from mpl_toolkits.mplot3d import Axes3D\n",
    "import ipyvolume.pylab as p3\n",
    "import numpy as np\n",
    "import pandas as pd\n",
    "from sklearn.decomposition import PCA\n",
    "from IPython.display import YouTubeVideo"
   ]
  },
  {
   "cell_type": "code",
   "execution_count": 2,
   "metadata": {
    "slideshow": {
     "slide_type": "skip"
    }
   },
   "outputs": [],
   "source": [
    "pca = PCA()\n",
    "\n",
    "mpl.rcParams.update({'font.size':16})\n",
    "\n",
    "# A function for plotting 3-dimensional data\n",
    "def plot3d(df):\n",
    "    data = df.values\n",
    "    fig = plt.figure(figsize=(6,6))\n",
    "    ax = fig.add_subplot(111, projection='3d')\n",
    "    ax.scatter(*data[:,0:3].T)\n",
    "    minn,maxx = data.min(),data.max()\n",
    "    ax.set_xlim(minn,maxx)\n",
    "    ax.set_ylim(minn,maxx)\n",
    "    ax.set_zlim(minn,maxx)\n",
    "    ax.set_xlabel(df.columns[0],labelpad=10)\n",
    "    ax.set_ylabel(df.columns[1],labelpad=10)\n",
    "    ax.set_zlabel(df.columns[2],labelpad=10)\n",
    "    ax.dist = 12\n",
    "    plt.tight_layout()\n",
    "    \n",
    "def plot3d_live(data):\n",
    "    fig = p3.figure()\n",
    "    q = p3.scatter(*data.T, size=1, marker=\"sphere\")\n",
    "    p3.style.use(\"dark\") # looks better\n",
    "    p3.show()\n",
    "        \n",
    "# A function for summarizing covariancs and correlations\n",
    "def summarize(info,name,quiet=False):\n",
    "    values = info[name]\n",
    "    if not quiet:\n",
    "        print(values.round(2))\n",
    "    plt.pcolor(values,cmap='RdBu_r',vmin=-values.max(),vmax=values.max())\n",
    "    raynge = np.arange(values.shape[0])\n",
    "    if not quiet:\n",
    "        plt.xticks(raynge+0.5,raynge)\n",
    "        plt.yticks(raynge+0.5,raynge)\n",
    "    else:\n",
    "        plt.xticks([])\n",
    "        plt.yticks([])\n",
    "    plt.gca().invert_yaxis() # Make y-axis go from low to high like a matrix\n",
    "    plt.colorbar().set_label(name)\n",
    "    if not quiet:\n",
    "        eigenvalues,_ = np.linalg.eig(info[name])\n",
    "        for i,eig in enumerate(sorted(eigenvalues,reverse=True)):\n",
    "            print('Eigenvalue #%d is %.3g' % (i+1,eig))\n",
    "        \n",
    "def report_mean_var(data):\n",
    "    for i in range(data.shape[1]):\n",
    "        column = data[:,i]\n",
    "        print(\"Dimension %d has mean %.2g and variance %.3g\" % \\\n",
    "              (i+1,column.mean(),column.var()))\n",
    "        \n",
    "def annotate_scatter(ax,df):\n",
    "    for i, text in enumerate(df.index):\n",
    "        ax.text(df['PC 1'].iloc[i],df['PC 2'].iloc[i], text)\n",
    "        \n",
    "def variance_explained(df,pca):\n",
    "    #pca.fit(df.values)\n",
    "    n_components = min(*df.shape)\n",
    "    if pca.n_components:\n",
    "        n_components = min(n_components,pca.n_components)\n",
    "    for i in range(n_components):\n",
    "        print(\"PC %d explains %.3g%% of the variance\" % (i+1,100*pca.explained_variance_ratio_[i]))\n",
    "        \n",
    "def pc_report(pca,df):\n",
    "    #pca.fit(df.values)\n",
    "    n_components = min(*df.shape)\n",
    "    if pca.n_components:\n",
    "        n_components = min(n_components,pca.n_components)\n",
    "    pca_df = pd.DataFrame(pca.components_.T,\n",
    "                          index=df.columns,\n",
    "                          columns=['PC %d' % (i+1) for i in range(n_components)])\n",
    "    return pca_df\n",
    "\n",
    "def plot_transformed_data(pca,df,figsize=None):\n",
    "    #pca.fit(df.values)\n",
    "    n_components = min(*df.shape)\n",
    "    if pca.n_components:\n",
    "        n_components = min(n_components,pca.n_components)\n",
    "    pca_df = pd.DataFrame(pca.transform(df.values),\n",
    "                      index=df.index,\n",
    "                      columns=['PC %d' % (i+1) for i in range(n_components)])\n",
    "    ax = pca_df.plot.scatter('PC 1','PC 2',figsize=figsize)\n",
    "    annotate_scatter(ax,pca_df)\n",
    "\n",
    "my_fake_data = np.random.rand(100,3)\n",
    "my_fake_data[:,2] = (my_fake_data[:,0] + my_fake_data[:,1])/np.sqrt(2)"
   ]
  },
  {
   "cell_type": "markdown",
   "metadata": {
    "slideshow": {
     "slide_type": "slide"
    }
   },
   "source": [
    "## Problem 1: when new dimensions are combinations of dozens of old dimensions, they are hard to interpret.  "
   ]
  },
  {
   "cell_type": "code",
   "execution_count": 3,
   "metadata": {
    "slideshow": {
     "slide_type": "slide"
    }
   },
   "outputs": [
    {
     "data": {
      "text/html": [
       "<div>\n",
       "<style scoped>\n",
       "    .dataframe tbody tr th:only-of-type {\n",
       "        vertical-align: middle;\n",
       "    }\n",
       "\n",
       "    .dataframe tbody tr th {\n",
       "        vertical-align: top;\n",
       "    }\n",
       "\n",
       "    .dataframe thead th {\n",
       "        text-align: right;\n",
       "    }\n",
       "</style>\n",
       "<table border=\"1\" class=\"dataframe\">\n",
       "  <thead>\n",
       "    <tr style=\"text-align: right;\">\n",
       "      <th>sub_structure</th>\n",
       "      <th>SPL</th>\n",
       "      <th>SPL</th>\n",
       "      <th>SPL</th>\n",
       "      <th>AnG-s</th>\n",
       "      <th>SFG-l</th>\n",
       "      <th>OrbGyri</th>\n",
       "      <th>GRe</th>\n",
       "      <th>OrbGyri</th>\n",
       "      <th>OrbGyri</th>\n",
       "      <th>GRe</th>\n",
       "      <th>...</th>\n",
       "      <th>CbCx</th>\n",
       "      <th>CbCx</th>\n",
       "      <th>CbCx</th>\n",
       "      <th>CbCx</th>\n",
       "      <th>Caudate</th>\n",
       "      <th>Putamen</th>\n",
       "      <th>Putamen</th>\n",
       "      <th>GP</th>\n",
       "      <th>GP</th>\n",
       "      <th>Caudate</th>\n",
       "    </tr>\n",
       "    <tr>\n",
       "      <th>gene</th>\n",
       "      <th></th>\n",
       "      <th></th>\n",
       "      <th></th>\n",
       "      <th></th>\n",
       "      <th></th>\n",
       "      <th></th>\n",
       "      <th></th>\n",
       "      <th></th>\n",
       "      <th></th>\n",
       "      <th></th>\n",
       "      <th></th>\n",
       "      <th></th>\n",
       "      <th></th>\n",
       "      <th></th>\n",
       "      <th></th>\n",
       "      <th></th>\n",
       "      <th></th>\n",
       "      <th></th>\n",
       "      <th></th>\n",
       "      <th></th>\n",
       "      <th></th>\n",
       "    </tr>\n",
       "  </thead>\n",
       "  <tbody>\n",
       "    <tr>\n",
       "      <th>A1BG</th>\n",
       "      <td>0.011194</td>\n",
       "      <td>0.010637</td>\n",
       "      <td>0.006680</td>\n",
       "      <td>0.006624</td>\n",
       "      <td>0.014408</td>\n",
       "      <td>0.011485</td>\n",
       "      <td>0.012184</td>\n",
       "      <td>0.008673</td>\n",
       "      <td>0.005452</td>\n",
       "      <td>0.011517</td>\n",
       "      <td>...</td>\n",
       "      <td>0.016367</td>\n",
       "      <td>0.019517</td>\n",
       "      <td>0.025355</td>\n",
       "      <td>0.021652</td>\n",
       "      <td>0.008597</td>\n",
       "      <td>0.004800</td>\n",
       "      <td>0.014561</td>\n",
       "      <td>0.008946</td>\n",
       "      <td>0.011106</td>\n",
       "      <td>0.005852</td>\n",
       "    </tr>\n",
       "    <tr>\n",
       "      <th>A1BG-AS1</th>\n",
       "      <td>0.018332</td>\n",
       "      <td>0.016154</td>\n",
       "      <td>0.010716</td>\n",
       "      <td>0.008684</td>\n",
       "      <td>0.015934</td>\n",
       "      <td>0.004627</td>\n",
       "      <td>0.015811</td>\n",
       "      <td>0.009567</td>\n",
       "      <td>0.006772</td>\n",
       "      <td>0.009150</td>\n",
       "      <td>...</td>\n",
       "      <td>0.036212</td>\n",
       "      <td>0.024954</td>\n",
       "      <td>0.035871</td>\n",
       "      <td>0.031312</td>\n",
       "      <td>0.003170</td>\n",
       "      <td>0.002717</td>\n",
       "      <td>0.002133</td>\n",
       "      <td>0.001423</td>\n",
       "      <td>0.000625</td>\n",
       "      <td>0.001036</td>\n",
       "    </tr>\n",
       "    <tr>\n",
       "      <th>A1CF</th>\n",
       "      <td>0.000126</td>\n",
       "      <td>0.000079</td>\n",
       "      <td>0.000165</td>\n",
       "      <td>0.000034</td>\n",
       "      <td>0.000187</td>\n",
       "      <td>0.000077</td>\n",
       "      <td>0.000036</td>\n",
       "      <td>0.000000</td>\n",
       "      <td>0.000000</td>\n",
       "      <td>0.000062</td>\n",
       "      <td>...</td>\n",
       "      <td>0.000778</td>\n",
       "      <td>0.000598</td>\n",
       "      <td>0.000680</td>\n",
       "      <td>0.000749</td>\n",
       "      <td>0.000058</td>\n",
       "      <td>0.000000</td>\n",
       "      <td>0.000023</td>\n",
       "      <td>0.000063</td>\n",
       "      <td>0.000010</td>\n",
       "      <td>0.000022</td>\n",
       "    </tr>\n",
       "    <tr>\n",
       "      <th>A2LD1</th>\n",
       "      <td>0.003853</td>\n",
       "      <td>0.006276</td>\n",
       "      <td>0.004937</td>\n",
       "      <td>0.003001</td>\n",
       "      <td>0.005220</td>\n",
       "      <td>0.004913</td>\n",
       "      <td>0.005040</td>\n",
       "      <td>0.002486</td>\n",
       "      <td>0.002257</td>\n",
       "      <td>0.003414</td>\n",
       "      <td>...</td>\n",
       "      <td>0.008609</td>\n",
       "      <td>0.006781</td>\n",
       "      <td>0.007862</td>\n",
       "      <td>0.004426</td>\n",
       "      <td>0.002740</td>\n",
       "      <td>0.002169</td>\n",
       "      <td>0.003489</td>\n",
       "      <td>0.003922</td>\n",
       "      <td>0.002082</td>\n",
       "      <td>0.002789</td>\n",
       "    </tr>\n",
       "    <tr>\n",
       "      <th>A2M</th>\n",
       "      <td>0.151248</td>\n",
       "      <td>0.180798</td>\n",
       "      <td>0.154388</td>\n",
       "      <td>0.065665</td>\n",
       "      <td>0.239243</td>\n",
       "      <td>0.183631</td>\n",
       "      <td>0.168100</td>\n",
       "      <td>0.201794</td>\n",
       "      <td>0.203660</td>\n",
       "      <td>0.173383</td>\n",
       "      <td>...</td>\n",
       "      <td>0.285683</td>\n",
       "      <td>0.357846</td>\n",
       "      <td>0.271383</td>\n",
       "      <td>0.313836</td>\n",
       "      <td>0.191314</td>\n",
       "      <td>0.122652</td>\n",
       "      <td>0.150343</td>\n",
       "      <td>0.170788</td>\n",
       "      <td>0.104944</td>\n",
       "      <td>0.178982</td>\n",
       "    </tr>\n",
       "  </tbody>\n",
       "</table>\n",
       "<p>5 rows × 121 columns</p>\n",
       "</div>"
      ],
      "text/plain": [
       "sub_structure       SPL       SPL       SPL     AnG-s     SFG-l   OrbGyri  \\\n",
       "gene                                                                        \n",
       "A1BG           0.011194  0.010637  0.006680  0.006624  0.014408  0.011485   \n",
       "A1BG-AS1       0.018332  0.016154  0.010716  0.008684  0.015934  0.004627   \n",
       "A1CF           0.000126  0.000079  0.000165  0.000034  0.000187  0.000077   \n",
       "A2LD1          0.003853  0.006276  0.004937  0.003001  0.005220  0.004913   \n",
       "A2M            0.151248  0.180798  0.154388  0.065665  0.239243  0.183631   \n",
       "\n",
       "sub_structure       GRe   OrbGyri   OrbGyri       GRe    ...         CbCx  \\\n",
       "gene                                                     ...                \n",
       "A1BG           0.012184  0.008673  0.005452  0.011517    ...     0.016367   \n",
       "A1BG-AS1       0.015811  0.009567  0.006772  0.009150    ...     0.036212   \n",
       "A1CF           0.000036  0.000000  0.000000  0.000062    ...     0.000778   \n",
       "A2LD1          0.005040  0.002486  0.002257  0.003414    ...     0.008609   \n",
       "A2M            0.168100  0.201794  0.203660  0.173383    ...     0.285683   \n",
       "\n",
       "sub_structure      CbCx      CbCx      CbCx   Caudate   Putamen   Putamen  \\\n",
       "gene                                                                        \n",
       "A1BG           0.019517  0.025355  0.021652  0.008597  0.004800  0.014561   \n",
       "A1BG-AS1       0.024954  0.035871  0.031312  0.003170  0.002717  0.002133   \n",
       "A1CF           0.000598  0.000680  0.000749  0.000058  0.000000  0.000023   \n",
       "A2LD1          0.006781  0.007862  0.004426  0.002740  0.002169  0.003489   \n",
       "A2M            0.357846  0.271383  0.313836  0.191314  0.122652  0.150343   \n",
       "\n",
       "sub_structure        GP        GP   Caudate  \n",
       "gene                                         \n",
       "A1BG           0.008946  0.011106  0.005852  \n",
       "A1BG-AS1       0.001423  0.000625  0.001036  \n",
       "A1CF           0.000063  0.000010  0.000022  \n",
       "A2LD1          0.003922  0.002082  0.002789  \n",
       "A2M            0.170788  0.104944  0.178982  \n",
       "\n",
       "[5 rows x 121 columns]"
      ]
     },
     "execution_count": 3,
     "metadata": {},
     "output_type": "execute_result"
    }
   ],
   "source": [
    "# From the Allen Brain Institute\n",
    "df = pd.read_csv('data/rnaseq_donor9861/RNAseqTPM.csv',header=None,index_col=0)\n",
    "df.index.name = 'gene'\n",
    "df = df.loc[df.sum(axis=1)>0] # Only keep genes expressed in the brain\n",
    "annotation = pd.read_csv('data/rnaseq_donor9861/SampleAnnot.csv')\n",
    "df.columns = annotation['sub_structure']\n",
    "df = df.div(df.std())\n",
    "df = df.iloc[:1000] # First 1000 genes\n",
    "df.head()"
   ]
  },
  {
   "cell_type": "code",
   "execution_count": 4,
   "metadata": {
    "slideshow": {
     "slide_type": "slide"
    }
   },
   "outputs": [
    {
     "data": {
      "text/html": [
       "<div>\n",
       "<style scoped>\n",
       "    .dataframe tbody tr th:only-of-type {\n",
       "        vertical-align: middle;\n",
       "    }\n",
       "\n",
       "    .dataframe tbody tr th {\n",
       "        vertical-align: top;\n",
       "    }\n",
       "\n",
       "    .dataframe thead th {\n",
       "        text-align: right;\n",
       "    }\n",
       "</style>\n",
       "<table border=\"1\" class=\"dataframe\">\n",
       "  <thead>\n",
       "    <tr style=\"text-align: right;\">\n",
       "      <th></th>\n",
       "      <th>PC 1</th>\n",
       "      <th>PC 2</th>\n",
       "      <th>PC 3</th>\n",
       "    </tr>\n",
       "    <tr>\n",
       "      <th>gene</th>\n",
       "      <th></th>\n",
       "      <th></th>\n",
       "      <th></th>\n",
       "    </tr>\n",
       "  </thead>\n",
       "  <tbody>\n",
       "    <tr>\n",
       "      <th>A1BG</th>\n",
       "      <td>-0.000489</td>\n",
       "      <td>0.000507</td>\n",
       "      <td>0.001313</td>\n",
       "    </tr>\n",
       "    <tr>\n",
       "      <th>A1BG-AS1</th>\n",
       "      <td>-0.001043</td>\n",
       "      <td>0.000817</td>\n",
       "      <td>-0.000199</td>\n",
       "    </tr>\n",
       "    <tr>\n",
       "      <th>A1CF</th>\n",
       "      <td>-0.000011</td>\n",
       "      <td>0.000039</td>\n",
       "      <td>-0.000011</td>\n",
       "    </tr>\n",
       "    <tr>\n",
       "      <th>A2LD1</th>\n",
       "      <td>-0.000115</td>\n",
       "      <td>0.000150</td>\n",
       "      <td>0.000149</td>\n",
       "    </tr>\n",
       "    <tr>\n",
       "      <th>A2M</th>\n",
       "      <td>-0.004028</td>\n",
       "      <td>0.004772</td>\n",
       "      <td>-0.003601</td>\n",
       "    </tr>\n",
       "  </tbody>\n",
       "</table>\n",
       "</div>"
      ],
      "text/plain": [
       "              PC 1      PC 2      PC 3\n",
       "gene                                  \n",
       "A1BG     -0.000489  0.000507  0.001313\n",
       "A1BG-AS1 -0.001043  0.000817 -0.000199\n",
       "A1CF     -0.000011  0.000039 -0.000011\n",
       "A2LD1    -0.000115  0.000150  0.000149\n",
       "A2M      -0.004028  0.004772 -0.003601"
      ]
     },
     "execution_count": 4,
     "metadata": {},
     "output_type": "execute_result"
    }
   ],
   "source": [
    "pca = PCA(n_components=3).fit(df.T.values)\n",
    "pc_report(pca,df.T).head()"
   ]
  },
  {
   "cell_type": "code",
   "execution_count": 5,
   "metadata": {
    "slideshow": {
     "slide_type": "fragment"
    }
   },
   "outputs": [
    {
     "data": {
      "image/png": "[encoded data removed]",
      "text/plain": [
       "<matplotlib.figure.Figure at 0x10bb56860>"
      ]
     },
     "metadata": {},
     "output_type": "display_data"
    }
   ],
   "source": [
    "plt.figure(figsize=(12,3))\n",
    "plt.pcolor(pca.components_,vmin=-0.01,vmax=0.01,cmap='RdBu_r')\n",
    "plt.yticks(np.arange(3)+0.5,['PC %d' % (i+1) for i in range(3)])\n",
    "plt.colorbar();"
   ]
  },
  {
   "cell_type": "markdown",
   "metadata": {
    "slideshow": {
     "slide_type": "slide"
    }
   },
   "source": [
    "## Solution: force each new dimensions to utilize only a few old dimensions"
   ]
  },
  {
   "cell_type": "code",
   "execution_count": 6,
   "metadata": {
    "slideshow": {
     "slide_type": "fragment"
    }
   },
   "outputs": [
    {
     "data": {
      "text/html": [
       "<div>\n",
       "<style scoped>\n",
       "    .dataframe tbody tr th:only-of-type {\n",
       "        vertical-align: middle;\n",
       "    }\n",
       "\n",
       "    .dataframe tbody tr th {\n",
       "        vertical-align: top;\n",
       "    }\n",
       "\n",
       "    .dataframe thead th {\n",
       "        text-align: right;\n",
       "    }\n",
       "</style>\n",
       "<table border=\"1\" class=\"dataframe\">\n",
       "  <thead>\n",
       "    <tr style=\"text-align: right;\">\n",
       "      <th></th>\n",
       "      <th>PC 1</th>\n",
       "      <th>PC 2</th>\n",
       "      <th>PC 3</th>\n",
       "    </tr>\n",
       "    <tr>\n",
       "      <th>gene</th>\n",
       "      <th></th>\n",
       "      <th></th>\n",
       "      <th></th>\n",
       "    </tr>\n",
       "  </thead>\n",
       "  <tbody>\n",
       "    <tr>\n",
       "      <th>A1BG</th>\n",
       "      <td>0.000000</td>\n",
       "      <td>0.0</td>\n",
       "      <td>0.0</td>\n",
       "    </tr>\n",
       "    <tr>\n",
       "      <th>A1BG-AS1</th>\n",
       "      <td>0.000000</td>\n",
       "      <td>0.0</td>\n",
       "      <td>0.0</td>\n",
       "    </tr>\n",
       "    <tr>\n",
       "      <th>A1CF</th>\n",
       "      <td>0.000000</td>\n",
       "      <td>0.0</td>\n",
       "      <td>0.0</td>\n",
       "    </tr>\n",
       "    <tr>\n",
       "      <th>A2LD1</th>\n",
       "      <td>0.000000</td>\n",
       "      <td>0.0</td>\n",
       "      <td>0.0</td>\n",
       "    </tr>\n",
       "    <tr>\n",
       "      <th>A2M</th>\n",
       "      <td>-0.108026</td>\n",
       "      <td>0.0</td>\n",
       "      <td>0.0</td>\n",
       "    </tr>\n",
       "  </tbody>\n",
       "</table>\n",
       "</div>"
      ],
      "text/plain": [
       "              PC 1  PC 2  PC 3\n",
       "gene                          \n",
       "A1BG      0.000000   0.0   0.0\n",
       "A1BG-AS1  0.000000   0.0   0.0\n",
       "A1CF      0.000000   0.0   0.0\n",
       "A2LD1     0.000000   0.0   0.0\n",
       "A2M      -0.108026   0.0   0.0"
      ]
     },
     "execution_count": 6,
     "metadata": {},
     "output_type": "execute_result"
    }
   ],
   "source": [
    "from sklearn.decomposition import SparsePCA\n",
    "sparse_pca = SparsePCA(alpha=2,n_components=3).fit(df.T.values)\n",
    "pc_report(sparse_pca,df.T).head()"
   ]
  },
  {
   "cell_type": "code",
   "execution_count": 7,
   "metadata": {
    "slideshow": {
     "slide_type": "fragment"
    }
   },
   "outputs": [
    {
     "data": {
      "image/png": "[encoded data removed]",
      "text/plain": [
       "<matplotlib.figure.Figure at 0x10aadeda0>"
      ]
     },
     "metadata": {},
     "output_type": "display_data"
    }
   ],
   "source": [
    "plt.figure(figsize=(12,3))\n",
    "plt.pcolor(sparse_pca.components_,vmin=-0.001,vmax=0.001,cmap='RdBu_r')\n",
    "plt.yticks(np.arange(3)+0.5,['PC %d' % (i+1) for i in range(3)])\n",
    "plt.colorbar();"
   ]
  },
  {
   "cell_type": "code",
   "execution_count": 8,
   "metadata": {
    "slideshow": {
     "slide_type": "slide"
    }
   },
   "outputs": [
    {
     "data": {
      "text/plain": [
       "['ACBD7',\n",
       " 'ACTB',\n",
       " 'ACTG1',\n",
       " 'AGT',\n",
       " 'AGXT2L1',\n",
       " 'AHCYL1',\n",
       " 'AIF1L',\n",
       " 'ALDH2',\n",
       " 'ALDH4A1',\n",
       " 'ALDOC',\n",
       " 'ANKRD40',\n",
       " 'ANXA5',\n",
       " 'APLP1',\n",
       " 'APOC1',\n",
       " 'APOD',\n",
       " 'APOE',\n",
       " 'AQP4',\n",
       " 'ARL2']"
      ]
     },
     "execution_count": 8,
     "metadata": {},
     "output_type": "execute_result"
    }
   ],
   "source": [
    "pcs = pc_report(sparse_pca,df.T)\n",
    "list(pcs[pcs['PC 3']!=0].index.values) # List the genes that contribute to PC3"
   ]
  },
  {
   "cell_type": "markdown",
   "metadata": {
    "slideshow": {
     "slide_type": "slide"
    }
   },
   "source": [
    "## Problem 2: when negative values don't make any sense"
   ]
  },
  {
   "cell_type": "markdown",
   "metadata": {
    "slideshow": {
     "slide_type": "fragment"
    }
   },
   "source": [
    "## Solution: use a non-negative decomposition"
   ]
  },
  {
   "cell_type": "code",
   "execution_count": 9,
   "metadata": {
    "slideshow": {
     "slide_type": "fragment"
    }
   },
   "outputs": [],
   "source": [
    "from sklearn.decomposition import NMF"
   ]
  },
  {
   "cell_type": "markdown",
   "metadata": {
    "slideshow": {
     "slide_type": "slide"
    }
   },
   "source": [
    "![pca-faces](https://archive.cnx.org/resources/28b7669c052b1d7ec07962bb69aa5cc3733eb868/PCA_Face.png)"
   ]
  },
  {
   "cell_type": "markdown",
   "metadata": {
    "slideshow": {
     "slide_type": "slide"
    }
   },
   "source": [
    "![nmf-faces](https://archive.cnx.org/resources/86d95a5d66974426fb30f0ab24d91bd901dbbc83/NMF_Face.png)"
   ]
  },
  {
   "cell_type": "markdown",
   "metadata": {
    "slideshow": {
     "slide_type": "slide"
    }
   },
   "source": [
    "![odors](http://journals.plos.org/plosone/article/figure/image?size=large&id=10.1371/journal.pone.0073289.g006)"
   ]
  },
  {
   "cell_type": "markdown",
   "metadata": {
    "slideshow": {
     "slide_type": "slide"
    }
   },
   "source": [
    "## Problem #3: My data values are all relative to each other!"
   ]
  },
  {
   "cell_type": "code",
   "execution_count": 10,
   "metadata": {
    "slideshow": {
     "slide_type": "slide"
    }
   },
   "outputs": [
    {
     "data": {
      "text/html": [
       "<div>\n",
       "<style scoped>\n",
       "    .dataframe tbody tr th:only-of-type {\n",
       "        vertical-align: middle;\n",
       "    }\n",
       "\n",
       "    .dataframe tbody tr th {\n",
       "        vertical-align: top;\n",
       "    }\n",
       "\n",
       "    .dataframe thead th {\n",
       "        text-align: right;\n",
       "    }\n",
       "</style>\n",
       "<table border=\"1\" class=\"dataframe\">\n",
       "  <thead>\n",
       "    <tr style=\"text-align: right;\">\n",
       "      <th></th>\n",
       "      <th>GFR</th>\n",
       "      <th>BEL</th>\n",
       "      <th>BUL</th>\n",
       "      <th>DEN</th>\n",
       "      <th>EST</th>\n",
       "      <th>FIN</th>\n",
       "      <th>FRN</th>\n",
       "      <th>GRC</th>\n",
       "      <th>IRE</th>\n",
       "      <th>ITA</th>\n",
       "      <th>...</th>\n",
       "      <th>RUM</th>\n",
       "      <th>SWD</th>\n",
       "      <th>SLO</th>\n",
       "      <th>SLV</th>\n",
       "      <th>SPN</th>\n",
       "      <th>CZE</th>\n",
       "      <th>HUN</th>\n",
       "      <th>UK</th>\n",
       "      <th>CYP</th>\n",
       "      <th>CRO</th>\n",
       "    </tr>\n",
       "  </thead>\n",
       "  <tbody>\n",
       "    <tr>\n",
       "      <th>GFR</th>\n",
       "      <td>0</td>\n",
       "      <td>202</td>\n",
       "      <td>1526</td>\n",
       "      <td>662</td>\n",
       "      <td>1498</td>\n",
       "      <td>1568</td>\n",
       "      <td>415</td>\n",
       "      <td>1872</td>\n",
       "      <td>988</td>\n",
       "      <td>1085</td>\n",
       "      <td>...</td>\n",
       "      <td>1581</td>\n",
       "      <td>1213</td>\n",
       "      <td>763</td>\n",
       "      <td>707</td>\n",
       "      <td>1398</td>\n",
       "      <td>523</td>\n",
       "      <td>943</td>\n",
       "      <td>506</td>\n",
       "      <td>2694</td>\n",
       "      <td>862</td>\n",
       "    </tr>\n",
       "    <tr>\n",
       "      <th>BEL</th>\n",
       "      <td>202</td>\n",
       "      <td>0</td>\n",
       "      <td>1707</td>\n",
       "      <td>781</td>\n",
       "      <td>1635</td>\n",
       "      <td>1697</td>\n",
       "      <td>266</td>\n",
       "      <td>2036</td>\n",
       "      <td>806</td>\n",
       "      <td>1190</td>\n",
       "      <td>...</td>\n",
       "      <td>1776</td>\n",
       "      <td>1323</td>\n",
       "      <td>961</td>\n",
       "      <td>880</td>\n",
       "      <td>1278</td>\n",
       "      <td>725</td>\n",
       "      <td>1139</td>\n",
       "      <td>313</td>\n",
       "      <td>2876</td>\n",
       "      <td>1034</td>\n",
       "    </tr>\n",
       "    <tr>\n",
       "      <th>BUL</th>\n",
       "      <td>1526</td>\n",
       "      <td>1707</td>\n",
       "      <td>0</td>\n",
       "      <td>1645</td>\n",
       "      <td>1890</td>\n",
       "      <td>1997</td>\n",
       "      <td>1771</td>\n",
       "      <td>453</td>\n",
       "      <td>2511</td>\n",
       "      <td>893</td>\n",
       "      <td>...</td>\n",
       "      <td>317</td>\n",
       "      <td>1921</td>\n",
       "      <td>819</td>\n",
       "      <td>829</td>\n",
       "      <td>2264</td>\n",
       "      <td>1114</td>\n",
       "      <td>644</td>\n",
       "      <td>2020</td>\n",
       "      <td>1169</td>\n",
       "      <td>679</td>\n",
       "    </tr>\n",
       "    <tr>\n",
       "      <th>DEN</th>\n",
       "      <td>662</td>\n",
       "      <td>781</td>\n",
       "      <td>1645</td>\n",
       "      <td>0</td>\n",
       "      <td>856</td>\n",
       "      <td>916</td>\n",
       "      <td>1044</td>\n",
       "      <td>2074</td>\n",
       "      <td>1245</td>\n",
       "      <td>1554</td>\n",
       "      <td>...</td>\n",
       "      <td>1567</td>\n",
       "      <td>552</td>\n",
       "      <td>847</td>\n",
       "      <td>1017</td>\n",
       "      <td>2052</td>\n",
       "      <td>577</td>\n",
       "      <td>1004</td>\n",
       "      <td>935</td>\n",
       "      <td>2741</td>\n",
       "      <td>1137</td>\n",
       "    </tr>\n",
       "    <tr>\n",
       "      <th>EST</th>\n",
       "      <td>1498</td>\n",
       "      <td>1635</td>\n",
       "      <td>1890</td>\n",
       "      <td>856</td>\n",
       "      <td>0</td>\n",
       "      <td>108</td>\n",
       "      <td>1896</td>\n",
       "      <td>2340</td>\n",
       "      <td>2015</td>\n",
       "      <td>2165</td>\n",
       "      <td>...</td>\n",
       "      <td>1672</td>\n",
       "      <td>381</td>\n",
       "      <td>1320</td>\n",
       "      <td>1601</td>\n",
       "      <td>2896</td>\n",
       "      <td>1196</td>\n",
       "      <td>1382</td>\n",
       "      <td>1780</td>\n",
       "      <td>2745</td>\n",
       "      <td>1658</td>\n",
       "    </tr>\n",
       "  </tbody>\n",
       "</table>\n",
       "<p>5 rows × 28 columns</p>\n",
       "</div>"
      ],
      "text/plain": [
       "      GFR   BEL   BUL   DEN   EST   FIN   FRN   GRC   IRE   ITA  ...    RUM  \\\n",
       "GFR     0   202  1526   662  1498  1568   415  1872   988  1085  ...   1581   \n",
       "BEL   202     0  1707   781  1635  1697   266  2036   806  1190  ...   1776   \n",
       "BUL  1526  1707     0  1645  1890  1997  1771   453  2511   893  ...    317   \n",
       "DEN   662   781  1645     0   856   916  1044  2074  1245  1554  ...   1567   \n",
       "EST  1498  1635  1890   856     0   108  1896  2340  2015  2165  ...   1672   \n",
       "\n",
       "      SWD   SLO   SLV   SPN   CZE   HUN    UK   CYP   CRO  \n",
       "GFR  1213   763   707  1398   523   943   506  2694   862  \n",
       "BEL  1323   961   880  1278   725  1139   313  2876  1034  \n",
       "BUL  1921   819   829  2264  1114   644  2020  1169   679  \n",
       "DEN   552   847  1017  2052   577  1004   935  2741  1137  \n",
       "EST   381  1320  1601  2896  1196  1382  1780  2745  1658  \n",
       "\n",
       "[5 rows x 28 columns]"
      ]
     },
     "execution_count": 10,
     "metadata": {},
     "output_type": "execute_result"
    }
   ],
   "source": [
    "raw_df = pd.read_csv('data/capdist.csv').set_index(['ida','idb'])\n",
    "europe = ['GFR','BEL','BUL','DEN','EST','FIN','FRN','GRC','IRE','ITA','LAT','LIT',\n",
    "          'LUX','MLT','NTH','AUS','POL','POR','RUM','SWD','SLO','SLV','SPN','CZE',\n",
    "          'HUN','UK','CYP','CRO']\n",
    "df = pd.DataFrame(index=europe,columns=europe)\n",
    "for country1 in europe:\n",
    "    for country2 in europe:\n",
    "        if country1==country2:\n",
    "            df.loc[country1,country2] = 0\n",
    "        else:\n",
    "            df.loc[country1,country2] = raw_df.loc[(country1,country2),'kmdist']\n",
    "df.head() # My data is the distances (in kilometers) between each country in Europe"
   ]
  },
  {
   "cell_type": "markdown",
   "metadata": {
    "slideshow": {
     "slide_type": "slide"
    }
   },
   "source": [
    "## Solution: use multi-dimensional scaling"
   ]
  },
  {
   "cell_type": "code",
   "execution_count": 11,
   "metadata": {
    "slideshow": {
     "slide_type": "fragment"
    }
   },
   "outputs": [
    {
     "data": {
      "text/html": [
       "<div>\n",
       "<style scoped>\n",
       "    .dataframe tbody tr th:only-of-type {\n",
       "        vertical-align: middle;\n",
       "    }\n",
       "\n",
       "    .dataframe tbody tr th {\n",
       "        vertical-align: top;\n",
       "    }\n",
       "\n",
       "    .dataframe thead th {\n",
       "        text-align: right;\n",
       "    }\n",
       "</style>\n",
       "<table border=\"1\" class=\"dataframe\">\n",
       "  <thead>\n",
       "    <tr style=\"text-align: right;\">\n",
       "      <th></th>\n",
       "      <th>PC 1</th>\n",
       "      <th>PC 2</th>\n",
       "    </tr>\n",
       "  </thead>\n",
       "  <tbody>\n",
       "    <tr>\n",
       "      <th>GFR</th>\n",
       "      <td>-29.891617</td>\n",
       "      <td>-502.101987</td>\n",
       "    </tr>\n",
       "    <tr>\n",
       "      <th>BEL</th>\n",
       "      <td>-91.471113</td>\n",
       "      <td>-694.460662</td>\n",
       "    </tr>\n",
       "    <tr>\n",
       "      <th>BUL</th>\n",
       "      <td>-294.946182</td>\n",
       "      <td>999.922559</td>\n",
       "    </tr>\n",
       "    <tr>\n",
       "      <th>DEN</th>\n",
       "      <td>618.280121</td>\n",
       "      <td>-368.690332</td>\n",
       "    </tr>\n",
       "    <tr>\n",
       "      <th>EST</th>\n",
       "      <td>1352.649511</td>\n",
       "      <td>72.054874</td>\n",
       "    </tr>\n",
       "  </tbody>\n",
       "</table>\n",
       "</div>"
      ],
      "text/plain": [
       "            PC 1        PC 2\n",
       "GFR   -29.891617 -502.101987\n",
       "BEL   -91.471113 -694.460662\n",
       "BUL  -294.946182  999.922559\n",
       "DEN   618.280121 -368.690332\n",
       "EST  1352.649511   72.054874"
      ]
     },
     "execution_count": 11,
     "metadata": {},
     "output_type": "execute_result"
    }
   ],
   "source": [
    "from sklearn.manifold.mds import MDS\n",
    "mds = MDS(dissimilarity='precomputed').fit(df.values)\n",
    "mds_df = pd.DataFrame(mds.embedding_,index=europe,columns=['PC 1','PC 2'])\n",
    "mds_df.head()"
   ]
  },
  {
   "cell_type": "code",
   "execution_count": 12,
   "metadata": {
    "slideshow": {
     "slide_type": "slide"
    }
   },
   "outputs": [
    {
     "data": {
      "image/png": "[encoded data removed]",
      "text/plain": [
       "<matplotlib.figure.Figure at 0x10b890d68>"
      ]
     },
     "metadata": {},
     "output_type": "display_data"
    }
   ],
   "source": [
    "ax = mds_df.plot.scatter(x='PC 1',y='PC 2',figsize=(12,12))\n",
    "annotate_scatter(ax,mds_df)"
   ]
  }
 ],
 "metadata": {
  "celltoolbar": "Slideshow",
  "kernelspec": {
   "display_name": "Python 3",
   "language": "python",
   "name": "python3"
  },
  "language_info": {
   "codemirror_mode": {
    "name": "ipython",
    "version": 3
   },
   "file_extension": ".py",
   "mimetype": "text/x-python",
   "name": "python",
   "nbconvert_exporter": "python",
   "pygments_lexer": "ipython3",
   "version": "3.5.2"
  }
 },
 "nbformat": 4,
 "nbformat_minor": 2
}
